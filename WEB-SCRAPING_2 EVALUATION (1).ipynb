{
 "cells": [
  {
   "cell_type": "code",
   "execution_count": 1,
   "id": "7d68e6fc",
   "metadata": {},
   "outputs": [],
   "source": [
    "import selenium\n",
    "import pandas as pd\n",
    "from selenium import webdriver\n",
    "import warnings\n",
    "warnings.filterwarnings('ignore')\n",
    "from selenium.webdriver.common.by import By\n",
    "import time\n"
   ]
  },
  {
   "cell_type": "code",
   "execution_count": 25,
   "id": "8a2e38de",
   "metadata": {},
   "outputs": [],
   "source": [
    "#Q1: In this question you have to scrape data using the filters available on the webpage You have to use the location andsalary filter\n",
    "driver=webdriver.Chrome()"
   ]
  },
  {
   "cell_type": "code",
   "execution_count": 26,
   "id": "d32fe2a0",
   "metadata": {},
   "outputs": [],
   "source": [
    "driver.get('https://www.naukri.com/')# opening naukri page in chrome browser"
   ]
  },
  {
   "cell_type": "code",
   "execution_count": 27,
   "id": "8b70d5e9",
   "metadata": {},
   "outputs": [],
   "source": [
    "job_title = driver.find_element(By.CLASS_NAME,\"suggestor-input \")#entering the job_title and location as required\n",
    "job_title.send_keys('Data Scientist')"
   ]
  },
  {
   "cell_type": "code",
   "execution_count": 28,
   "id": "0d309b3e",
   "metadata": {},
   "outputs": [],
   "source": [
    "search = driver.find_element(By.CLASS_NAME,\"qsbSubmit\")# enter the serch button\n",
    "search.click()"
   ]
  },
  {
   "cell_type": "code",
   "execution_count": 32,
   "id": "fdc9f7f7",
   "metadata": {},
   "outputs": [],
   "source": [
    "search = driver.find_element(By.XPATH,\"/html/body/div/div/main/div[1]/div[1]/div/div/div[2]/div[1]/div[2]/div[4]/label/p/span[1]\")# SELECT DELHI/NCR LOCATION\n",
    "search.click()"
   ]
  },
  {
   "cell_type": "code",
   "execution_count": 33,
   "id": "fb95667f",
   "metadata": {},
   "outputs": [],
   "source": [
    "search = driver.find_element(By.XPATH,\"/html/body/div/div/main/div[1]/div[1]/div/div/div[2]/div[6]/div[2]/div[2]/label/p/span[1]\")# SELECT 3-6 LAKH SALARY\n",
    "search.click()"
   ]
  },
  {
   "cell_type": "code",
   "execution_count": 34,
   "id": "e5c154de",
   "metadata": {},
   "outputs": [],
   "source": [
    "job_title=[]\n",
    "job_location=[]\n",
    "company_name=[]\n",
    "exe_required=[]\n",
    "\n"
   ]
  },
  {
   "cell_type": "code",
   "execution_count": 35,
   "id": "52cf91c0",
   "metadata": {},
   "outputs": [],
   "source": [
    "#scraping job title,location,company name, exeperience from the given page\n",
    "title_tags=driver.find_elements(By.XPATH,'//div[@class=\"cust-job-tuple layout-wrapper lay-2 sjw__tuple \"]/div/a')\n",
    "title_tags[0:10]\n",
    "for i in title_tags[0:10]:\n",
    "    title=i.text\n",
    "    job_title.append(title)\n",
    "    \n",
    "location_tags=driver.find_elements(By.XPATH,'//span[@class=\"locWdth\"]')\n",
    "location_tags[0:10]\n",
    "for i in location_tags[0:10]:\n",
    "    location=i.text\n",
    "    job_location.append(location)\n",
    "    \n",
    "company_tags=driver.find_elements(By.XPATH,'//div[@class=\" row2\"]/span/a[1]')\n",
    "company_tags[0:10]\n",
    "for i in company_tags[0:10]:\n",
    "    company=i.text\n",
    "    company_name.append(company)\n",
    "    \n",
    "exp_tags=driver.find_elements(By.XPATH,'//span[@class=\"expwdth\"]')\n",
    "exp_tags[0:10]\n",
    "for i in exp_tags[0:10]:\n",
    "    exp=i.text\n",
    "    exe_required.append(exp)"
   ]
  },
  {
   "cell_type": "code",
   "execution_count": 36,
   "id": "3506701c",
   "metadata": {},
   "outputs": [
    {
     "name": "stdout",
     "output_type": "stream",
     "text": [
      "10 10 10 10\n"
     ]
    }
   ],
   "source": [
    "print(len(job_title),len(job_location),len(company_name),len(exe_required))"
   ]
  },
  {
   "cell_type": "code",
   "execution_count": 37,
   "id": "6e5cf14b",
   "metadata": {},
   "outputs": [
    {
     "data": {
      "text/html": [
       "<div>\n",
       "<style scoped>\n",
       "    .dataframe tbody tr th:only-of-type {\n",
       "        vertical-align: middle;\n",
       "    }\n",
       "\n",
       "    .dataframe tbody tr th {\n",
       "        vertical-align: top;\n",
       "    }\n",
       "\n",
       "    .dataframe thead th {\n",
       "        text-align: right;\n",
       "    }\n",
       "</style>\n",
       "<table border=\"1\" class=\"dataframe\">\n",
       "  <thead>\n",
       "    <tr style=\"text-align: right;\">\n",
       "      <th></th>\n",
       "      <th>TITLE</th>\n",
       "      <th>LOCATION</th>\n",
       "      <th>COMPANY</th>\n",
       "      <th>EXEPERIENCE</th>\n",
       "    </tr>\n",
       "  </thead>\n",
       "  <tbody>\n",
       "    <tr>\n",
       "      <th>0</th>\n",
       "      <td>Data Scientist</td>\n",
       "      <td>Mumbai, Hyderabad, Gurugram</td>\n",
       "      <td>Deloitte</td>\n",
       "      <td>3-6 Yrs</td>\n",
       "    </tr>\n",
       "    <tr>\n",
       "      <th>1</th>\n",
       "      <td>Data Scientist</td>\n",
       "      <td>Gurugram, Bengaluru</td>\n",
       "      <td>Blackbuck</td>\n",
       "      <td>3-7 Yrs</td>\n",
       "    </tr>\n",
       "    <tr>\n",
       "      <th>2</th>\n",
       "      <td>Lead Data Scientist</td>\n",
       "      <td>Kolkata, Mumbai, New Delhi, Hyderabad/Secunder...</td>\n",
       "      <td>Elitefit.ai</td>\n",
       "      <td>3-7 Yrs</td>\n",
       "    </tr>\n",
       "    <tr>\n",
       "      <th>3</th>\n",
       "      <td>Data Scientist</td>\n",
       "      <td>Kolkata, Mumbai, New Delhi, Hyderabad, Pune, C...</td>\n",
       "      <td>Fort Technologies</td>\n",
       "      <td>1-3 Yrs</td>\n",
       "    </tr>\n",
       "    <tr>\n",
       "      <th>4</th>\n",
       "      <td>JOB Opening // Data science // Neosoft Mumbai ...</td>\n",
       "      <td>Noida, Mumbai, Pune</td>\n",
       "      <td>NeoSOFT</td>\n",
       "      <td>4-7 Yrs</td>\n",
       "    </tr>\n",
       "    <tr>\n",
       "      <th>5</th>\n",
       "      <td>Lead Customer Success - Data Scientist</td>\n",
       "      <td>Pune, Gurugram</td>\n",
       "      <td>ZS Associates</td>\n",
       "      <td>2-4 Yrs</td>\n",
       "    </tr>\n",
       "    <tr>\n",
       "      <th>6</th>\n",
       "      <td>Data Scientist</td>\n",
       "      <td>Noida</td>\n",
       "      <td>Innovaccer</td>\n",
       "      <td>2-7 Yrs</td>\n",
       "    </tr>\n",
       "    <tr>\n",
       "      <th>7</th>\n",
       "      <td>Data Scientist</td>\n",
       "      <td>Noida</td>\n",
       "      <td>Times Internet</td>\n",
       "      <td>3-8 Yrs</td>\n",
       "    </tr>\n",
       "    <tr>\n",
       "      <th>8</th>\n",
       "      <td>Python and ML Trainer</td>\n",
       "      <td>Hyderabad, New Delhi, Pune, Gurugram, Bengaluru</td>\n",
       "      <td>The Scholar</td>\n",
       "      <td>3-8 Yrs</td>\n",
       "    </tr>\n",
       "    <tr>\n",
       "      <th>9</th>\n",
       "      <td>Data Scientist</td>\n",
       "      <td>Gurugram, Bengaluru</td>\n",
       "      <td>Acenet</td>\n",
       "      <td>3-4 Yrs</td>\n",
       "    </tr>\n",
       "  </tbody>\n",
       "</table>\n",
       "</div>"
      ],
      "text/plain": [
       "                                               TITLE  \\\n",
       "0                                     Data Scientist   \n",
       "1                                     Data Scientist   \n",
       "2                                Lead Data Scientist   \n",
       "3                                     Data Scientist   \n",
       "4  JOB Opening // Data science // Neosoft Mumbai ...   \n",
       "5             Lead Customer Success - Data Scientist   \n",
       "6                                     Data Scientist   \n",
       "7                                     Data Scientist   \n",
       "8                              Python and ML Trainer   \n",
       "9                                     Data Scientist   \n",
       "\n",
       "                                            LOCATION            COMPANY  \\\n",
       "0                        Mumbai, Hyderabad, Gurugram           Deloitte   \n",
       "1                                Gurugram, Bengaluru          Blackbuck   \n",
       "2  Kolkata, Mumbai, New Delhi, Hyderabad/Secunder...        Elitefit.ai   \n",
       "3  Kolkata, Mumbai, New Delhi, Hyderabad, Pune, C...  Fort Technologies   \n",
       "4                                Noida, Mumbai, Pune            NeoSOFT   \n",
       "5                                     Pune, Gurugram      ZS Associates   \n",
       "6                                              Noida         Innovaccer   \n",
       "7                                              Noida     Times Internet   \n",
       "8    Hyderabad, New Delhi, Pune, Gurugram, Bengaluru        The Scholar   \n",
       "9                                Gurugram, Bengaluru             Acenet   \n",
       "\n",
       "  EXEPERIENCE  \n",
       "0     3-6 Yrs  \n",
       "1     3-7 Yrs  \n",
       "2     3-7 Yrs  \n",
       "3     1-3 Yrs  \n",
       "4     4-7 Yrs  \n",
       "5     2-4 Yrs  \n",
       "6     2-7 Yrs  \n",
       "7     3-8 Yrs  \n",
       "8     3-8 Yrs  \n",
       "9     3-4 Yrs  "
      ]
     },
     "execution_count": 37,
     "metadata": {},
     "output_type": "execute_result"
    }
   ],
   "source": [
    "df=pd.DataFrame({'TITLE':job_title,'LOCATION':job_location,'COMPANY':company_name,'EXEPERIENCE':exe_required})\n",
    "df"
   ]
  },
  {
   "cell_type": "code",
   "execution_count": 38,
   "id": "01837a9d",
   "metadata": {},
   "outputs": [],
   "source": [
    "#Q2: Write a python program to scrape data for “Data Scientist” Job position in “Bangalore” location. You have to scrape the job-title, job-location, company_name, experience_required. You have to scrape first 10 jobs data.\n",
    "driver=webdriver.Chrome()"
   ]
  },
  {
   "cell_type": "code",
   "execution_count": 39,
   "id": "53ac771e",
   "metadata": {},
   "outputs": [],
   "source": [
    "driver.get('https://www.shine.com/new/job-search')# opening shine page in chrome browser"
   ]
  },
  {
   "cell_type": "code",
   "execution_count": 41,
   "id": "f7b0e81e",
   "metadata": {},
   "outputs": [],
   "source": [
    "job_title = driver.find_element(By.CLASS_NAME,\"form-control  \")#entering the job_title and location as required\n",
    "job_title.send_keys('Data Scientist')"
   ]
  },
  {
   "cell_type": "code",
   "execution_count": 42,
   "id": "f16b6069",
   "metadata": {},
   "outputs": [],
   "source": [
    "location = driver.find_element(By.XPATH,\"/html/body/div/div[2]/div/div/div[1]/div[1]/div/div[2]/div/div/form/div/div[1]/ul/li[2]/div/input\")\n",
    "location.send_keys('Banglore')"
   ]
  },
  {
   "cell_type": "code",
   "execution_count": 49,
   "id": "a921c494",
   "metadata": {},
   "outputs": [],
   "source": [
    "search = driver.find_element(By.CLASS_NAME,\"searchForm_btnWrap_advance__VYBHN\")# enter the serch button\n",
    "search.click()"
   ]
  },
  {
   "cell_type": "code",
   "execution_count": 50,
   "id": "b0b55434",
   "metadata": {},
   "outputs": [],
   "source": [
    "job_title=[]\n",
    "job_location=[]\n",
    "company_name=[]\n",
    "exe_required=[]"
   ]
  },
  {
   "cell_type": "code",
   "execution_count": 52,
   "id": "d1a59d65",
   "metadata": {},
   "outputs": [],
   "source": [
    "#scraping job title,location,company name, exeperience from the given page\n",
    "\n",
    "title_tags=driver.find_elements(By.XPATH,'//h2[@itemprop=\"name\"]')\n",
    "title_tags[0:10]\n",
    "for i in title_tags[0:10]:\n",
    "    title=i.text\n",
    "    job_title.append(title)\n",
    "            \n",
    "location_tags=driver.find_elements(By.XPATH,'//div[@class=\" jobCard_jobCard_lists_item__YxRkV jobCard_locationIcon__zrWt2\"]')\n",
    "location_tags[0:10]\n",
    "for i in location_tags[0:10]:\n",
    "    location=i.text\n",
    "    job_location.append(location)\n",
    "        \n",
    "company_tags=driver.find_elements(By.XPATH,'//div[@class=\"jobCard_jobCard_cName__mYnow\"]')\n",
    "company_tags[0:10]\n",
    "for i in company_tags[0:10]:\n",
    "    company=i.text\n",
    "    company_name.append(company)\n",
    "        \n",
    "exp_tags=driver.find_elements(By.XPATH,'//div[@class=\" jobCard_jobCard_lists_item__YxRkV jobCard_jobIcon__3FB1t\"]')\n",
    "exp_tags[0:10]\n",
    "for i in exp_tags[0:10]:\n",
    "    exp=i.text\n",
    "    exe_required.append(exp)\n"
   ]
  },
  {
   "cell_type": "code",
   "execution_count": 53,
   "id": "831e5a15",
   "metadata": {},
   "outputs": [
    {
     "name": "stdout",
     "output_type": "stream",
     "text": [
      "10 10 10 10\n"
     ]
    }
   ],
   "source": [
    "print(len(job_title),len(job_location),len(company_name),len(exe_required))"
   ]
  },
  {
   "cell_type": "code",
   "execution_count": 54,
   "id": "68daa1ff",
   "metadata": {},
   "outputs": [
    {
     "data": {
      "text/html": [
       "<div>\n",
       "<style scoped>\n",
       "    .dataframe tbody tr th:only-of-type {\n",
       "        vertical-align: middle;\n",
       "    }\n",
       "\n",
       "    .dataframe tbody tr th {\n",
       "        vertical-align: top;\n",
       "    }\n",
       "\n",
       "    .dataframe thead th {\n",
       "        text-align: right;\n",
       "    }\n",
       "</style>\n",
       "<table border=\"1\" class=\"dataframe\">\n",
       "  <thead>\n",
       "    <tr style=\"text-align: right;\">\n",
       "      <th></th>\n",
       "      <th>TITLE</th>\n",
       "      <th>LOCATION</th>\n",
       "      <th>COMPANY</th>\n",
       "      <th>EXEPERIENCE</th>\n",
       "    </tr>\n",
       "  </thead>\n",
       "  <tbody>\n",
       "    <tr>\n",
       "      <th>0</th>\n",
       "      <td>Data Scientist Opening</td>\n",
       "      <td>Canada\\n+15</td>\n",
       "      <td>renuka interprises</td>\n",
       "      <td>0 to 4 Yrs</td>\n",
       "    </tr>\n",
       "    <tr>\n",
       "      <th>1</th>\n",
       "      <td>Data Scientist Opening</td>\n",
       "      <td>Canada\\n+15</td>\n",
       "      <td>renuka interprises</td>\n",
       "      <td>0 to 4 Yrs</td>\n",
       "    </tr>\n",
       "    <tr>\n",
       "      <th>2</th>\n",
       "      <td>Data Scientist Recruitment</td>\n",
       "      <td>Mumbai City\\n+9</td>\n",
       "      <td>radhika enterprises</td>\n",
       "      <td>0 to 4 Yrs</td>\n",
       "    </tr>\n",
       "    <tr>\n",
       "      <th>3</th>\n",
       "      <td>Data Scientist</td>\n",
       "      <td>Gurugram\\n+8</td>\n",
       "      <td>techno endura</td>\n",
       "      <td>0 to 2 Yrs</td>\n",
       "    </tr>\n",
       "    <tr>\n",
       "      <th>4</th>\n",
       "      <td>ML Data Scientist</td>\n",
       "      <td>Bangalore\\n+3</td>\n",
       "      <td>gujarat facility services hiring fo...</td>\n",
       "      <td>5 to 8 Yrs</td>\n",
       "    </tr>\n",
       "    <tr>\n",
       "      <th>5</th>\n",
       "      <td>Data Scientist Urgent Vacancy</td>\n",
       "      <td>Canada\\n+15</td>\n",
       "      <td>renuka interprises</td>\n",
       "      <td>0 to 4 Yrs</td>\n",
       "    </tr>\n",
       "    <tr>\n",
       "      <th>6</th>\n",
       "      <td>Clinical Data Associate</td>\n",
       "      <td>Gurugram\\n+6</td>\n",
       "      <td>techno endura</td>\n",
       "      <td>0 to 1 Yr</td>\n",
       "    </tr>\n",
       "    <tr>\n",
       "      <th>7</th>\n",
       "      <td>Data Scientist</td>\n",
       "      <td>Gurugram\\n+4</td>\n",
       "      <td>acme services private limited</td>\n",
       "      <td>3 to 5 Yrs</td>\n",
       "    </tr>\n",
       "    <tr>\n",
       "      <th>8</th>\n",
       "      <td>Data Scientist Recruitment</td>\n",
       "      <td>Canada\\n+15</td>\n",
       "      <td>renuka interprises</td>\n",
       "      <td>0 to 4 Yrs</td>\n",
       "    </tr>\n",
       "    <tr>\n",
       "      <th>9</th>\n",
       "      <td>Data Scientist Recruitment</td>\n",
       "      <td>Canada\\n+15</td>\n",
       "      <td>renuka interprises</td>\n",
       "      <td>0 to 4 Yrs</td>\n",
       "    </tr>\n",
       "  </tbody>\n",
       "</table>\n",
       "</div>"
      ],
      "text/plain": [
       "                           TITLE         LOCATION  \\\n",
       "0         Data Scientist Opening      Canada\\n+15   \n",
       "1         Data Scientist Opening      Canada\\n+15   \n",
       "2     Data Scientist Recruitment  Mumbai City\\n+9   \n",
       "3                 Data Scientist     Gurugram\\n+8   \n",
       "4              ML Data Scientist    Bangalore\\n+3   \n",
       "5  Data Scientist Urgent Vacancy      Canada\\n+15   \n",
       "6        Clinical Data Associate     Gurugram\\n+6   \n",
       "7                 Data Scientist     Gurugram\\n+4   \n",
       "8     Data Scientist Recruitment      Canada\\n+15   \n",
       "9     Data Scientist Recruitment      Canada\\n+15   \n",
       "\n",
       "                                  COMPANY EXEPERIENCE  \n",
       "0                      renuka interprises  0 to 4 Yrs  \n",
       "1                      renuka interprises  0 to 4 Yrs  \n",
       "2                     radhika enterprises  0 to 4 Yrs  \n",
       "3                           techno endura  0 to 2 Yrs  \n",
       "4  gujarat facility services hiring fo...  5 to 8 Yrs  \n",
       "5                      renuka interprises  0 to 4 Yrs  \n",
       "6                           techno endura   0 to 1 Yr  \n",
       "7           acme services private limited  3 to 5 Yrs  \n",
       "8                      renuka interprises  0 to 4 Yrs  \n",
       "9                      renuka interprises  0 to 4 Yrs  "
      ]
     },
     "execution_count": 54,
     "metadata": {},
     "output_type": "execute_result"
    }
   ],
   "source": [
    "df=pd.DataFrame({'TITLE':job_title,'LOCATION':job_location,'COMPANY':company_name,'EXEPERIENCE':exe_required})\n",
    "df"
   ]
  },
  {
   "cell_type": "code",
   "execution_count": null,
   "id": "b19a2c32",
   "metadata": {},
   "outputs": [],
   "source": [
    "#Q3: Scrape 100 reviews data from flipkart.com for iphone11 phone. You have to go the link: \n",
    "driver=webdriver.Chrome()"
   ]
  },
  {
   "cell_type": "code",
   "execution_count": null,
   "id": "7243e299",
   "metadata": {},
   "outputs": [],
   "source": [
    "driver.get('https://www.flipkart.com/apple-iphone-11-black-64-gb/product-reviews/itm4e5041ba101fd?pid=MOBFWQ6BXGJCEYNY&lid=LSTMOBFWQ6BXGJCEYNYZXSHRJ&marketplace=FLIPKART')"
   ]
  },
  {
   "cell_type": "code",
   "execution_count": null,
   "id": "0d9373eb",
   "metadata": {},
   "outputs": [],
   "source": [
    "Rating=[]\n",
    "Review_summary=[]\n",
    "Full_review=[]\n"
   ]
  },
  {
   "cell_type": "code",
   "execution_count": null,
   "id": "f6c6c67c",
   "metadata": {},
   "outputs": [],
   "source": [
    "rating=driver.find_elements(By.XPATH,'//div[@class=\"_3LWZlK _1BLPMq\"]')\n",
    "for i in rating:\n",
    "    star=i.text\n",
    "    Rating.append(star)\n",
    "    \n",
    "review=driver.find_elements(By.XPATH,'//p[@class=\"_2-N8zT\"]')\n",
    "for i in review:\n",
    "    rev=i.text\n",
    "    Review_summary.append(rev)\n",
    "    \n",
    "full=driver.find_elements(By.XPATH,'//div[@class=\"t-ZTKy\"]')\n",
    "for i in full:\n",
    "    frev=i.text\n",
    "    Full_review.append(frev)"
   ]
  },
  {
   "cell_type": "code",
   "execution_count": null,
   "id": "ea70ce3f",
   "metadata": {},
   "outputs": [],
   "source": [
    "print(len(Rating),len(Review_summary),len(Full_review))"
   ]
  },
  {
   "cell_type": "code",
   "execution_count": null,
   "id": "cad2c037",
   "metadata": {},
   "outputs": [],
   "source": [
    "start=0\n",
    "end=9\n",
    "for page in range(start,end):\n",
    "    rating=driver.find_elements(By.XPATH,'//div[@class=\"_3LWZlK _1BLPMq\"]')\n",
    "    for i in rating:\n",
    "        Rating.append(i.text)\n",
    "    \n",
    "    review=driver.find_elements(By.XPATH,'//p[@class=\"_2-N8zT\"]')\n",
    "    for i in review:\n",
    "        Review_summary.append(i.text)\n",
    "    \n",
    "    full=driver.find_elements(By.XPATH,'//div[@class=\"t-ZTKy\"]')\n",
    "    for i in full:\n",
    "        Full_review.append(i.text)\n",
    "    next_click= driver.find_element(By.CLASS_NAME,\"_1LKTO3\")\n",
    "    next_click.click()\n",
    "    time.sleep(3)\n",
    "            "
   ]
  },
  {
   "cell_type": "code",
   "execution_count": null,
   "id": "ecc19ff6",
   "metadata": {},
   "outputs": [],
   "source": [
    "print(len(Rating),len(Review_summary),len(Full_review))"
   ]
  },
  {
   "cell_type": "code",
   "execution_count": null,
   "id": "28745189",
   "metadata": {},
   "outputs": [],
   "source": [
    "#Q4: Scrape data forfirst 100 sneakers you find whenyouvisitflipkart.com and search for “sneakers” inthe search field\n",
    "driver=webdriver.Chrome()"
   ]
  },
  {
   "cell_type": "code",
   "execution_count": null,
   "id": "f235ad5e",
   "metadata": {},
   "outputs": [],
   "source": [
    "driver.get('https://www.flipkart.com/account/login?ret=/')"
   ]
  },
  {
   "cell_type": "code",
   "execution_count": null,
   "id": "66d6a5fb",
   "metadata": {},
   "outputs": [],
   "source": [
    "product = driver.find_element(By.XPATH,\"/html/body/div/div/div[1]/div[1]/div[2]/div[2]/form/div/div/input\")#entering the product name \n",
    "product.send_keys('Sneakers')"
   ]
  },
  {
   "cell_type": "code",
   "execution_count": null,
   "id": "b6cd77e3",
   "metadata": {},
   "outputs": [],
   "source": [
    "search = driver.find_element(By.CLASS_NAME,\"L0Z3Pu\")# enter the serch button\n",
    "search.click()"
   ]
  },
  {
   "cell_type": "code",
   "execution_count": null,
   "id": "e2358b3c",
   "metadata": {},
   "outputs": [],
   "source": [
    "brand=[]\n",
    "productdescription=[]\n",
    "price=[]"
   ]
  },
  {
   "cell_type": "code",
   "execution_count": null,
   "id": "56923495",
   "metadata": {},
   "outputs": [],
   "source": [
    "start=0\n",
    "end=3\n",
    "for page in range(start,end):\n",
    "    brand_tags=driver.find_elements(By.XPATH,'//div[@class=\"_2WkVRV\"]')\n",
    "    for i in brand_tags:\n",
    "        name=i.text\n",
    "        brand.append(name)\n",
    "\n",
    "    productdescription_tags=driver.find_elements(By.XPATH,'//a[@class=\"IRpwTa\"]')\n",
    "    for i in productdescription_tags:\n",
    "        description=i.text\n",
    "        productdescription.append(description)\n",
    "\n",
    "    price_tags=driver.find_elements(By.XPATH,'//div[@class=\"_30jeq3\"]')\n",
    "    for i in price_tags:\n",
    "        rate=i.text\n",
    "        price.append(rate)\n",
    "    next_click= driver.find_element(By.CLASS_NAME,\"_1LKTO3\")\n",
    "    next_click.click()\n",
    "    time.sleep(3)"
   ]
  },
  {
   "cell_type": "code",
   "execution_count": null,
   "id": "5d0986b7",
   "metadata": {},
   "outputs": [],
   "source": [
    "print(len(brand),len(productdescription),len(price))"
   ]
  },
  {
   "cell_type": "code",
   "execution_count": null,
   "id": "1e6dd565",
   "metadata": {},
   "outputs": [],
   "source": [
    "brand,productdescription,price"
   ]
  },
  {
   "cell_type": "code",
   "execution_count": null,
   "id": "71884bc1",
   "metadata": {},
   "outputs": [],
   "source": [
    "#Q5: Go to webpage https://www.amazon.in/ Enter “Laptop” in the search field and then click the search icon. Then set CPU Type filter to “Intel Core i7” as shown in the below image:\n",
    "driver=webdriver.Chrome()"
   ]
  },
  {
   "cell_type": "code",
   "execution_count": null,
   "id": "87d5b20d",
   "metadata": {},
   "outputs": [],
   "source": [
    "driver.get('https://www.amazon.in/')"
   ]
  },
  {
   "cell_type": "code",
   "execution_count": null,
   "id": "b3fbb458",
   "metadata": {},
   "outputs": [],
   "source": [
    "item = driver.find_element(By.XPATH,\"/html/body/div[1]/header/div/div[1]/div[2]/div/form/div[2]/div[1]/input\")\n",
    "item.send_keys('laptop')\n"
   ]
  },
  {
   "cell_type": "code",
   "execution_count": null,
   "id": "fa4dc116",
   "metadata": {},
   "outputs": [],
   "source": [
    "search = driver.find_element(By.XPATH,\"/html/body/div[1]/header/div/div[1]/div[2]/div/form/div[3]/div/span/input\")# enter the serch \n",
    "search.click()"
   ]
  },
  {
   "cell_type": "code",
   "execution_count": null,
   "id": "47458356",
   "metadata": {},
   "outputs": [],
   "source": [
    "FEILD = driver.find_element(By.XPATH,\"/html/body/div[1]/div[1]/div[1]/div[2]/div/div[3]/span/div[1]/div/div/div[6]/ul[19]/span/span[9]/li/span/a\")# enter the serch button\n",
    "FEILD.click()"
   ]
  },
  {
   "cell_type": "code",
   "execution_count": null,
   "id": "cb81476e",
   "metadata": {},
   "outputs": [],
   "source": [
    "TITLE=[]\n",
    "RATING=[]\n",
    "PRICE=[]"
   ]
  },
  {
   "cell_type": "code",
   "execution_count": null,
   "id": "61314144",
   "metadata": {},
   "outputs": [],
   "source": [
    "title_tags=driver.find_elements(By.XPATH,'//div[@class=\"a-section a-spacing-none puis-padding-right-small s-title-instructions-style\"]')\n",
    "title_tags[0:10]\n",
    "for i in title_tags[0:10]:\n",
    "    title=i.text\n",
    "    TITLE.append(title)\n",
    "            \n",
    "RATING_tags=driver.find_elements(By.XPATH,'//span[@class=\"a-declarative\"]/a/i')\n",
    "RATING_tags[0:10]\n",
    "for i in RATING_tags[0:10]:\n",
    "    rating=i.text\n",
    "    RATING.append(rating)\n",
    "        \n",
    "PRICE_tags=driver.find_elements(By.XPATH,'//span[@class=\"a-price-whole\"]')\n",
    "PRICE_tags[0:10]\n",
    "for i in PRICE_tags[0:10]:\n",
    "    price=i.text\n",
    "    PRICE.append(price)"
   ]
  },
  {
   "cell_type": "code",
   "execution_count": null,
   "id": "109aa86f",
   "metadata": {},
   "outputs": [],
   "source": [
    "print(len(TITLE),len(RATING),len(PRICE))"
   ]
  },
  {
   "cell_type": "code",
   "execution_count": null,
   "id": "a4bfaa62",
   "metadata": {},
   "outputs": [],
   "source": [
    "TITLE,RATING,PRICE"
   ]
  },
  {
   "cell_type": "code",
   "execution_count": null,
   "id": "74e18194",
   "metadata": {},
   "outputs": [],
   "source": [
    "#Q6: Write a python program to scrape data for Top 1000 Quotes of All Time.\n",
    "driver=webdriver.Chrome()\n"
   ]
  },
  {
   "cell_type": "code",
   "execution_count": null,
   "id": "758e0502",
   "metadata": {},
   "outputs": [],
   "source": [
    "driver.get('https://www.azquotes.com/')"
   ]
  },
  {
   "cell_type": "code",
   "execution_count": null,
   "id": "12113ce9",
   "metadata": {},
   "outputs": [],
   "source": [
    "top_quotes = driver.find_element(By.XPATH,\"/html/body/div[1]/div[2]/div[1]/div/div[3]/ul/li[5]/a\")\n",
    "top_quotes.click()"
   ]
  },
  {
   "cell_type": "code",
   "execution_count": null,
   "id": "dee0ce33",
   "metadata": {},
   "outputs": [],
   "source": [
    "QUOTE=[]\n",
    "AUTHOR=[]\n",
    "TYPES_OF_QUOTE=[]"
   ]
  },
  {
   "cell_type": "code",
   "execution_count": null,
   "id": "90071071",
   "metadata": {},
   "outputs": [],
   "source": [
    "start=0\n",
    "end=10\n",
    "for page in range(start,end):\n",
    "    QUOTE_tags=driver.find_elements(By.XPATH,'//a[@class=\"title\"]')\n",
    "    for i in QUOTE_tags:\n",
    "        name=i.text\n",
    "        QUOTE.append(name)\n",
    "\n",
    "    AUTHOR_tags=driver.find_elements(By.XPATH,'//div[@class=\"author\"]')\n",
    "    for i in AUTHOR_tags:\n",
    "        author=i.text\n",
    "        AUTHOR.append(author)\n",
    "\n",
    "    TYPES_OF_QUOTE_tags=driver.find_elements(By.XPATH,'//div[@class=\"tags\"]')\n",
    "    for i in TYPES_OF_QUOTE_tags:\n",
    "        types=i.text\n",
    "        TYPES_OF_QUOTE.append(types)\n",
    "    next_click = driver.find_element(By.CLASS_NAME,\"next\")\n",
    "    next_click.click()\n",
    "    time.sleep(3)"
   ]
  },
  {
   "cell_type": "code",
   "execution_count": null,
   "id": "2543be1b",
   "metadata": {},
   "outputs": [],
   "source": [
    "print(len(QUOTE),len(AUTHOR),len(TYPES_OF_QUOTE))"
   ]
  },
  {
   "cell_type": "code",
   "execution_count": 17,
   "id": "b3d4afba",
   "metadata": {},
   "outputs": [],
   "source": [
    "#Q7 Write a python program to display list of respected former Prime Ministers of India (i.e. Name,born-Dead, Term of office, Remarks) \n",
    "driver=webdriver.Chrome()\n"
   ]
  },
  {
   "cell_type": "code",
   "execution_count": 18,
   "id": "3244c672",
   "metadata": {},
   "outputs": [],
   "source": [
    "driver.get('https://www.jagranjosh.com/general-knowledge/list-of-all-prime-ministers-of-india-1473165149-1')"
   ]
  },
  {
   "cell_type": "code",
   "execution_count": 21,
   "id": "37f7ef30",
   "metadata": {},
   "outputs": [],
   "source": [
    "A=[]\n",
    "B=[]\n",
    "C=[]\n",
    "D=[]\n",
    "E=[]\n",
    "F=[]\n",
    "G=[]\n",
    "H=[]\n"
   ]
  },
  {
   "cell_type": "code",
   "execution_count": 22,
   "id": "f745b37c",
   "metadata": {},
   "outputs": [],
   "source": [
    "a=driver.find_elements(By.XPATH,'//div[@class=\"TableData\"]/table/tbody/tr[2]')\n",
    "for i in a:\n",
    "    name=i.text\n",
    "    A.append(name)\n",
    "\n",
    "b=driver.find_elements(By.XPATH,'//div[@class=\"TableData\"]/table/tbody/tr[3]')\n",
    "for i in b:\n",
    "    name=i.text\n",
    "    B.append(name)\n",
    "    \n",
    "c=driver.find_elements(By.XPATH,'//div[@class=\"TableData\"]/table/tbody/tr[4]')\n",
    "for i in c:\n",
    "    name=i.text\n",
    "    C.append(name)\n",
    "    \n",
    "d=driver.find_elements(By.XPATH,'//div[@class=\"TableData\"]/table/tbody/tr[5]')\n",
    "for i in d:\n",
    "    name=i.text\n",
    "    D.append(name)\n",
    "    \n",
    "e=driver.find_elements(By.XPATH,'//div[@class=\"TableData\"]/table/tbody/tr[6]')\n",
    "for i in e:\n",
    "    name=i.text\n",
    "    E.append(name)\n",
    "    \n",
    "f=driver.find_elements(By.XPATH,'//div[@class=\"TableData\"]/table/tbody/tr[7]')\n",
    "for i in f:\n",
    "    name=i.text\n",
    "    F.append(name)\n",
    "    \n",
    "\n",
    "g=driver.find_elements(By.XPATH,'//div[@class=\"TableData\"]/table/tbody/tr[8]')\n",
    "for i in g:\n",
    "    name=i.text\n",
    "    G.append(name)\n",
    "    \n",
    "h=driver.find_elements(By.XPATH,'//div[@class=\"TableData\"]/table/tbody/tr[9]')\n",
    "for i in h:\n",
    "    name=i.text\n",
    "    H.append(name)\n",
    "    \n"
   ]
  },
  {
   "cell_type": "code",
   "execution_count": 27,
   "id": "16169447",
   "metadata": {},
   "outputs": [
    {
     "name": "stdout",
     "output_type": "stream",
     "text": [
      "19\n"
     ]
    }
   ],
   "source": [
    "df=pd.DataFrame({'TITLE':job_title,'LOCATION':job_location,'COMPANY':company_name,'EXEPERIENCE':exe_required})\n",
    "df"
   ]
  },
  {
   "cell_type": "code",
   "execution_count": 24,
   "id": "d1b5d682",
   "metadata": {},
   "outputs": [
    {
     "data": {
      "text/plain": [
       "(['1.\\nJawahar Lal Nehru\\n(1889–1964)\\n15 August 1947 to 27 May 1964\\n16 years, 286 days\\nThe first prime minister of India and the longest-serving PM of India, the first to die in office.'],\n",
       " ['2.\\nGulzarilal Nanda (Acting)\\n(1898-1998)\\n27 May 1964 to 9 June 1964,\\n13 days\\nFirst acting PM of India'],\n",
       " [\"3.\\nLal Bahadur Shastri\\n(1904–1966)\\n9 June 1964 to 11 January 1966\\n1 year, 216 days\\nHe has given the slogan of 'Jai Jawan Jai Kisan' during the Indo-Pak war of 1965\"],\n",
       " ['4. \\nGulzari Lal Nanda  (Acting)\\n(1898-1998)\\n11 January 1966 to 24 January 1966\\n13 days\\n-'],\n",
       " ['5.\\nIndira Gandhi\\n(1917–1984)\\n24 January 1966 to 24 March 1977\\n11 years, 59 days\\nFirst female Prime Minister of India'],\n",
       " ['6.\\nMorarji Desai\\n(1896–1995)\\n24 March 1977 to  28 July 1979 \\n2 year, 126 days\\nOldest to become PM (81 years old) and first to resign from office'],\n",
       " ['7.\\nCharan Singh\\n(1902–1987)\\n28 July 1979 to 14 January 1980\\n170 days\\nOnly PM who did not face the Parliament'],\n",
       " ['8.\\nIndira Gandhi\\n(1917–1984)\\n14 January 1980 to 31 October 1984\\n4 years, 291 days\\nThe first lady who served as PM for the second term'])"
      ]
     },
     "execution_count": 24,
     "metadata": {},
     "output_type": "execute_result"
    }
   ],
   "source": [
    "A,B,C,D,E,F,G,H"
   ]
  },
  {
   "cell_type": "code",
   "execution_count": 30,
   "id": "95b577d0",
   "metadata": {},
   "outputs": [
    {
     "ename": "NoSuchWindowException",
     "evalue": "Message: no such window: target window already closed\nfrom unknown error: web view not found\n  (Session info: chrome=122.0.6261.112)\nStacktrace:\n\tGetHandleVerifier [0x00007FF6F483AD32+56930]\n\t(No symbol) [0x00007FF6F47AF632]\n\t(No symbol) [0x00007FF6F46642E5]\n\t(No symbol) [0x00007FF6F4641D4C]\n\t(No symbol) [0x00007FF6F46D23F7]\n\t(No symbol) [0x00007FF6F46E7891]\n\t(No symbol) [0x00007FF6F46CBA43]\n\t(No symbol) [0x00007FF6F469D438]\n\t(No symbol) [0x00007FF6F469E4D1]\n\tGetHandleVerifier [0x00007FF6F4BB6ABD+3709933]\n\tGetHandleVerifier [0x00007FF6F4C0FFFD+4075821]\n\tGetHandleVerifier [0x00007FF6F4C0818F+4043455]\n\tGetHandleVerifier [0x00007FF6F48D9766+706710]\n\t(No symbol) [0x00007FF6F47BB90F]\n\t(No symbol) [0x00007FF6F47B6AF4]\n\t(No symbol) [0x00007FF6F47B6C4C]\n\t(No symbol) [0x00007FF6F47A6904]\n\tBaseThreadInitThunk [0x00007FFFA025257D+29]\n\tRtlUserThreadStart [0x00007FFFA1E0AA58+40]\n",
     "output_type": "error",
     "traceback": [
      "\u001b[1;31m---------------------------------------------------------------------------\u001b[0m",
      "\u001b[1;31mNoSuchWindowException\u001b[0m                     Traceback (most recent call last)",
      "Cell \u001b[1;32mIn[30], line 1\u001b[0m\n\u001b[1;32m----> 1\u001b[0m BORN_dead\u001b[38;5;241m=\u001b[39mdriver\u001b[38;5;241m.\u001b[39mfind_elements(By\u001b[38;5;241m.\u001b[39mXPATH,\u001b[38;5;124m'\u001b[39m\u001b[38;5;124m//th[@valign=\u001b[39m\u001b[38;5;124m\"\u001b[39m\u001b[38;5;124mtop\u001b[39m\u001b[38;5;124m\"\u001b[39m\u001b[38;5;124m]/div/strong\u001b[39m\u001b[38;5;124m'\u001b[39m)\n\u001b[0;32m      2\u001b[0m \u001b[38;5;28;01mfor\u001b[39;00m i \u001b[38;5;129;01min\u001b[39;00m BORN_dead:\n\u001b[0;32m      3\u001b[0m     born\u001b[38;5;241m=\u001b[39mi\u001b[38;5;241m.\u001b[39mtext\n",
      "File \u001b[1;32m~\\anaconda3\\Lib\\site-packages\\selenium\\webdriver\\remote\\webdriver.py:771\u001b[0m, in \u001b[0;36mWebDriver.find_elements\u001b[1;34m(self, by, value)\u001b[0m\n\u001b[0;32m    767\u001b[0m     value \u001b[38;5;241m=\u001b[39m \u001b[38;5;124mf\u001b[39m\u001b[38;5;124m'\u001b[39m\u001b[38;5;124m[name=\u001b[39m\u001b[38;5;124m\"\u001b[39m\u001b[38;5;132;01m{\u001b[39;00mvalue\u001b[38;5;132;01m}\u001b[39;00m\u001b[38;5;124m\"\u001b[39m\u001b[38;5;124m]\u001b[39m\u001b[38;5;124m'\u001b[39m\n\u001b[0;32m    769\u001b[0m \u001b[38;5;66;03m# Return empty list if driver returns null\u001b[39;00m\n\u001b[0;32m    770\u001b[0m \u001b[38;5;66;03m# See https://github.com/SeleniumHQ/selenium/issues/4555\u001b[39;00m\n\u001b[1;32m--> 771\u001b[0m \u001b[38;5;28;01mreturn\u001b[39;00m \u001b[38;5;28mself\u001b[39m\u001b[38;5;241m.\u001b[39mexecute(Command\u001b[38;5;241m.\u001b[39mFIND_ELEMENTS, {\u001b[38;5;124m\"\u001b[39m\u001b[38;5;124musing\u001b[39m\u001b[38;5;124m\"\u001b[39m: by, \u001b[38;5;124m\"\u001b[39m\u001b[38;5;124mvalue\u001b[39m\u001b[38;5;124m\"\u001b[39m: value})[\u001b[38;5;124m\"\u001b[39m\u001b[38;5;124mvalue\u001b[39m\u001b[38;5;124m\"\u001b[39m] \u001b[38;5;129;01mor\u001b[39;00m []\n",
      "File \u001b[1;32m~\\anaconda3\\Lib\\site-packages\\selenium\\webdriver\\remote\\webdriver.py:347\u001b[0m, in \u001b[0;36mWebDriver.execute\u001b[1;34m(self, driver_command, params)\u001b[0m\n\u001b[0;32m    345\u001b[0m response \u001b[38;5;241m=\u001b[39m \u001b[38;5;28mself\u001b[39m\u001b[38;5;241m.\u001b[39mcommand_executor\u001b[38;5;241m.\u001b[39mexecute(driver_command, params)\n\u001b[0;32m    346\u001b[0m \u001b[38;5;28;01mif\u001b[39;00m response:\n\u001b[1;32m--> 347\u001b[0m     \u001b[38;5;28mself\u001b[39m\u001b[38;5;241m.\u001b[39merror_handler\u001b[38;5;241m.\u001b[39mcheck_response(response)\n\u001b[0;32m    348\u001b[0m     response[\u001b[38;5;124m\"\u001b[39m\u001b[38;5;124mvalue\u001b[39m\u001b[38;5;124m\"\u001b[39m] \u001b[38;5;241m=\u001b[39m \u001b[38;5;28mself\u001b[39m\u001b[38;5;241m.\u001b[39m_unwrap_value(response\u001b[38;5;241m.\u001b[39mget(\u001b[38;5;124m\"\u001b[39m\u001b[38;5;124mvalue\u001b[39m\u001b[38;5;124m\"\u001b[39m, \u001b[38;5;28;01mNone\u001b[39;00m))\n\u001b[0;32m    349\u001b[0m     \u001b[38;5;28;01mreturn\u001b[39;00m response\n",
      "File \u001b[1;32m~\\anaconda3\\Lib\\site-packages\\selenium\\webdriver\\remote\\errorhandler.py:229\u001b[0m, in \u001b[0;36mErrorHandler.check_response\u001b[1;34m(self, response)\u001b[0m\n\u001b[0;32m    227\u001b[0m         alert_text \u001b[38;5;241m=\u001b[39m value[\u001b[38;5;124m\"\u001b[39m\u001b[38;5;124malert\u001b[39m\u001b[38;5;124m\"\u001b[39m]\u001b[38;5;241m.\u001b[39mget(\u001b[38;5;124m\"\u001b[39m\u001b[38;5;124mtext\u001b[39m\u001b[38;5;124m\"\u001b[39m)\n\u001b[0;32m    228\u001b[0m     \u001b[38;5;28;01mraise\u001b[39;00m exception_class(message, screen, stacktrace, alert_text)  \u001b[38;5;66;03m# type: ignore[call-arg]  # mypy is not smart enough here\u001b[39;00m\n\u001b[1;32m--> 229\u001b[0m \u001b[38;5;28;01mraise\u001b[39;00m exception_class(message, screen, stacktrace)\n",
      "\u001b[1;31mNoSuchWindowException\u001b[0m: Message: no such window: target window already closed\nfrom unknown error: web view not found\n  (Session info: chrome=122.0.6261.112)\nStacktrace:\n\tGetHandleVerifier [0x00007FF6F483AD32+56930]\n\t(No symbol) [0x00007FF6F47AF632]\n\t(No symbol) [0x00007FF6F46642E5]\n\t(No symbol) [0x00007FF6F4641D4C]\n\t(No symbol) [0x00007FF6F46D23F7]\n\t(No symbol) [0x00007FF6F46E7891]\n\t(No symbol) [0x00007FF6F46CBA43]\n\t(No symbol) [0x00007FF6F469D438]\n\t(No symbol) [0x00007FF6F469E4D1]\n\tGetHandleVerifier [0x00007FF6F4BB6ABD+3709933]\n\tGetHandleVerifier [0x00007FF6F4C0FFFD+4075821]\n\tGetHandleVerifier [0x00007FF6F4C0818F+4043455]\n\tGetHandleVerifier [0x00007FF6F48D9766+706710]\n\t(No symbol) [0x00007FF6F47BB90F]\n\t(No symbol) [0x00007FF6F47B6AF4]\n\t(No symbol) [0x00007FF6F47B6C4C]\n\t(No symbol) [0x00007FF6F47A6904]\n\tBaseThreadInitThunk [0x00007FFFA025257D+29]\n\tRtlUserThreadStart [0x00007FFFA1E0AA58+40]\n"
     ]
    }
   ],
   "source": [
    "BORN_dead=driver.find_elements(By.XPATH,'//th[@valign=\"top\"]/div/strong')\n",
    "for i in BORN_dead:\n",
    "    born=i.text\n",
    "    BORN_DEAD.append(born)\n",
    "    \n",
    "TERM_OF_office=driver.find_elements(By.XPATH,'//th[@valign=\"top\"]/div/strong')\n",
    "for i in TERM_OF_office:\n",
    "    term=i.text\n",
    "    TERM_OF_OFFICE.append(term)\n",
    "    \n",
    "Remark=driver.find_elements(By.XPATH,'//th[@valign=\"top\"]/div/strong')\n",
    "for i in Remark:\n",
    "    remark=i.text\n",
    "    REMARK.append(remark)"
   ]
  },
  {
   "cell_type": "code",
   "execution_count": 3,
   "id": "13c230d2",
   "metadata": {},
   "outputs": [],
   "source": [
    "#Q8: Write a python program to display list of 50 Most expensive cars in the world(i.e. Car name and Price) from https://www.motor1.com\n",
    "driver=webdriver.Chrome()"
   ]
  },
  {
   "cell_type": "code",
   "execution_count": 4,
   "id": "3ea72c29",
   "metadata": {},
   "outputs": [],
   "source": [
    "driver.get('https://www.motor1.com/')"
   ]
  },
  {
   "cell_type": "code",
   "execution_count": 6,
   "id": "f8c1aedc",
   "metadata": {},
   "outputs": [],
   "source": [
    "c = driver.find_element(By.XPATH,\"/html/body/div[9]/div[2]/div/div/div[3]/div/div/div/form/input\")\n",
    "c.send_keys('50 most expensive cars')"
   ]
  },
  {
   "cell_type": "code",
   "execution_count": 7,
   "id": "0b6d7b5d",
   "metadata": {},
   "outputs": [],
   "source": [
    "search = driver.find_element(By.XPATH,\"/html/body/div[9]/div[2]/div/div/div[3]/div/div/div/form/button[1]\")# enter the serch button\n",
    "search.click()"
   ]
  },
  {
   "cell_type": "code",
   "execution_count": 8,
   "id": "d280ece2",
   "metadata": {},
   "outputs": [],
   "source": [
    "LINK = driver.find_element(By.XPATH,\"/html/body/div[9]/div[9]/div/div[1]/div/div/div[1]/div/div[1]/h3/a\")\n",
    "LINK.click()"
   ]
  },
  {
   "cell_type": "code",
   "execution_count": 9,
   "id": "937a3a7f",
   "metadata": {},
   "outputs": [],
   "source": [
    "CAR_NAME=[]\n",
    "PRICE=[]\n"
   ]
  },
  {
   "cell_type": "code",
   "execution_count": 16,
   "id": "121cf535",
   "metadata": {},
   "outputs": [],
   "source": [
    "CAR_tags=driver.find_elements(By.XPATH,'//h3[@class=\"subheader\"]')\n",
    "for i in CAR_tags:\n",
    "    title=i.text\n",
    "    CAR_NAME.append(title)\n",
    "    \n",
    "PRICE_tags=driver.find_elements(By.XPATH,'//*[@id=\"p\"]/strong')\n",
    "for i in PRICE_tags:\n",
    "    price=i.text\n",
    "    PRICE.append(price)\n",
    "    "
   ]
  },
  {
   "cell_type": "code",
   "execution_count": 15,
   "id": "a8066717",
   "metadata": {},
   "outputs": [
    {
     "name": "stdout",
     "output_type": "stream",
     "text": [
      "153 1\n"
     ]
    }
   ],
   "source": [
    "print(len(CAR_NAME),len(PRICE))"
   ]
  },
  {
   "cell_type": "code",
   "execution_count": null,
   "id": "31459fa8",
   "metadata": {},
   "outputs": [],
   "source": []
  }
 ],
 "metadata": {
  "kernelspec": {
   "display_name": "Python 3 (ipykernel)",
   "language": "python",
   "name": "python3"
  },
  "language_info": {
   "codemirror_mode": {
    "name": "ipython",
    "version": 3
   },
   "file_extension": ".py",
   "mimetype": "text/x-python",
   "name": "python",
   "nbconvert_exporter": "python",
   "pygments_lexer": "ipython3",
   "version": "3.11.5"
  }
 },
 "nbformat": 4,
 "nbformat_minor": 5
}
