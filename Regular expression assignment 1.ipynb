{
 "cells": [
  {
   "cell_type": "code",
   "execution_count": 1,
   "id": "c221933d",
   "metadata": {},
   "outputs": [],
   "source": [
    "import pandas as pd\n",
    "import re\n",
    "\n"
   ]
  },
  {
   "cell_type": "code",
   "execution_count": 11,
   "id": "cac7d262",
   "metadata": {},
   "outputs": [
    {
     "name": "stdout",
     "output_type": "stream",
     "text": [
      "Python:Exercises::PHP:exercises:\n"
     ]
    }
   ],
   "source": [
    "#Question 1- Write a Python program to replace all occurrences of a space, comma, or dot with a colon.\n",
    "string = 'Python Exercises, PHP exercises.'\n",
    "print(re.sub(\"[ ,.]\",\":\",string ))"
   ]
  },
  {
   "cell_type": "code",
   "execution_count": 9,
   "id": "5a7234cb",
   "metadata": {},
   "outputs": [
    {
     "name": "stdout",
     "output_type": "stream",
     "text": [
      "         SUMMARY\n",
      "0    hello world\n",
      "1           test\n",
      "2  four five six\n"
     ]
    }
   ],
   "source": [
    "#Question 2-  Create a dataframe using the dictionary below and remove everything (commas (,), !, XXXX, ;, etc.) from the columns except words.\n",
    "d = {'SUMMARY' : ['hello, world!','XXXXX test', '123four, five:; six...']}\n",
    "df = pd.DataFrame(d)\n",
    "df['SUMMARY'] = df['SUMMARY'].str.replace('[^a-z\\s]', '', regex=True)\n",
    "print(df)\n"
   ]
  },
  {
   "cell_type": "code",
   "execution_count": 3,
   "id": "efb477ab",
   "metadata": {},
   "outputs": [
    {
     "name": "stdout",
     "output_type": "stream",
     "text": [
      "['veera', 'daughter', 'very', 'intelligent']\n"
     ]
    }
   ],
   "source": [
    "#Question 3 - Create a function in python to find all words that are at least 4 characters long in a string. The use of the re.compile() method is mandatory.\n",
    "def findwords(text):\n",
    "    p = re.compile(r'\\b\\w{4,}\\b')\n",
    "    match = p.findall(text)\n",
    "    return match\n",
    "text = \"veera is my daughter and she is very intelligent.\"\n",
    "result = findwords(text)\n",
    "print(result)"
   ]
  },
  {
   "cell_type": "code",
   "execution_count": 12,
   "id": "2747818a",
   "metadata": {
    "scrolled": false
   },
   "outputs": [
    {
     "name": "stdout",
     "output_type": "stream",
     "text": [
      "['veera', 'and', 'she', 'very']\n"
     ]
    }
   ],
   "source": [
    "#Question 4- Create a function in python to find all three, four, and five character words in a string. The use of the re.compile() method is mandatory.\n",
    "def findwords(text):\n",
    "    p = re.compile(r'\\b\\w{3,5}\\b')\n",
    "    match = p.findall(text)\n",
    "    return match\n",
    "text = \"veera is my daughter and she is very intelligent.\"\n",
    "result = findwords(text)\n",
    "print(result)"
   ]
  },
  {
   "cell_type": "code",
   "execution_count": 38,
   "id": "7e71b800",
   "metadata": {},
   "outputs": [
    {
     "name": "stdout",
     "output_type": "stream",
     "text": [
      "['example com', 'hr@fliprobo com', 'github com', 'Hello Data Science World', 'Data Scientist']\n"
     ]
    }
   ],
   "source": [
    "#Question 5- Create a function in Python to remove the parenthesis in a list of strings. The use of the re.compile() method is mandatory.\n",
    "def remove_parentheses(strings):\n",
    "    pattern = re.compile(r\"[()]\")\n",
    "    modified_strings = []\n",
    "    for string in strings:\n",
    "        modified_string = re.sub(pattern , \"\" , string)\n",
    "        modified_strings.append(modified_string)\n",
    "    return modified_strings\n",
    "\n",
    "\n",
    "sample_text = [\"example (.com)\", \"hr@fliprobo (.com)\", \"github (.com)\", \"Hello (Data Science World)\", \"Data (Scientist)\"]\n",
    "result = remove_parentheses(sample_text)\n",
    "print(result)\n"
   ]
  },
  {
   "cell_type": "code",
   "execution_count": 35,
   "id": "40fd470a",
   "metadata": {},
   "outputs": [
    {
     "name": "stdout",
     "output_type": "stream",
     "text": [
      "[\"example\", \"hr@fliprobo\", \"github\", \"Hello\", \"Data\"]\n"
     ]
    }
   ],
   "source": [
    "# Question 6 - Write a python program to remove the parenthesis area from the text stored in the text file using Regular Expression.\n",
    "with open(\"D:\\sample1.txt\") as file:\n",
    "         for files in file:\n",
    "            print(re.sub(r\" ?\\([^)]+\\)\", \"\", files))"
   ]
  },
  {
   "cell_type": "code",
   "execution_count": 42,
   "id": "5715180f",
   "metadata": {},
   "outputs": [
    {
     "name": "stdout",
     "output_type": "stream",
     "text": [
      "['Importance', 'Of', 'Regular', 'Expressions', 'In', 'Python']\n"
     ]
    }
   ],
   "source": [
    "#Question 7-Write a regular expression in Python to split a string into uppercase letters.\n",
    "text = 'ImportanceOfRegularExpressionsInPython'\n",
    "print(re.findall('[A-Z][^A-Z]*',text))\n"
   ]
  },
  {
   "cell_type": "code",
   "execution_count": 25,
   "id": "3b1dc263",
   "metadata": {},
   "outputs": [
    {
     "name": "stdout",
     "output_type": "stream",
     "text": [
      "RegularExpression 1IsAn 2ImportantTopic 3InPython\n"
     ]
    }
   ],
   "source": [
    "#Question 8-Create a function in python to insert spaces between words starting with numbers.\n",
    "def capitalword_space(text):\n",
    "  return re.sub(r\"(\\d+)([A-Za-z]+)\",r\" \\1\\2\",text)\n",
    "print(capitalword_space(\"RegularExpression1IsAn2ImportantTopic3InPython\"))\n"
   ]
  },
  {
   "cell_type": "code",
   "execution_count": 26,
   "id": "24f00e43",
   "metadata": {},
   "outputs": [
    {
     "name": "stdout",
     "output_type": "stream",
     "text": [
      "RegularExpression 1 IsAn 2 ImportantTopic 3 InPython\n"
     ]
    }
   ],
   "source": [
    "#Question 9 -Create a function in python to insert spaces between words starting with capital letters or with numbers.\n",
    "def capitalwords_digitspaces(text):\n",
    "  return re.sub(r\"(\\d+)([A-Z0-9])\", r\" \\1 \\2\", text)\n",
    "print(capitalwords_digitspaces(\"RegularExpression1IsAn2ImportantTopic3InPython\"))\n"
   ]
  },
  {
   "cell_type": "code",
   "execution_count": 37,
   "id": "62fc96dd",
   "metadata": {},
   "outputs": [
    {
     "data": {
      "text/html": [
       "<div>\n",
       "<style scoped>\n",
       "    .dataframe tbody tr th:only-of-type {\n",
       "        vertical-align: middle;\n",
       "    }\n",
       "\n",
       "    .dataframe tbody tr th {\n",
       "        vertical-align: top;\n",
       "    }\n",
       "\n",
       "    .dataframe thead th {\n",
       "        text-align: right;\n",
       "    }\n",
       "</style>\n",
       "<table border=\"1\" class=\"dataframe\">\n",
       "  <thead>\n",
       "    <tr style=\"text-align: right;\">\n",
       "      <th></th>\n",
       "      <th>Country</th>\n",
       "      <th>Region</th>\n",
       "      <th>Happiness Rank</th>\n",
       "      <th>Happiness Score</th>\n",
       "      <th>Standard Error</th>\n",
       "      <th>Economy (GDP per Capita)</th>\n",
       "      <th>Family</th>\n",
       "      <th>Health (Life Expectancy)</th>\n",
       "      <th>Freedom</th>\n",
       "      <th>Trust (Government Corruption)</th>\n",
       "      <th>Generosity</th>\n",
       "      <th>Dystopia Residual</th>\n",
       "      <th>first_five_letters</th>\n",
       "    </tr>\n",
       "  </thead>\n",
       "  <tbody>\n",
       "    <tr>\n",
       "      <th>0</th>\n",
       "      <td>Switzerland</td>\n",
       "      <td>Western Europe</td>\n",
       "      <td>1</td>\n",
       "      <td>7.587</td>\n",
       "      <td>0.03411</td>\n",
       "      <td>1.39651</td>\n",
       "      <td>1.34951</td>\n",
       "      <td>0.94143</td>\n",
       "      <td>0.66557</td>\n",
       "      <td>0.41978</td>\n",
       "      <td>0.29678</td>\n",
       "      <td>2.51738</td>\n",
       "      <td>Switze</td>\n",
       "    </tr>\n",
       "    <tr>\n",
       "      <th>1</th>\n",
       "      <td>Iceland</td>\n",
       "      <td>Western Europe</td>\n",
       "      <td>2</td>\n",
       "      <td>7.561</td>\n",
       "      <td>0.04884</td>\n",
       "      <td>1.30232</td>\n",
       "      <td>1.40223</td>\n",
       "      <td>0.94784</td>\n",
       "      <td>0.62877</td>\n",
       "      <td>0.14145</td>\n",
       "      <td>0.43630</td>\n",
       "      <td>2.70201</td>\n",
       "      <td>Icelan</td>\n",
       "    </tr>\n",
       "    <tr>\n",
       "      <th>2</th>\n",
       "      <td>Denmark</td>\n",
       "      <td>Western Europe</td>\n",
       "      <td>3</td>\n",
       "      <td>7.527</td>\n",
       "      <td>0.03328</td>\n",
       "      <td>1.32548</td>\n",
       "      <td>1.36058</td>\n",
       "      <td>0.87464</td>\n",
       "      <td>0.64938</td>\n",
       "      <td>0.48357</td>\n",
       "      <td>0.34139</td>\n",
       "      <td>2.49204</td>\n",
       "      <td>Denmar</td>\n",
       "    </tr>\n",
       "    <tr>\n",
       "      <th>3</th>\n",
       "      <td>Norway</td>\n",
       "      <td>Western Europe</td>\n",
       "      <td>4</td>\n",
       "      <td>7.522</td>\n",
       "      <td>0.03880</td>\n",
       "      <td>1.45900</td>\n",
       "      <td>1.33095</td>\n",
       "      <td>0.88521</td>\n",
       "      <td>0.66973</td>\n",
       "      <td>0.36503</td>\n",
       "      <td>0.34699</td>\n",
       "      <td>2.46531</td>\n",
       "      <td>Norway</td>\n",
       "    </tr>\n",
       "    <tr>\n",
       "      <th>4</th>\n",
       "      <td>Canada</td>\n",
       "      <td>North America</td>\n",
       "      <td>5</td>\n",
       "      <td>7.427</td>\n",
       "      <td>0.03553</td>\n",
       "      <td>1.32629</td>\n",
       "      <td>1.32261</td>\n",
       "      <td>0.90563</td>\n",
       "      <td>0.63297</td>\n",
       "      <td>0.32957</td>\n",
       "      <td>0.45811</td>\n",
       "      <td>2.45176</td>\n",
       "      <td>Canada</td>\n",
       "    </tr>\n",
       "  </tbody>\n",
       "</table>\n",
       "</div>"
      ],
      "text/plain": [
       "       Country          Region  Happiness Rank  Happiness Score  \\\n",
       "0  Switzerland  Western Europe               1            7.587   \n",
       "1      Iceland  Western Europe               2            7.561   \n",
       "2      Denmark  Western Europe               3            7.527   \n",
       "3       Norway  Western Europe               4            7.522   \n",
       "4       Canada   North America               5            7.427   \n",
       "\n",
       "   Standard Error  Economy (GDP per Capita)   Family  \\\n",
       "0         0.03411                   1.39651  1.34951   \n",
       "1         0.04884                   1.30232  1.40223   \n",
       "2         0.03328                   1.32548  1.36058   \n",
       "3         0.03880                   1.45900  1.33095   \n",
       "4         0.03553                   1.32629  1.32261   \n",
       "\n",
       "   Health (Life Expectancy)  Freedom  Trust (Government Corruption)  \\\n",
       "0                   0.94143  0.66557                        0.41978   \n",
       "1                   0.94784  0.62877                        0.14145   \n",
       "2                   0.87464  0.64938                        0.48357   \n",
       "3                   0.88521  0.66973                        0.36503   \n",
       "4                   0.90563  0.63297                        0.32957   \n",
       "\n",
       "   Generosity  Dystopia Residual first_five_letters  \n",
       "0     0.29678            2.51738             Switze  \n",
       "1     0.43630            2.70201             Icelan  \n",
       "2     0.34139            2.49204             Denmar  \n",
       "3     0.34699            2.46531             Norway  \n",
       "4     0.45811            2.45176             Canada  "
      ]
     },
     "execution_count": 37,
     "metadata": {},
     "output_type": "execute_result"
    }
   ],
   "source": [
    "#Use the github link below to read the data and create a dataframe. After creating the dataframe extract the first 6 letters of each country and store in the dataframe under a new column called first_five_letters.\n",
    "url = \"https://raw.githubusercontent.com/dsrscientist/DSData/master/happiness_score_dataset.csv\"\n",
    "df = pd.read_csv(url)\n",
    "df['first_five_letters'] = df['Country'].apply(lambda x: x[:6])\n",
    "df.head()"
   ]
  },
  {
   "cell_type": "code",
   "execution_count": 58,
   "id": "340d8ab3",
   "metadata": {},
   "outputs": [
    {
     "name": "stdout",
     "output_type": "stream",
     "text": [
      "found a match!\n",
      "not match\n",
      "not match\n"
     ]
    }
   ],
   "source": [
    "#Question 11- Write a Python program to match a string that contains only upper and lowercase letters, numbers, and underscores.\n",
    "def text_match(text):\n",
    "    pattern = r'^[a-zA-Z0-9_]+$'\n",
    "    if re.search(pattern , text):\n",
    "        return ('found a match!')\n",
    "    else:\n",
    "        return ('not match')\n",
    "        \n",
    "print(text_match('veera_123'))\n",
    "print(text_match('veera 123'))\n",
    "print(text_match('veera@_'))\n"
   ]
  },
  {
   "cell_type": "code",
   "execution_count": 59,
   "id": "3b1cc568",
   "metadata": {},
   "outputs": [
    {
     "name": "stdout",
     "output_type": "stream",
     "text": [
      "found a match!\n",
      "found a match!\n",
      "not match\n"
     ]
    }
   ],
   "source": [
    "#Question 12-Write a Python program where a string will start with a specific number.\n",
    "def text_match(text):\n",
    "    pattern = r'^[0-9]+'\n",
    "    if re.search(pattern , text):\n",
    "        return ('found a match!')\n",
    "    else:\n",
    "        return ('not match')\n",
    "        \n",
    "print(text_match('5-veera'))\n",
    "print(text_match('1veera'))\n",
    "print(text_match('veera'))\n"
   ]
  },
  {
   "cell_type": "code",
   "execution_count": 9,
   "id": "3e451398",
   "metadata": {},
   "outputs": [
    {
     "name": "stdout",
     "output_type": "stream",
     "text": [
      "192.168.9.59\n"
     ]
    }
   ],
   "source": [
    "#Question 13- Write a Python program to remove leading zeros from an IP address\n",
    "ip = \"192.168.09.59\"\n",
    "print(re.sub('\\.[0]*',\".\",ip))\n",
    "\n"
   ]
  },
  {
   "cell_type": "code",
   "execution_count": 167,
   "id": "6a769591",
   "metadata": {},
   "outputs": [
    {
     "name": "stdout",
     "output_type": "stream",
     "text": [
      "['August15th1947 ']\n"
     ]
    }
   ],
   "source": [
    "#Question 14- Write a regular expression in python to match a date string in the form of Month name followed by day number and year stored in a text file.\n",
    "with open(\"D:\\sample.txt\") as file:\n",
    "        for files in file:\n",
    "            text = re.findall(r\"\\b[A-Z][a-z]+\\d{1,2}(?:st|nd|rd|th)?\\d{4}\\b \",files)\n",
    "            print(text)\n",
    "                "
   ]
  },
  {
   "cell_type": "code",
   "execution_count": 9,
   "id": "54e6b81b",
   "metadata": {},
   "outputs": [
    {
     "name": "stdout",
     "output_type": "stream",
     "text": [
      "Searching for \"fox\" in \"The quick brown fox jumps over the lazy dog.\" =\n",
      "match!\n",
      "Searching for \"dog\" in \"The quick brown fox jumps over the lazy dog.\" =\n",
      "match!\n",
      "Searching for \"horse\" in \"The quick brown fox jumps over the lazy dog.\" =\n",
      "not match.\n"
     ]
    }
   ],
   "source": [
    "#Question 15- Write a Python program to search some literals strings in a string.\n",
    "pattern = ['fox','dog','horse']\n",
    "text= 'The quick brown fox jumps over the lazy dog.'\n",
    "for pat in pattern:\n",
    "    print('Searching for \"%s\" in \"%s\" =' %(pat, text),)\n",
    "    if re.search(pat, text):\n",
    "          print('match!')\n",
    "    else:\n",
    "          print('not match.')\n",
    "\n",
    "\n",
    "\n",
    "\n"
   ]
  },
  {
   "cell_type": "code",
   "execution_count": 10,
   "id": "12cf8685",
   "metadata": {},
   "outputs": [
    {
     "name": "stdout",
     "output_type": "stream",
     "text": [
      "Found \"fox\" in \"The quick brown fox jumps over the lazy dog.\" from 16 to 19 \n"
     ]
    }
   ],
   "source": [
    "#Question 16- Write a Python program to search a literals string in a string and also find the location within the original string where the pattern occurs\n",
    "pattern = 'fox'\n",
    "text = 'The quick brown fox jumps over the lazy dog.'\n",
    "match = re.search(pattern, text)\n",
    "s = match.start()\n",
    "e = match.end()\n",
    "print('Found \"%s\" in \"%s\" from %d to %d ' % (match.re.pattern, match.string, s, e))"
   ]
  },
  {
   "cell_type": "code",
   "execution_count": 8,
   "id": "c7f03dbf",
   "metadata": {},
   "outputs": [
    {
     "name": "stdout",
     "output_type": "stream",
     "text": [
      "found \"exercises\"\n",
      "found \"exercises\"\n",
      "found \"exercises\"\n"
     ]
    }
   ],
   "source": [
    "#Question 17- Write a Python program to find the substrings within a string\n",
    "text = 'Python exercises, PHP exercises, C# exercises'\n",
    "pattern = 'exercises'\n",
    "for match in re.findall(pattern, text):\n",
    "    print('found \"%s\"' % match)\n",
    "\n"
   ]
  },
  {
   "cell_type": "code",
   "execution_count": 7,
   "id": "9e5bbe07",
   "metadata": {},
   "outputs": [
    {
     "name": "stdout",
     "output_type": "stream",
     "text": [
      "Found \"exercises\" at 7:16\n",
      "Found \"exercises\" at 22:31\n",
      "Found \"exercises\" at 36:45\n"
     ]
    }
   ],
   "source": [
    "#Question 18 -Write a Python program to find the occurrence and position of the substrings within a string.\n",
    "text = 'Python exercises, PHP exercises, C# exercises'\n",
    "pattern = 'exercises'\n",
    "for match in re.finditer(pattern, text):\n",
    "    s = match.start()\n",
    "    e = match.end()\n",
    "    print('Found \"%s\" at %d:%d' % (text[s:e], s, e))\n",
    "\n"
   ]
  },
  {
   "cell_type": "code",
   "execution_count": 11,
   "id": "a84ee767",
   "metadata": {},
   "outputs": [
    {
     "name": "stdout",
     "output_type": "stream",
     "text": [
      "Original date in YYYY-MM-DD Format:  2024-02-01\n",
      "New date in DD-MM-YYYY Format:  01-02-2024\n"
     ]
    }
   ],
   "source": [
    "#Question 19- Write a Python program to convert a date of yyyy-mm-dd format to dd-mm-yyyy format.\n",
    "def change_date_format(df):\n",
    "        return re.sub(r'(\\d{4})-(\\d{1,2})-(\\d{1,2})', '\\\\3-\\\\2-\\\\1', df)\n",
    "df1 = \"2024-02-01\"\n",
    "print(\"Original date in YYYY-MM-DD Format: \",df1)\n",
    "print(\"New date in DD-MM-YYYY Format: \",change_date_format(df1))"
   ]
  },
  {
   "cell_type": "code",
   "execution_count": 95,
   "id": "c602827b",
   "metadata": {},
   "outputs": [
    {
     "name": "stdout",
     "output_type": "stream",
     "text": [
      "['01.12', '0132.12', '2.31', '145.8', '3.01', '27.25', '0.25']\n"
     ]
    }
   ],
   "source": [
    "#Question 20- Create a function in python to find all decimal numbers with a precision of 1 or 2 in a string. The use of the re.compile() method is mandatory.\n",
    "\n",
    "def find_decimal_numbers(text):\n",
    "    pattern = re.compile(r'\\d+\\.\\d{1,2}')\n",
    "    decimalnumbers = re.findall(pattern,text)\n",
    "    return decimalnumbers\n",
    "text = \"01.12 0132.123 2.31875 145.8 3.01 27.25 0.25\"\n",
    "output = find_decimal_numbers(text)\n",
    "print(output)\n"
   ]
  },
  {
   "cell_type": "code",
   "execution_count": 96,
   "id": "7db2d2bb",
   "metadata": {},
   "outputs": [
    {
     "name": "stdout",
     "output_type": "stream",
     "text": [
      "['veera', 'daughter', 'very', 'intelligent']\n"
     ]
    }
   ],
   "source": [
    "def findwords(text):\n",
    "    p = re.compile(r'\\b\\w{4,}\\b')\n",
    "    match = p.findall(text)\n",
    "    return match\n",
    "text = \"veera is my daughter and she is very intelligent.\"\n",
    "result = findwords(text)\n",
    "print(result)"
   ]
  },
  {
   "cell_type": "code",
   "execution_count": 82,
   "id": "781d47bd",
   "metadata": {},
   "outputs": [
    {
     "name": "stdout",
     "output_type": "stream",
     "text": [
      "2\n",
      "position: 28\n",
      "5\n",
      "position: 60\n"
     ]
    }
   ],
   "source": [
    "#question 21-Write a Python program to separate and print the numbers and their position of a given string.\n",
    "text = \"veera is my daughter she is 2 year old and her birthdate is 5 jan.\"\n",
    "for v in re.finditer(\"\\d+\", text):\n",
    "    print(v.group(0))\n",
    "    print(\"position:\", v.start())\n"
   ]
  },
  {
   "cell_type": "code",
   "execution_count": 83,
   "id": "98b0337a",
   "metadata": {},
   "outputs": [
    {
     "name": "stdout",
     "output_type": "stream",
     "text": [
      "Max_value: 950\n"
     ]
    }
   ],
   "source": [
    "#Question 22- Write a regular expression in python program to extract maximum/largest numeric value from a string.\n",
    "string='My marks in each semester are: 947, 896, 926, 524, 734, 950, 642'\n",
    "number = re.findall('\\d+', string)\n",
    "number = map(int, number)\n",
    "print(\"Max_value:\",max(number))"
   ]
  },
  {
   "cell_type": "code",
   "execution_count": 54,
   "id": "04250968",
   "metadata": {},
   "outputs": [
    {
     "name": "stdout",
     "output_type": "stream",
     "text": [
      "Regular Expression Is An Important Topic In Python\n"
     ]
    }
   ],
   "source": [
    "#Question 23- Create a function in python to insert spaces between words starting with capital letters.\n",
    "def capitalwords_digitspaces(text):\n",
    "  return re.sub(r\"(\\w)([A-Z])\", r\"\\1 \\2\", text)\n",
    "print(capitalwords_digitspaces(\"RegularExpressionIsAnImportantTopicInPython\"))"
   ]
  },
  {
   "cell_type": "code",
   "execution_count": 57,
   "id": "a8608261",
   "metadata": {},
   "outputs": [
    {
     "name": "stdout",
     "output_type": "stream",
     "text": [
      "['Daughter', 'She', 'Her', 'Birthdate', 'Jan']\n"
     ]
    }
   ],
   "source": [
    "#Question 24- Python regex to find sequences of one upper case letter followed by lower case letters\n",
    "pattern = r'[A-Z][a-z]+'\n",
    "text = \"veera is my Daughter.She is 2 year old and Her Birthdate is 5 Jan.\"\n",
    "v = re.findall(pattern, text)\n",
    "print(v)"
   ]
  },
  {
   "cell_type": "code",
   "execution_count": 58,
   "id": "0c29dd5c",
   "metadata": {},
   "outputs": [
    {
     "name": "stdout",
     "output_type": "stream",
     "text": [
      "Hello hello world\n"
     ]
    }
   ],
   "source": [
    "#Question 25- Write a Python program to remove continuous duplicate words from Sentence using Regular Expression.\n",
    "def remove_duplicates(sentence):\n",
    "  pattern = r'\\b(\\w+)(\\s+\\1\\b)+'\n",
    "  result = re.sub(pattern, r'\\1', sentence)\n",
    "  return result\n",
    "sentence = \"Hello hello world world\"\n",
    "output = remove_duplicates(sentence)\n",
    "print(output)\n"
   ]
  },
  {
   "cell_type": "code",
   "execution_count": 63,
   "id": "ffc0f203",
   "metadata": {},
   "outputs": [
    {
     "name": "stdout",
     "output_type": "stream",
     "text": [
      "found a match\n",
      "not match\n",
      "found a match\n",
      "found a match\n",
      "found a match\n",
      "found a match\n"
     ]
    }
   ],
   "source": [
    "#Question 26-  Write a python program using RegEx to accept string ending with alphanumeric character.\n",
    "def text_match(text):\n",
    "    pattern = r\"\\w$\"\n",
    "    if re.search(pattern,text):\n",
    "        return( 'found a match')\n",
    "    else:\n",
    "        return('not match')\n",
    "    \n",
    "print(text_match('acccc')) \n",
    "print(text_match('abbc@'))\n",
    "print(text_match('bhavikacb1'))\n",
    "print(text_match('bhavika123')) \n",
    "print(text_match('akash'))\n",
    "print(text_match('veerab'))\n"
   ]
  },
  {
   "cell_type": "code",
   "execution_count": 64,
   "id": "84ea4445",
   "metadata": {},
   "outputs": [
    {
     "name": "stdout",
     "output_type": "stream",
     "text": [
      "['#Doltiwal', '#xyzabc', '#Demonetization']\n"
     ]
    }
   ],
   "source": [
    "#Question 27-Write a python program using RegEx to extract the hashtags.\n",
    "def extract_hashtags(text):\n",
    "  hashtags = re.findall(r'#\\w+', text)\n",
    "  return hashtags\n",
    "text = 'RT @kapil_kausik: #Doltiwal I mean #xyzabc is \"hurt\" by #Demonetization as the same has rendered USELESS <ed><U+00A0><U+00BD><ed><U+00B1><U+0089> \"acquired funds\" No wo'\n",
    "hashtags = extract_hashtags(text)\n",
    "print(hashtags)"
   ]
  },
  {
   "cell_type": "code",
   "execution_count": 65,
   "id": "b8d4ad8f",
   "metadata": {},
   "outputs": [
    {
     "name": "stdout",
     "output_type": "stream",
     "text": [
      "@Jags123456 Bharat band on 28??<ed><ed>Those who are protesting #demonetization are all different party leaders\n"
     ]
    }
   ],
   "source": [
    "#Question 28- Write a python program using RegEx to remove <U+..> like symbols\n",
    "input_text = \"@Jags123456 Bharat band on 28??<ed><U+00A0><U+00BD><ed><U+00B8><U+0082>Those who are protesting #demonetization are all different party leaders\"\n",
    "pattern = r\"<U\\+\\w{4}>\"\n",
    "output_text = re.sub(pattern, \"\", input_text)\n",
    "print(output_text)"
   ]
  },
  {
   "cell_type": "code",
   "execution_count": 67,
   "id": "326e7a62",
   "metadata": {},
   "outputs": [
    {
     "name": "stdout",
     "output_type": "stream",
     "text": [
      "12-09-1992\n",
      "15-12-1999\n"
     ]
    }
   ],
   "source": [
    "#Question 29- Write a python program to extract dates from the text stored in the text file.\n",
    "with open('D:\\sample2.txt') as file:\n",
    "  text = file.read()\n",
    "pattern = r'\\d{2}-\\d{2}-\\d{4}'\n",
    "dates = re.findall(pattern, text)\n",
    "for date in dates:\n",
    "  print(date)"
   ]
  },
  {
   "cell_type": "code",
   "execution_count": 79,
   "id": "05fd30a1",
   "metadata": {},
   "outputs": [
    {
     "name": "stdout",
     "output_type": "stream",
     "text": [
      " following example creates ArrayList a capacity elements. 4 elements added ArrayList ArrayList trimmed accordingly.\n"
     ]
    }
   ],
   "source": [
    "#Question 30- Create a function in python to remove all words from a string of length between 2 and 4.\n",
    "text = \"The following example creates an ArrayList with a capacity of 50 elements. 4 elements are then added to the ArrayList and the ArrayList is trimmed accordingly.\"\n",
    "remove = re.compile(r'\\W*\\b\\w{2,4}\\b')\n",
    "print(remove.sub('', text))\n"
   ]
  },
  {
   "cell_type": "code",
   "execution_count": null,
   "id": "485b14bd",
   "metadata": {},
   "outputs": [],
   "source": []
  }
 ],
 "metadata": {
  "kernelspec": {
   "display_name": "Python 3 (ipykernel)",
   "language": "python",
   "name": "python3"
  },
  "language_info": {
   "codemirror_mode": {
    "name": "ipython",
    "version": 3
   },
   "file_extension": ".py",
   "mimetype": "text/x-python",
   "name": "python",
   "nbconvert_exporter": "python",
   "pygments_lexer": "ipython3",
   "version": "3.11.5"
  }
 },
 "nbformat": 4,
 "nbformat_minor": 5
}
