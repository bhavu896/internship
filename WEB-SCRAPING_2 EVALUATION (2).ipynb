{
 "cells": [
  {
   "cell_type": "code",
   "execution_count": 1,
   "id": "7d68e6fc",
   "metadata": {},
   "outputs": [],
   "source": [
    "import selenium\n",
    "import pandas as pd\n",
    "from selenium import webdriver\n",
    "import warnings\n",
    "warnings.filterwarnings('ignore')\n",
    "from selenium.webdriver.common.by import By\n",
    "import time\n"
   ]
  },
  {
   "cell_type": "code",
   "execution_count": 25,
   "id": "8a2e38de",
   "metadata": {},
   "outputs": [],
   "source": [
    "#Q1: In this question you have to scrape data using the filters available on the webpage You have to use the location andsalary filter\n",
    "driver=webdriver.Chrome()"
   ]
  },
  {
   "cell_type": "code",
   "execution_count": 26,
   "id": "d32fe2a0",
   "metadata": {},
   "outputs": [],
   "source": [
    "driver.get('https://www.naukri.com/')# opening naukri page in chrome browser"
   ]
  },
  {
   "cell_type": "code",
   "execution_count": 27,
   "id": "8b70d5e9",
   "metadata": {},
   "outputs": [],
   "source": [
    "job_title = driver.find_element(By.CLASS_NAME,\"suggestor-input \")#entering the job_title and location as required\n",
    "job_title.send_keys('Data Scientist')"
   ]
  },
  {
   "cell_type": "code",
   "execution_count": 28,
   "id": "0d309b3e",
   "metadata": {},
   "outputs": [],
   "source": [
    "search = driver.find_element(By.CLASS_NAME,\"qsbSubmit\")# enter the serch button\n",
    "search.click()"
   ]
  },
  {
   "cell_type": "code",
   "execution_count": 32,
   "id": "fdc9f7f7",
   "metadata": {},
   "outputs": [],
   "source": [
    "search = driver.find_element(By.XPATH,\"/html/body/div/div/main/div[1]/div[1]/div/div/div[2]/div[1]/div[2]/div[4]/label/p/span[1]\")# SELECT DELHI/NCR LOCATION\n",
    "search.click()"
   ]
  },
  {
   "cell_type": "code",
   "execution_count": 33,
   "id": "fb95667f",
   "metadata": {},
   "outputs": [],
   "source": [
    "search = driver.find_element(By.XPATH,\"/html/body/div/div/main/div[1]/div[1]/div/div/div[2]/div[6]/div[2]/div[2]/label/p/span[1]\")# SELECT 3-6 LAKH SALARY\n",
    "search.click()"
   ]
  },
  {
   "cell_type": "code",
   "execution_count": 34,
   "id": "e5c154de",
   "metadata": {},
   "outputs": [],
   "source": [
    "job_title=[]\n",
    "job_location=[]\n",
    "company_name=[]\n",
    "exe_required=[]\n",
    "\n"
   ]
  },
  {
   "cell_type": "code",
   "execution_count": 35,
   "id": "52cf91c0",
   "metadata": {},
   "outputs": [],
   "source": [
    "#scraping job title,location,company name, exeperience from the given page\n",
    "title_tags=driver.find_elements(By.XPATH,'//div[@class=\"cust-job-tuple layout-wrapper lay-2 sjw__tuple \"]/div/a')\n",
    "title_tags[0:10]\n",
    "for i in title_tags[0:10]:\n",
    "    title=i.text\n",
    "    job_title.append(title)\n",
    "    \n",
    "location_tags=driver.find_elements(By.XPATH,'//span[@class=\"locWdth\"]')\n",
    "location_tags[0:10]\n",
    "for i in location_tags[0:10]:\n",
    "    location=i.text\n",
    "    job_location.append(location)\n",
    "    \n",
    "company_tags=driver.find_elements(By.XPATH,'//div[@class=\" row2\"]/span/a[1]')\n",
    "company_tags[0:10]\n",
    "for i in company_tags[0:10]:\n",
    "    company=i.text\n",
    "    company_name.append(company)\n",
    "    \n",
    "exp_tags=driver.find_elements(By.XPATH,'//span[@class=\"expwdth\"]')\n",
    "exp_tags[0:10]\n",
    "for i in exp_tags[0:10]:\n",
    "    exp=i.text\n",
    "    exe_required.append(exp)"
   ]
  },
  {
   "cell_type": "code",
   "execution_count": 36,
   "id": "3506701c",
   "metadata": {},
   "outputs": [
    {
     "name": "stdout",
     "output_type": "stream",
     "text": [
      "10 10 10 10\n"
     ]
    }
   ],
   "source": [
    "print(len(job_title),len(job_location),len(company_name),len(exe_required))"
   ]
  },
  {
   "cell_type": "code",
   "execution_count": 37,
   "id": "6e5cf14b",
   "metadata": {},
   "outputs": [
    {
     "data": {
      "text/html": [
       "<div>\n",
       "<style scoped>\n",
       "    .dataframe tbody tr th:only-of-type {\n",
       "        vertical-align: middle;\n",
       "    }\n",
       "\n",
       "    .dataframe tbody tr th {\n",
       "        vertical-align: top;\n",
       "    }\n",
       "\n",
       "    .dataframe thead th {\n",
       "        text-align: right;\n",
       "    }\n",
       "</style>\n",
       "<table border=\"1\" class=\"dataframe\">\n",
       "  <thead>\n",
       "    <tr style=\"text-align: right;\">\n",
       "      <th></th>\n",
       "      <th>TITLE</th>\n",
       "      <th>LOCATION</th>\n",
       "      <th>COMPANY</th>\n",
       "      <th>EXEPERIENCE</th>\n",
       "    </tr>\n",
       "  </thead>\n",
       "  <tbody>\n",
       "    <tr>\n",
       "      <th>0</th>\n",
       "      <td>Data Scientist</td>\n",
       "      <td>Mumbai, Hyderabad, Gurugram</td>\n",
       "      <td>Deloitte</td>\n",
       "      <td>3-6 Yrs</td>\n",
       "    </tr>\n",
       "    <tr>\n",
       "      <th>1</th>\n",
       "      <td>Data Scientist</td>\n",
       "      <td>Gurugram, Bengaluru</td>\n",
       "      <td>Blackbuck</td>\n",
       "      <td>3-7 Yrs</td>\n",
       "    </tr>\n",
       "    <tr>\n",
       "      <th>2</th>\n",
       "      <td>Lead Data Scientist</td>\n",
       "      <td>Kolkata, Mumbai, New Delhi, Hyderabad/Secunder...</td>\n",
       "      <td>Elitefit.ai</td>\n",
       "      <td>3-7 Yrs</td>\n",
       "    </tr>\n",
       "    <tr>\n",
       "      <th>3</th>\n",
       "      <td>Data Scientist</td>\n",
       "      <td>Kolkata, Mumbai, New Delhi, Hyderabad, Pune, C...</td>\n",
       "      <td>Fort Technologies</td>\n",
       "      <td>1-3 Yrs</td>\n",
       "    </tr>\n",
       "    <tr>\n",
       "      <th>4</th>\n",
       "      <td>JOB Opening // Data science // Neosoft Mumbai ...</td>\n",
       "      <td>Noida, Mumbai, Pune</td>\n",
       "      <td>NeoSOFT</td>\n",
       "      <td>4-7 Yrs</td>\n",
       "    </tr>\n",
       "    <tr>\n",
       "      <th>5</th>\n",
       "      <td>Lead Customer Success - Data Scientist</td>\n",
       "      <td>Pune, Gurugram</td>\n",
       "      <td>ZS Associates</td>\n",
       "      <td>2-4 Yrs</td>\n",
       "    </tr>\n",
       "    <tr>\n",
       "      <th>6</th>\n",
       "      <td>Data Scientist</td>\n",
       "      <td>Noida</td>\n",
       "      <td>Innovaccer</td>\n",
       "      <td>2-7 Yrs</td>\n",
       "    </tr>\n",
       "    <tr>\n",
       "      <th>7</th>\n",
       "      <td>Data Scientist</td>\n",
       "      <td>Noida</td>\n",
       "      <td>Times Internet</td>\n",
       "      <td>3-8 Yrs</td>\n",
       "    </tr>\n",
       "    <tr>\n",
       "      <th>8</th>\n",
       "      <td>Python and ML Trainer</td>\n",
       "      <td>Hyderabad, New Delhi, Pune, Gurugram, Bengaluru</td>\n",
       "      <td>The Scholar</td>\n",
       "      <td>3-8 Yrs</td>\n",
       "    </tr>\n",
       "    <tr>\n",
       "      <th>9</th>\n",
       "      <td>Data Scientist</td>\n",
       "      <td>Gurugram, Bengaluru</td>\n",
       "      <td>Acenet</td>\n",
       "      <td>3-4 Yrs</td>\n",
       "    </tr>\n",
       "  </tbody>\n",
       "</table>\n",
       "</div>"
      ],
      "text/plain": [
       "                                               TITLE  \\\n",
       "0                                     Data Scientist   \n",
       "1                                     Data Scientist   \n",
       "2                                Lead Data Scientist   \n",
       "3                                     Data Scientist   \n",
       "4  JOB Opening // Data science // Neosoft Mumbai ...   \n",
       "5             Lead Customer Success - Data Scientist   \n",
       "6                                     Data Scientist   \n",
       "7                                     Data Scientist   \n",
       "8                              Python and ML Trainer   \n",
       "9                                     Data Scientist   \n",
       "\n",
       "                                            LOCATION            COMPANY  \\\n",
       "0                        Mumbai, Hyderabad, Gurugram           Deloitte   \n",
       "1                                Gurugram, Bengaluru          Blackbuck   \n",
       "2  Kolkata, Mumbai, New Delhi, Hyderabad/Secunder...        Elitefit.ai   \n",
       "3  Kolkata, Mumbai, New Delhi, Hyderabad, Pune, C...  Fort Technologies   \n",
       "4                                Noida, Mumbai, Pune            NeoSOFT   \n",
       "5                                     Pune, Gurugram      ZS Associates   \n",
       "6                                              Noida         Innovaccer   \n",
       "7                                              Noida     Times Internet   \n",
       "8    Hyderabad, New Delhi, Pune, Gurugram, Bengaluru        The Scholar   \n",
       "9                                Gurugram, Bengaluru             Acenet   \n",
       "\n",
       "  EXEPERIENCE  \n",
       "0     3-6 Yrs  \n",
       "1     3-7 Yrs  \n",
       "2     3-7 Yrs  \n",
       "3     1-3 Yrs  \n",
       "4     4-7 Yrs  \n",
       "5     2-4 Yrs  \n",
       "6     2-7 Yrs  \n",
       "7     3-8 Yrs  \n",
       "8     3-8 Yrs  \n",
       "9     3-4 Yrs  "
      ]
     },
     "execution_count": 37,
     "metadata": {},
     "output_type": "execute_result"
    }
   ],
   "source": [
    "df=pd.DataFrame({'TITLE':job_title,'LOCATION':job_location,'COMPANY':company_name,'EXEPERIENCE':exe_required})\n",
    "df"
   ]
  },
  {
   "cell_type": "code",
   "execution_count": 38,
   "id": "01837a9d",
   "metadata": {},
   "outputs": [],
   "source": [
    "#Q2: Write a python program to scrape data for “Data Scientist” Job position in “Bangalore” location. You have to scrape the job-title, job-location, company_name, experience_required. You have to scrape first 10 jobs data.\n",
    "driver=webdriver.Chrome()"
   ]
  },
  {
   "cell_type": "code",
   "execution_count": 39,
   "id": "53ac771e",
   "metadata": {},
   "outputs": [],
   "source": [
    "driver.get('https://www.shine.com/new/job-search')# opening shine page in chrome browser"
   ]
  },
  {
   "cell_type": "code",
   "execution_count": 41,
   "id": "f7b0e81e",
   "metadata": {},
   "outputs": [],
   "source": [
    "job_title = driver.find_element(By.CLASS_NAME,\"form-control  \")#entering the job_title and location as required\n",
    "job_title.send_keys('Data Scientist')"
   ]
  },
  {
   "cell_type": "code",
   "execution_count": 42,
   "id": "f16b6069",
   "metadata": {},
   "outputs": [],
   "source": [
    "location = driver.find_element(By.XPATH,\"/html/body/div/div[2]/div/div/div[1]/div[1]/div/div[2]/div/div/form/div/div[1]/ul/li[2]/div/input\")\n",
    "location.send_keys('Banglore')"
   ]
  },
  {
   "cell_type": "code",
   "execution_count": 49,
   "id": "a921c494",
   "metadata": {},
   "outputs": [],
   "source": [
    "search = driver.find_element(By.CLASS_NAME,\"searchForm_btnWrap_advance__VYBHN\")# enter the serch button\n",
    "search.click()"
   ]
  },
  {
   "cell_type": "code",
   "execution_count": 50,
   "id": "b0b55434",
   "metadata": {},
   "outputs": [],
   "source": [
    "job_title=[]\n",
    "job_location=[]\n",
    "company_name=[]\n",
    "exe_required=[]"
   ]
  },
  {
   "cell_type": "code",
   "execution_count": 52,
   "id": "d1a59d65",
   "metadata": {},
   "outputs": [],
   "source": [
    "#scraping job title,location,company name, exeperience from the given page\n",
    "\n",
    "title_tags=driver.find_elements(By.XPATH,'//h2[@itemprop=\"name\"]')\n",
    "title_tags[0:10]\n",
    "for i in title_tags[0:10]:\n",
    "    title=i.text\n",
    "    job_title.append(title)\n",
    "            \n",
    "location_tags=driver.find_elements(By.XPATH,'//div[@class=\" jobCard_jobCard_lists_item__YxRkV jobCard_locationIcon__zrWt2\"]')\n",
    "location_tags[0:10]\n",
    "for i in location_tags[0:10]:\n",
    "    location=i.text\n",
    "    job_location.append(location)\n",
    "        \n",
    "company_tags=driver.find_elements(By.XPATH,'//div[@class=\"jobCard_jobCard_cName__mYnow\"]')\n",
    "company_tags[0:10]\n",
    "for i in company_tags[0:10]:\n",
    "    company=i.text\n",
    "    company_name.append(company)\n",
    "        \n",
    "exp_tags=driver.find_elements(By.XPATH,'//div[@class=\" jobCard_jobCard_lists_item__YxRkV jobCard_jobIcon__3FB1t\"]')\n",
    "exp_tags[0:10]\n",
    "for i in exp_tags[0:10]:\n",
    "    exp=i.text\n",
    "    exe_required.append(exp)\n"
   ]
  },
  {
   "cell_type": "code",
   "execution_count": 53,
   "id": "831e5a15",
   "metadata": {},
   "outputs": [
    {
     "name": "stdout",
     "output_type": "stream",
     "text": [
      "10 10 10 10\n"
     ]
    }
   ],
   "source": [
    "print(len(job_title),len(job_location),len(company_name),len(exe_required))"
   ]
  },
  {
   "cell_type": "code",
   "execution_count": 54,
   "id": "68daa1ff",
   "metadata": {},
   "outputs": [
    {
     "data": {
      "text/html": [
       "<div>\n",
       "<style scoped>\n",
       "    .dataframe tbody tr th:only-of-type {\n",
       "        vertical-align: middle;\n",
       "    }\n",
       "\n",
       "    .dataframe tbody tr th {\n",
       "        vertical-align: top;\n",
       "    }\n",
       "\n",
       "    .dataframe thead th {\n",
       "        text-align: right;\n",
       "    }\n",
       "</style>\n",
       "<table border=\"1\" class=\"dataframe\">\n",
       "  <thead>\n",
       "    <tr style=\"text-align: right;\">\n",
       "      <th></th>\n",
       "      <th>TITLE</th>\n",
       "      <th>LOCATION</th>\n",
       "      <th>COMPANY</th>\n",
       "      <th>EXEPERIENCE</th>\n",
       "    </tr>\n",
       "  </thead>\n",
       "  <tbody>\n",
       "    <tr>\n",
       "      <th>0</th>\n",
       "      <td>Data Scientist Opening</td>\n",
       "      <td>Canada\\n+15</td>\n",
       "      <td>renuka interprises</td>\n",
       "      <td>0 to 4 Yrs</td>\n",
       "    </tr>\n",
       "    <tr>\n",
       "      <th>1</th>\n",
       "      <td>Data Scientist Opening</td>\n",
       "      <td>Canada\\n+15</td>\n",
       "      <td>renuka interprises</td>\n",
       "      <td>0 to 4 Yrs</td>\n",
       "    </tr>\n",
       "    <tr>\n",
       "      <th>2</th>\n",
       "      <td>Data Scientist Recruitment</td>\n",
       "      <td>Mumbai City\\n+9</td>\n",
       "      <td>radhika enterprises</td>\n",
       "      <td>0 to 4 Yrs</td>\n",
       "    </tr>\n",
       "    <tr>\n",
       "      <th>3</th>\n",
       "      <td>Data Scientist</td>\n",
       "      <td>Gurugram\\n+8</td>\n",
       "      <td>techno endura</td>\n",
       "      <td>0 to 2 Yrs</td>\n",
       "    </tr>\n",
       "    <tr>\n",
       "      <th>4</th>\n",
       "      <td>ML Data Scientist</td>\n",
       "      <td>Bangalore\\n+3</td>\n",
       "      <td>gujarat facility services hiring fo...</td>\n",
       "      <td>5 to 8 Yrs</td>\n",
       "    </tr>\n",
       "    <tr>\n",
       "      <th>5</th>\n",
       "      <td>Data Scientist Urgent Vacancy</td>\n",
       "      <td>Canada\\n+15</td>\n",
       "      <td>renuka interprises</td>\n",
       "      <td>0 to 4 Yrs</td>\n",
       "    </tr>\n",
       "    <tr>\n",
       "      <th>6</th>\n",
       "      <td>Clinical Data Associate</td>\n",
       "      <td>Gurugram\\n+6</td>\n",
       "      <td>techno endura</td>\n",
       "      <td>0 to 1 Yr</td>\n",
       "    </tr>\n",
       "    <tr>\n",
       "      <th>7</th>\n",
       "      <td>Data Scientist</td>\n",
       "      <td>Gurugram\\n+4</td>\n",
       "      <td>acme services private limited</td>\n",
       "      <td>3 to 5 Yrs</td>\n",
       "    </tr>\n",
       "    <tr>\n",
       "      <th>8</th>\n",
       "      <td>Data Scientist Recruitment</td>\n",
       "      <td>Canada\\n+15</td>\n",
       "      <td>renuka interprises</td>\n",
       "      <td>0 to 4 Yrs</td>\n",
       "    </tr>\n",
       "    <tr>\n",
       "      <th>9</th>\n",
       "      <td>Data Scientist Recruitment</td>\n",
       "      <td>Canada\\n+15</td>\n",
       "      <td>renuka interprises</td>\n",
       "      <td>0 to 4 Yrs</td>\n",
       "    </tr>\n",
       "  </tbody>\n",
       "</table>\n",
       "</div>"
      ],
      "text/plain": [
       "                           TITLE         LOCATION  \\\n",
       "0         Data Scientist Opening      Canada\\n+15   \n",
       "1         Data Scientist Opening      Canada\\n+15   \n",
       "2     Data Scientist Recruitment  Mumbai City\\n+9   \n",
       "3                 Data Scientist     Gurugram\\n+8   \n",
       "4              ML Data Scientist    Bangalore\\n+3   \n",
       "5  Data Scientist Urgent Vacancy      Canada\\n+15   \n",
       "6        Clinical Data Associate     Gurugram\\n+6   \n",
       "7                 Data Scientist     Gurugram\\n+4   \n",
       "8     Data Scientist Recruitment      Canada\\n+15   \n",
       "9     Data Scientist Recruitment      Canada\\n+15   \n",
       "\n",
       "                                  COMPANY EXEPERIENCE  \n",
       "0                      renuka interprises  0 to 4 Yrs  \n",
       "1                      renuka interprises  0 to 4 Yrs  \n",
       "2                     radhika enterprises  0 to 4 Yrs  \n",
       "3                           techno endura  0 to 2 Yrs  \n",
       "4  gujarat facility services hiring fo...  5 to 8 Yrs  \n",
       "5                      renuka interprises  0 to 4 Yrs  \n",
       "6                           techno endura   0 to 1 Yr  \n",
       "7           acme services private limited  3 to 5 Yrs  \n",
       "8                      renuka interprises  0 to 4 Yrs  \n",
       "9                      renuka interprises  0 to 4 Yrs  "
      ]
     },
     "execution_count": 54,
     "metadata": {},
     "output_type": "execute_result"
    }
   ],
   "source": [
    "df=pd.DataFrame({'TITLE':job_title,'LOCATION':job_location,'COMPANY':company_name,'EXEPERIENCE':exe_required})\n",
    "df"
   ]
  },
  {
   "cell_type": "code",
   "execution_count": 55,
   "id": "b19a2c32",
   "metadata": {},
   "outputs": [],
   "source": [
    "#Q3: Scrape 100 reviews data from flipkart.com for iphone11 phone. You have to go the link: \n",
    "driver=webdriver.Chrome()"
   ]
  },
  {
   "cell_type": "code",
   "execution_count": 56,
   "id": "7243e299",
   "metadata": {},
   "outputs": [],
   "source": [
    "driver.get('https://www.flipkart.com/apple-iphone-11-black-64-gb/product-reviews/itm4e5041ba101fd?pid=MOBFWQ6BXGJCEYNY&lid=LSTMOBFWQ6BXGJCEYNYZXSHRJ&marketplace=FLIPKART')"
   ]
  },
  {
   "cell_type": "code",
   "execution_count": 57,
   "id": "0d9373eb",
   "metadata": {},
   "outputs": [],
   "source": [
    "Rating=[]\n",
    "Review_summary=[]\n",
    "Full_review=[]\n"
   ]
  },
  {
   "cell_type": "code",
   "execution_count": 58,
   "id": "f6c6c67c",
   "metadata": {},
   "outputs": [],
   "source": [
    "rating=driver.find_elements(By.XPATH,'//div[@class=\"_3LWZlK _1BLPMq\"]')\n",
    "for i in rating:\n",
    "    star=i.text\n",
    "    Rating.append(star)\n",
    "    \n",
    "review=driver.find_elements(By.XPATH,'//p[@class=\"_2-N8zT\"]')\n",
    "for i in review:\n",
    "    rev=i.text\n",
    "    Review_summary.append(rev)\n",
    "    \n",
    "full=driver.find_elements(By.XPATH,'//div[@class=\"t-ZTKy\"]')\n",
    "for i in full:\n",
    "    frev=i.text\n",
    "    Full_review.append(frev)"
   ]
  },
  {
   "cell_type": "code",
   "execution_count": 59,
   "id": "ea70ce3f",
   "metadata": {},
   "outputs": [
    {
     "name": "stdout",
     "output_type": "stream",
     "text": [
      "10 10 10\n"
     ]
    }
   ],
   "source": [
    "print(len(Rating),len(Review_summary),len(Full_review))"
   ]
  },
  {
   "cell_type": "code",
   "execution_count": 60,
   "id": "cad2c037",
   "metadata": {},
   "outputs": [],
   "source": [
    "start=0\n",
    "end=9\n",
    "for page in range(start,end):\n",
    "    rating=driver.find_elements(By.XPATH,'//div[@class=\"_3LWZlK _1BLPMq\"]')\n",
    "    for i in rating:\n",
    "        Rating.append(i.text)\n",
    "    \n",
    "    review=driver.find_elements(By.XPATH,'//p[@class=\"_2-N8zT\"]')\n",
    "    for i in review:\n",
    "        Review_summary.append(i.text)\n",
    "    \n",
    "    full=driver.find_elements(By.XPATH,'//div[@class=\"t-ZTKy\"]')\n",
    "    for i in full:\n",
    "        Full_review.append(i.text)\n",
    "    next_click= driver.find_element(By.CLASS_NAME,\"_1LKTO3\")\n",
    "    next_click.click()\n",
    "    time.sleep(3)\n",
    "            "
   ]
  },
  {
   "cell_type": "code",
   "execution_count": 61,
   "id": "ecc19ff6",
   "metadata": {},
   "outputs": [
    {
     "name": "stdout",
     "output_type": "stream",
     "text": [
      "100 100 100\n"
     ]
    }
   ],
   "source": [
    "print(len(Rating),len(Review_summary),len(Full_review))"
   ]
  },
  {
   "cell_type": "code",
   "execution_count": 62,
   "id": "28745189",
   "metadata": {},
   "outputs": [],
   "source": [
    "#Q4: Scrape data forfirst 100 sneakers you find whenyouvisitflipkart.com and search for “sneakers” inthe search field\n",
    "driver=webdriver.Chrome()"
   ]
  },
  {
   "cell_type": "code",
   "execution_count": 63,
   "id": "f235ad5e",
   "metadata": {},
   "outputs": [],
   "source": [
    "driver.get('https://www.flipkart.com/account/login?ret=/')"
   ]
  },
  {
   "cell_type": "code",
   "execution_count": 64,
   "id": "66d6a5fb",
   "metadata": {},
   "outputs": [],
   "source": [
    "product = driver.find_element(By.XPATH,\"/html/body/div/div/div[1]/div[1]/div[2]/div[2]/form/div/div/input\")#entering the product name \n",
    "product.send_keys('Sneakers')"
   ]
  },
  {
   "cell_type": "code",
   "execution_count": 65,
   "id": "b6cd77e3",
   "metadata": {},
   "outputs": [],
   "source": [
    "search = driver.find_element(By.CLASS_NAME,\"L0Z3Pu\")# enter the serch button\n",
    "search.click()"
   ]
  },
  {
   "cell_type": "code",
   "execution_count": 66,
   "id": "e2358b3c",
   "metadata": {},
   "outputs": [],
   "source": [
    "brand=[]\n",
    "productdescription=[]\n",
    "price=[]"
   ]
  },
  {
   "cell_type": "code",
   "execution_count": 67,
   "id": "56923495",
   "metadata": {},
   "outputs": [],
   "source": [
    "start=0\n",
    "end=3\n",
    "for page in range(start,end):\n",
    "    brand_tags=driver.find_elements(By.XPATH,'//div[@class=\"_2WkVRV\"]')\n",
    "    for i in brand_tags:\n",
    "        name=i.text\n",
    "        brand.append(name)\n",
    "\n",
    "    productdescription_tags=driver.find_elements(By.XPATH,'//a[@class=\"IRpwTa\"]')\n",
    "    for i in productdescription_tags:\n",
    "        description=i.text\n",
    "        productdescription.append(description)\n",
    "\n",
    "    price_tags=driver.find_elements(By.XPATH,'//div[@class=\"_30jeq3\"]')\n",
    "    for i in price_tags:\n",
    "        rate=i.text\n",
    "        price.append(rate)\n",
    "    next_click= driver.find_element(By.CLASS_NAME,\"_1LKTO3\")\n",
    "    next_click.click()\n",
    "    time.sleep(3)"
   ]
  },
  {
   "cell_type": "code",
   "execution_count": 68,
   "id": "5d0986b7",
   "metadata": {},
   "outputs": [
    {
     "name": "stdout",
     "output_type": "stream",
     "text": [
      "120 93 118\n"
     ]
    }
   ],
   "source": [
    "print(len(brand),len(productdescription),len(price))"
   ]
  },
  {
   "cell_type": "code",
   "execution_count": 69,
   "id": "1e6dd565",
   "metadata": {},
   "outputs": [
    {
     "data": {
      "text/plain": [
       "(['BRUTON',\n",
       "  'BRUTON',\n",
       "  'URBANBOX',\n",
       "  'Deals4you',\n",
       "  'RED TAPE',\n",
       "  'PUMA',\n",
       "  'ATOM',\n",
       "  'BRUTON',\n",
       "  'Arivo',\n",
       "  'BIRDE',\n",
       "  'ATOM',\n",
       "  'aadi',\n",
       "  'RED TAPE',\n",
       "  'RED TAPE',\n",
       "  'TREKIST',\n",
       "  'RED TAPE',\n",
       "  'BRUTON',\n",
       "  'Layasa',\n",
       "  'BIRDE',\n",
       "  'Fizoo',\n",
       "  'BRUTON',\n",
       "  'Layasa',\n",
       "  'HIGHLANDER',\n",
       "  'aadi',\n",
       "  'BIRDE',\n",
       "  'Ego by NS',\n",
       "  'Layasa',\n",
       "  'BRUTON',\n",
       "  'Labbin',\n",
       "  'asian',\n",
       "  'Layasa',\n",
       "  'BRUTON',\n",
       "  'BERSACHE',\n",
       "  'asian',\n",
       "  'PUMA',\n",
       "  'BRUTON',\n",
       "  'lejano',\n",
       "  'NEW LIMITS',\n",
       "  'WOODLAND',\n",
       "  'asian',\n",
       "  'Field Care',\n",
       "  'Field Care',\n",
       "  'PUMA',\n",
       "  'BIRDE',\n",
       "  'PUMA',\n",
       "  'Shozie',\n",
       "  'asian',\n",
       "  'asian',\n",
       "  'HOTSTYLE',\n",
       "  'RED TAPE',\n",
       "  'RUN SEVEN',\n",
       "  'asian',\n",
       "  'VENDOZ',\n",
       "  'BIRDE',\n",
       "  'BIRDE',\n",
       "  'PUMA',\n",
       "  'asian',\n",
       "  'asian',\n",
       "  'VENDOZ',\n",
       "  'RapidBox',\n",
       "  'Abros',\n",
       "  'Abros',\n",
       "  'Layasa',\n",
       "  'asian',\n",
       "  'Robbie jones',\n",
       "  'U.S. POLO ASSN.',\n",
       "  'Airson',\n",
       "  'Abros',\n",
       "  'CAMPUS',\n",
       "  'CLYMB',\n",
       "  'Abros',\n",
       "  'Field Care',\n",
       "  'PUMA',\n",
       "  'Labbin',\n",
       "  'BIRDE',\n",
       "  'HOTSTYLE',\n",
       "  'Abros',\n",
       "  'Abros',\n",
       "  'DUCATI',\n",
       "  'Layasa',\n",
       "  'BRUTON',\n",
       "  'BRUTON',\n",
       "  'URBANBOX',\n",
       "  'Deals4you',\n",
       "  'RED TAPE',\n",
       "  'PUMA',\n",
       "  'ATOM',\n",
       "  'BRUTON',\n",
       "  'Arivo',\n",
       "  'BIRDE',\n",
       "  'aadi',\n",
       "  'BRUTON',\n",
       "  'RED TAPE',\n",
       "  'RED TAPE',\n",
       "  'TREKIST',\n",
       "  'RED TAPE',\n",
       "  'ATOM',\n",
       "  'Layasa',\n",
       "  'BIRDE',\n",
       "  'Fizoo',\n",
       "  'BRUTON',\n",
       "  'BRUTON',\n",
       "  'HIGHLANDER',\n",
       "  'aadi',\n",
       "  'BIRDE',\n",
       "  'Ego by NS',\n",
       "  'Layasa',\n",
       "  'BRUTON',\n",
       "  'Labbin',\n",
       "  'asian',\n",
       "  'lejano',\n",
       "  'NEW LIMITS',\n",
       "  'BERSACHE',\n",
       "  'asian',\n",
       "  'PUMA',\n",
       "  'BRUTON',\n",
       "  'Layasa',\n",
       "  'El Paso',\n",
       "  'WOODLAND',\n",
       "  'asian'],\n",
       " ['Combo Pack Of 2 Casual Shoes Sneakers For Men',\n",
       "  'Combo Pack Of 2 Casual Shoes Sneakers For Men',\n",
       "  'Trending Stylish Casual Outdoor Shoes For Men Sneakers ...',\n",
       "  'Sneakers For Women',\n",
       "  'Casual Sneakers Shoes for Men | Soft Cushioned Insole, ...',\n",
       "  'Fire Run V1 Sneakers For Men',\n",
       "  'Sneakers For Men',\n",
       "  'Combo Pack Of 2 Casual Shoes for mens Sneakers For Men',\n",
       "  'Premium Casual Shoes for Women Sneakers For Women',\n",
       "  'Alpha Predator Sneakers For Men',\n",
       "  'Mesh |Lightweight|Comfort|Summer|Trendy|Walking|Outdoor...',\n",
       "  'Sneaker Casual Shoes For Men | Soft Cushion Insole, Sli...',\n",
       "  'Casual Sneakers Shoes for Men | Soft Cushioned Insole, ...',\n",
       "  'Sneaker Casual Shoes For Men | Soft Cushion Insole, Sli...',\n",
       "  '2 Combo Sneaker Shoes Sneakers For Men',\n",
       "  'Sneakers For Men',\n",
       "  'Combo Pack of 2 Casual Shoes Sneakers For Men',\n",
       "  'Combo Pack Of 4 Casual Shoes Loafer Shoes Sneakers For ...',\n",
       "  'Sneakers For Women',\n",
       "  'Sneakers For Men',\n",
       "  'Synthetic Leather |Lightweight|Comfort|Summer|Trendy|Wa...',\n",
       "  'Premium Men Casual Shoes For Men Pack Of 2 Sneakers For...',\n",
       "  'Sneakers For Women',\n",
       "  '!Combo Pack Of 2 Casual Shoes! Sneakers For Men',\n",
       "  'Casual Sneakers ColourFul Block Shoes For Boys And Men ...',\n",
       "  'Boston-01 Chunky Sneakers,Loafers,Walking Shoes Sneaker...',\n",
       "  'Sneakers For Men',\n",
       "  'Combo Pack Of 2 Casual Shoes Sneakers For Men',\n",
       "  'Tarzan-05 White Sneakers,Casuals,Loafers,Stylish With E...',\n",
       "  'Seattle Sneakers For Men',\n",
       "  'Canvas shoes for Men Sneakers For Men',\n",
       "  'Sneakers For Men',\n",
       "  'Sneakers For Men',\n",
       "  'Carnival-02 Mens High Top Casual Chunky Sneakers For Me...',\n",
       "  \"Men's Trendy Casual Sports Comfort Stylish Latest Fashi...\",\n",
       "  \"Men's Casual Lace-up Comfort Fashionable Stylish Street...\",\n",
       "  'Seattle Sneakers For Men',\n",
       "  'Premium Casual Shoes for Women Sneakers For Women',\n",
       "  'Shuffle Ultra Sneakers For Men',\n",
       "  'Stylish Sneakers Shoes for Women And Girls Sneakers For...',\n",
       "  'Sneaker Casual Shoes for Men | Soft Cushioned Insole, S...',\n",
       "  '( by GO21 ) Soft Insole, Slip-Resistance|Walking Casual...',\n",
       "  'HIGH HEEL SHOES Sneakers For Women',\n",
       "  'Combo Pack of 2 Casual Shoes Sneakers For Men',\n",
       "  'Premium Sports Shoes For Men Pack Of 2 Sneakers For Men',\n",
       "  'Casual Sneaker Shoes For Men || Soft Cushioned Insole,S...',\n",
       "  'Casual Stylish Trending Sneakers For Women',\n",
       "  'Sneakers For Men',\n",
       "  'Casual Sneakers White Shoes For Girls And Sneakers For ...',\n",
       "  'Sneaker Casual Shoes For Men | Soft Cushion Insole || B...',\n",
       "  'Casual Sneakers Colour Blocked Shoes For Boys And Men S...',\n",
       "  'PANAL Sneakers For Men',\n",
       "  'Sneakers For Men',\n",
       "  'Ferrari Electron E Pro Sneakers For Men',\n",
       "  'Colourful Block Shoes For Boys Casual Sneakers For Men',\n",
       "  'Premium Casual Shoes for Women Sneakers For Women',\n",
       "  'FLEX Sneakers For Men',\n",
       "  'URBAN RIDER PRO Sneakers For Men',\n",
       "  'Stylish Casual Sports Shoe Sneakers Sneakers For Women',\n",
       "  'Combo Pack Of 2 Casual Shoes Sneakers For Men',\n",
       "  'Combo Pack Of 2 Casual Shoes Sneakers For Men',\n",
       "  'Trending Stylish Casual Outdoor Shoes For Men Sneakers ...',\n",
       "  'Sneakers For Women',\n",
       "  'Casual Sneakers Shoes for Men | Soft Cushioned Insole, ...',\n",
       "  'Fire Run V1 Sneakers For Men',\n",
       "  'Sneakers For Men',\n",
       "  'Combo Pack Of 2 Casual Shoes for mens Sneakers For Men',\n",
       "  'Premium Casual Shoes for Women Sneakers For Women',\n",
       "  'Mesh |Lightweight|Comfort|Summer|Trendy|Walking|Outdoor...',\n",
       "  '2 Combo Sneaker Shoes Sneakers For Men',\n",
       "  'Sneaker Casual Shoes For Men | Soft Cushion Insole, Sli...',\n",
       "  'Casual Sneakers Shoes for Men | Soft Cushioned Insole, ...',\n",
       "  'Sneaker Casual Shoes For Men | Soft Cushion Insole, Sli...',\n",
       "  'Alpha Predator Sneakers For Men',\n",
       "  'Sneakers For Men',\n",
       "  'Combo Pack of 2 Casual Shoes Sneakers For Men',\n",
       "  'Combo Pack Of 4 Casual Shoes Loafer Shoes Sneakers For ...',\n",
       "  '!Combo Pack Of 2 Casual Shoes! Sneakers For Men',\n",
       "  'Sneakers For Men',\n",
       "  'Synthetic Leather |Lightweight|Comfort|Summer|Trendy|Wa...',\n",
       "  'Premium Men Casual Shoes For Men Pack Of 2 Sneakers For...',\n",
       "  'Sneakers For Men',\n",
       "  'Combo Pack Of 2 Casual Shoes Sneakers For Men',\n",
       "  'Casual Sneakers ColourFul Block Shoes For Boys And Men ...',\n",
       "  'Boston-01 Chunky Sneakers,Loafers,Walking Shoes Sneaker...',\n",
       "  'Sneakers For Men',\n",
       "  'Tarzan-05 White Sneakers,Casuals,Loafers,Stylish With E...',\n",
       "  'Seattle Sneakers For Men',\n",
       "  'Canvas shoes for Men Sneakers For Men',\n",
       "  'Stylish Casual Sports Shoe Sneakers Sneakers For Women',\n",
       "  'EPJL13951 Lightweight Comfort Summer Trendy Premium Sty...',\n",
       "  'Sneakers For Men',\n",
       "  'Carnival-02 Mens High Top Casual Chunky Sneakers For Me...'],\n",
       " ['₹499',\n",
       "  '₹499',\n",
       "  '₹299',\n",
       "  '₹439',\n",
       "  '₹1,179',\n",
       "  '₹1,047',\n",
       "  '₹1,308',\n",
       "  '₹499',\n",
       "  '₹799',\n",
       "  '₹299',\n",
       "  '₹1,408',\n",
       "  '₹469',\n",
       "  '₹1,079',\n",
       "  '₹1,179',\n",
       "  '₹499',\n",
       "  '₹1,079',\n",
       "  '₹499',\n",
       "  '₹373',\n",
       "  '₹544',\n",
       "  '₹474',\n",
       "  '₹599',\n",
       "  '₹449',\n",
       "  '₹629',\n",
       "  '₹299',\n",
       "  '₹549',\n",
       "  '₹291',\n",
       "  '₹449',\n",
       "  '₹499',\n",
       "  '₹539',\n",
       "  '₹769',\n",
       "  '₹392',\n",
       "  '₹499',\n",
       "  '₹682',\n",
       "  '₹1,381',\n",
       "  '₹295',\n",
       "  '₹443',\n",
       "  '₹1,199',\n",
       "  '₹1,789',\n",
       "  '₹982',\n",
       "  '₹989',\n",
       "  '₹989',\n",
       "  '₹1,379',\n",
       "  '₹299',\n",
       "  '₹1,699',\n",
       "  '₹399',\n",
       "  '₹573',\n",
       "  '₹727',\n",
       "  '₹342',\n",
       "  '₹1,379',\n",
       "  '₹1,050',\n",
       "  '₹749',\n",
       "  '₹499',\n",
       "  '₹549',\n",
       "  '₹575',\n",
       "  '₹1,710',\n",
       "  '₹769',\n",
       "  '₹727',\n",
       "  '₹569',\n",
       "  '₹633',\n",
       "  '₹999',\n",
       "  '₹867',\n",
       "  '₹434',\n",
       "  '₹769',\n",
       "  '₹649',\n",
       "  '₹1,189',\n",
       "  '₹807',\n",
       "  '₹699',\n",
       "  '₹649',\n",
       "  '₹421',\n",
       "  '₹1,857',\n",
       "  '₹989',\n",
       "  '₹2,182',\n",
       "  '₹539',\n",
       "  '₹299',\n",
       "  '₹294',\n",
       "  '₹1,397',\n",
       "  '₹2,249',\n",
       "  '₹739',\n",
       "  '₹449',\n",
       "  '₹499',\n",
       "  '₹499',\n",
       "  '₹299',\n",
       "  '₹439',\n",
       "  '₹1,179',\n",
       "  '₹1,047',\n",
       "  '₹1,308',\n",
       "  '₹499',\n",
       "  '₹799',\n",
       "  '₹299',\n",
       "  '₹469',\n",
       "  '₹499',\n",
       "  '₹1,079',\n",
       "  '₹1,179',\n",
       "  '₹499',\n",
       "  '₹1,079',\n",
       "  '₹1,408',\n",
       "  '₹373',\n",
       "  '₹544',\n",
       "  '₹474',\n",
       "  '₹599',\n",
       "  '₹499',\n",
       "  '₹629',\n",
       "  '₹299',\n",
       "  '₹549',\n",
       "  '₹291',\n",
       "  '₹392',\n",
       "  '₹499',\n",
       "  '₹539',\n",
       "  '₹769',\n",
       "  '₹443',\n",
       "  '₹1,199',\n",
       "  '₹682',\n",
       "  '₹1,381',\n",
       "  '₹295',\n",
       "  '₹449',\n",
       "  '₹705',\n",
       "  '₹1,789',\n",
       "  '₹982'])"
      ]
     },
     "execution_count": 69,
     "metadata": {},
     "output_type": "execute_result"
    }
   ],
   "source": [
    "brand,productdescription,price"
   ]
  },
  {
   "cell_type": "code",
   "execution_count": 70,
   "id": "71884bc1",
   "metadata": {},
   "outputs": [],
   "source": [
    "#Q5: Go to webpage https://www.amazon.in/ Enter “Laptop” in the search field and then click the search icon. Then set CPU Type filter to “Intel Core i7” as shown in the below image:\n",
    "driver=webdriver.Chrome()"
   ]
  },
  {
   "cell_type": "code",
   "execution_count": 71,
   "id": "87d5b20d",
   "metadata": {},
   "outputs": [],
   "source": [
    "driver.get('https://www.amazon.in/')"
   ]
  },
  {
   "cell_type": "code",
   "execution_count": 72,
   "id": "b3fbb458",
   "metadata": {},
   "outputs": [],
   "source": [
    "item = driver.find_element(By.XPATH,\"/html/body/div[1]/header/div/div[1]/div[2]/div/form/div[2]/div[1]/input\")\n",
    "item.send_keys('laptop')\n"
   ]
  },
  {
   "cell_type": "code",
   "execution_count": 73,
   "id": "fa4dc116",
   "metadata": {},
   "outputs": [],
   "source": [
    "search = driver.find_element(By.XPATH,\"/html/body/div[1]/header/div/div[1]/div[2]/div/form/div[3]/div/span/input\")# enter the serch \n",
    "search.click()"
   ]
  },
  {
   "cell_type": "code",
   "execution_count": 74,
   "id": "47458356",
   "metadata": {},
   "outputs": [],
   "source": [
    "FEILD = driver.find_element(By.XPATH,\"/html/body/div[1]/div[1]/div[1]/div[2]/div/div[3]/span/div[1]/div/div/div[6]/ul[19]/span/span[9]/li/span/a\")# enter the serch button\n",
    "FEILD.click()"
   ]
  },
  {
   "cell_type": "code",
   "execution_count": 75,
   "id": "cb81476e",
   "metadata": {},
   "outputs": [],
   "source": [
    "TITLE=[]\n",
    "RATING=[]\n",
    "PRICE=[]"
   ]
  },
  {
   "cell_type": "code",
   "execution_count": 76,
   "id": "61314144",
   "metadata": {},
   "outputs": [],
   "source": [
    "title_tags=driver.find_elements(By.XPATH,'//div[@class=\"a-section a-spacing-none puis-padding-right-small s-title-instructions-style\"]')\n",
    "title_tags[0:10]\n",
    "for i in title_tags[0:10]:\n",
    "    title=i.text\n",
    "    TITLE.append(title)\n",
    "            \n",
    "RATING_tags=driver.find_elements(By.XPATH,'//span[@class=\"a-declarative\"]/a/i')\n",
    "RATING_tags[0:10]\n",
    "for i in RATING_tags[0:10]:\n",
    "    rating=i.text\n",
    "    RATING.append(rating)\n",
    "        \n",
    "PRICE_tags=driver.find_elements(By.XPATH,'//span[@class=\"a-price-whole\"]')\n",
    "PRICE_tags[0:10]\n",
    "for i in PRICE_tags[0:10]:\n",
    "    price=i.text\n",
    "    PRICE.append(price)"
   ]
  },
  {
   "cell_type": "code",
   "execution_count": 77,
   "id": "109aa86f",
   "metadata": {},
   "outputs": [
    {
     "name": "stdout",
     "output_type": "stream",
     "text": [
      "10 10 10\n"
     ]
    }
   ],
   "source": [
    "print(len(TITLE),len(RATING),len(PRICE))"
   ]
  },
  {
   "cell_type": "code",
   "execution_count": 78,
   "id": "a4bfaa62",
   "metadata": {},
   "outputs": [
    {
     "data": {
      "text/plain": [
       "(['MSI Modern 14, Intel 12th Gen. i7-1255U, 36CM FHD 60Hz Laptop (16GB/512GB NVMe SSD/Windows 11 Home/Intel Iris Xe Graphics/Classic Black/1.4Kg), C12M-459IN',\n",
       "  'Acer Travelmate Business Laptop Intel Core i7-11th Gen (Windows 11 Home/16 GB Ram/1TB SSD/Intel Iris Xe Graphics/14.0 IPS Display/Backlit Keyboard/Fingerprint Sensor) TMP214-53',\n",
       "  'Lenovo IdeaPad Slim 3 Intel Core i7 12th Gen 15.6 inch (39.62cm) FHD Thin & Light Laptop (16GB/512GB SSD/Windows 11/Office 2021/3months Game Pass/Arctic Grey/1.63Kg), 82RK011EIN',\n",
       "  'ASUS TUF Gaming F15, 15.6\"(39.62 cms) FHD 144Hz, Intel Core i7-11800H 11th Gen, 4GB NVIDIA GeForce RTX 3050 Ti, Gaming Laptop (16GB/1TB SSD/Win 11/MSO/90WHrs Battery/Black/2.30 Kg), FX506HE-HN385WS',\n",
       "  'ASUS Vivobook 15, Intel Core i7-12650H 12th Gen, 15.6\" (39.62 cm) FHD, Thin and Light Laptop (16GB/512GB/Win11/Office 2021/Blue/1.7 kg), X1502ZA-EJ741WS',\n",
       "  'HP Pavilion 14 12th Gen Intel Core i7 16GB SDRAM/1TB SSD 14 inch(35.6cm) FHD,IPS,Micro-Edge Display/Intel Iris Xe Graphics/B&O/Win 11/Alexa Built-in/Backlit KB/FPR/MSO 2021/Natural Silver,14-dv2015TU',\n",
       "  'HP Pavilion X360 11th Gen Intel Core i7 14\" (35.6cm) FHD Multitouch 2in1 Laptop (16Gb Ram/512Gb Ssd/B&O/Win 11 Home/FPR/Backlit Kb/Intel Iris Xe Graphics/Pen/Alexa/Ms Office/Silver/1.52Kg)14-Dy1047Tu',\n",
       "  'Dell Inspiron 5430 Laptop, 13th Gen Intel Core i7-1360P Processor/16GB/1TB SSD/14.0\" (35.56cm) FHD+ WVA 250 nits/Backlit KB + FPR/Win 11 + MSO\\'21/15 Month McAfee/Platinum Silver/Thin & Light- 1.59kg',\n",
       "  'Dell Inspiron 3530 Laptop, Intel Core i7-1355U Processor, 16GB, 512GB, 15.6\" (39.62cm) FHD WVA AG 120Hz, Backlit KB + FPR, Win 11 + MSO\\'21, 15 Month McAfee, Silver, 1.62kg',\n",
       "  'Dell G15 5530 Gaming Laptop, Intel i7-13650HX/16GB/1TB SSD/NVIDIA RTX 3050, 6 GB GDDR6/15.6\" (39.62cm) FHD AG 120Hz 250 nits/Backlit KB RGB/Dark Shadow Grey/Win 11+MSO\\'21/15 Month McAfee/2.65kg'],\n",
       " ['', '', '', '', '', '', '', '', '', ''],\n",
       " ['59,990',\n",
       "  '49,990',\n",
       "  '49,990',\n",
       "  '49,990',\n",
       "  '62,990',\n",
       "  '1,19,990',\n",
       "  '74,990',\n",
       "  '59,990',\n",
       "  '77,990',\n",
       "  '66,999'])"
      ]
     },
     "execution_count": 78,
     "metadata": {},
     "output_type": "execute_result"
    }
   ],
   "source": [
    "TITLE,RATING,PRICE"
   ]
  },
  {
   "cell_type": "code",
   "execution_count": 79,
   "id": "74e18194",
   "metadata": {},
   "outputs": [],
   "source": [
    "#Q6: Write a python program to scrape data for Top 1000 Quotes of All Time.\n",
    "driver=webdriver.Chrome()\n"
   ]
  },
  {
   "cell_type": "code",
   "execution_count": 80,
   "id": "758e0502",
   "metadata": {},
   "outputs": [],
   "source": [
    "driver.get('https://www.azquotes.com/')"
   ]
  },
  {
   "cell_type": "code",
   "execution_count": 81,
   "id": "12113ce9",
   "metadata": {},
   "outputs": [],
   "source": [
    "top_quotes = driver.find_element(By.XPATH,\"/html/body/div[1]/div[2]/div[1]/div/div[3]/ul/li[5]/a\")\n",
    "top_quotes.click()"
   ]
  },
  {
   "cell_type": "code",
   "execution_count": 82,
   "id": "dee0ce33",
   "metadata": {},
   "outputs": [],
   "source": [
    "QUOTE=[]\n",
    "AUTHOR=[]\n",
    "TYPES_OF_QUOTE=[]"
   ]
  },
  {
   "cell_type": "code",
   "execution_count": null,
   "id": "90071071",
   "metadata": {},
   "outputs": [],
   "source": [
    "start=0\n",
    "end=10\n",
    "for page in range(start,end):\n",
    "    QUOTE_tags=driver.find_elements(By.XPATH,'//a[@class=\"title\"]')\n",
    "    for i in QUOTE_tags:\n",
    "        name=i.text\n",
    "        QUOTE.append(name)\n",
    "\n",
    "    AUTHOR_tags=driver.find_elements(By.XPATH,'//div[@class=\"author\"]')\n",
    "    for i in AUTHOR_tags:\n",
    "        author=i.text\n",
    "        AUTHOR.append(author)\n",
    "\n",
    "    TYPES_OF_QUOTE_tags=driver.find_elements(By.XPATH,'//div[@class=\"tags\"]')\n",
    "    for i in TYPES_OF_QUOTE_tags:\n",
    "        types=i.text\n",
    "        TYPES_OF_QUOTE.append(types)\n",
    "    next_click = driver.find_element(By.CLASS_NAME,\"next\")\n",
    "    next_click.click()\n",
    "    time.sleep(3)"
   ]
  },
  {
   "cell_type": "code",
   "execution_count": 84,
   "id": "2543be1b",
   "metadata": {},
   "outputs": [
    {
     "name": "stdout",
     "output_type": "stream",
     "text": [
      "1000 1000 1000\n"
     ]
    }
   ],
   "source": [
    "print(len(QUOTE),len(AUTHOR),len(TYPES_OF_QUOTE))"
   ]
  },
  {
   "cell_type": "code",
   "execution_count": 17,
   "id": "b3d4afba",
   "metadata": {},
   "outputs": [],
   "source": [
    "#Q7 Write a python program to display list of respected former Prime Ministers of India (i.e. Name,born-Dead, Term of office, Remarks) \n",
    "driver=webdriver.Chrome()\n"
   ]
  },
  {
   "cell_type": "code",
   "execution_count": 18,
   "id": "3244c672",
   "metadata": {},
   "outputs": [],
   "source": [
    "driver.get('https://www.jagranjosh.com/general-knowledge/list-of-all-prime-ministers-of-india-1473165149-1')"
   ]
  },
  {
   "cell_type": "code",
   "execution_count": 21,
   "id": "37f7ef30",
   "metadata": {},
   "outputs": [],
   "source": [
    "A=[]\n",
    "B=[]\n",
    "C=[]\n",
    "D=[]\n",
    "E=[]\n",
    "F=[]\n",
    "G=[]\n",
    "H=[]\n"
   ]
  },
  {
   "cell_type": "code",
   "execution_count": 22,
   "id": "f745b37c",
   "metadata": {},
   "outputs": [],
   "source": [
    "a=driver.find_elements(By.XPATH,'//div[@class=\"TableData\"]/table/tbody/tr[2]')\n",
    "for i in a:\n",
    "    name=i.text\n",
    "    A.append(name)\n",
    "\n",
    "b=driver.find_elements(By.XPATH,'//div[@class=\"TableData\"]/table/tbody/tr[3]')\n",
    "for i in b:\n",
    "    name=i.text\n",
    "    B.append(name)\n",
    "    \n",
    "c=driver.find_elements(By.XPATH,'//div[@class=\"TableData\"]/table/tbody/tr[4]')\n",
    "for i in c:\n",
    "    name=i.text\n",
    "    C.append(name)\n",
    "    \n",
    "d=driver.find_elements(By.XPATH,'//div[@class=\"TableData\"]/table/tbody/tr[5]')\n",
    "for i in d:\n",
    "    name=i.text\n",
    "    D.append(name)\n",
    "    \n",
    "e=driver.find_elements(By.XPATH,'//div[@class=\"TableData\"]/table/tbody/tr[6]')\n",
    "for i in e:\n",
    "    name=i.text\n",
    "    E.append(name)\n",
    "    \n",
    "f=driver.find_elements(By.XPATH,'//div[@class=\"TableData\"]/table/tbody/tr[7]')\n",
    "for i in f:\n",
    "    name=i.text\n",
    "    F.append(name)\n",
    "    \n",
    "\n",
    "g=driver.find_elements(By.XPATH,'//div[@class=\"TableData\"]/table/tbody/tr[8]')\n",
    "for i in g:\n",
    "    name=i.text\n",
    "    G.append(name)\n",
    "    \n",
    "h=driver.find_elements(By.XPATH,'//div[@class=\"TableData\"]/table/tbody/tr[9]')\n",
    "for i in h:\n",
    "    name=i.text\n",
    "    H.append(name)\n",
    "    \n"
   ]
  },
  {
   "cell_type": "code",
   "execution_count": 24,
   "id": "d1b5d682",
   "metadata": {},
   "outputs": [
    {
     "data": {
      "text/plain": [
       "(['1.\\nJawahar Lal Nehru\\n(1889–1964)\\n15 August 1947 to 27 May 1964\\n16 years, 286 days\\nThe first prime minister of India and the longest-serving PM of India, the first to die in office.'],\n",
       " ['2.\\nGulzarilal Nanda (Acting)\\n(1898-1998)\\n27 May 1964 to 9 June 1964,\\n13 days\\nFirst acting PM of India'],\n",
       " [\"3.\\nLal Bahadur Shastri\\n(1904–1966)\\n9 June 1964 to 11 January 1966\\n1 year, 216 days\\nHe has given the slogan of 'Jai Jawan Jai Kisan' during the Indo-Pak war of 1965\"],\n",
       " ['4. \\nGulzari Lal Nanda  (Acting)\\n(1898-1998)\\n11 January 1966 to 24 January 1966\\n13 days\\n-'],\n",
       " ['5.\\nIndira Gandhi\\n(1917–1984)\\n24 January 1966 to 24 March 1977\\n11 years, 59 days\\nFirst female Prime Minister of India'],\n",
       " ['6.\\nMorarji Desai\\n(1896–1995)\\n24 March 1977 to  28 July 1979 \\n2 year, 126 days\\nOldest to become PM (81 years old) and first to resign from office'],\n",
       " ['7.\\nCharan Singh\\n(1902–1987)\\n28 July 1979 to 14 January 1980\\n170 days\\nOnly PM who did not face the Parliament'],\n",
       " ['8.\\nIndira Gandhi\\n(1917–1984)\\n14 January 1980 to 31 October 1984\\n4 years, 291 days\\nThe first lady who served as PM for the second term'])"
      ]
     },
     "execution_count": 24,
     "metadata": {},
     "output_type": "execute_result"
    }
   ],
   "source": [
    "A,B,C,D,E,F,G,H"
   ]
  },
  {
   "cell_type": "code",
   "execution_count": null,
   "id": "95b577d0",
   "metadata": {},
   "outputs": [],
   "source": [
    "BORN_dead=driver.find_elements(By.XPATH,'//th[@valign=\"top\"]/div/strong')\n",
    "for i in BORN_dead:\n",
    "    born=i.text\n",
    "    BORN_DEAD.append(born)\n",
    "    \n",
    "TERM_OF_office=driver.find_elements(By.XPATH,'//th[@valign=\"top\"]/div/strong')\n",
    "for i in TERM_OF_office:\n",
    "    term=i.text\n",
    "    TERM_OF_OFFICE.append(term)\n",
    "    \n",
    "Remark=driver.find_elements(By.XPATH,'//th[@valign=\"top\"]/div/strong')\n",
    "for i in Remark:\n",
    "    remark=i.text\n",
    "    REMARK.append(remark)"
   ]
  },
  {
   "cell_type": "code",
   "execution_count": 3,
   "id": "13c230d2",
   "metadata": {},
   "outputs": [],
   "source": [
    "#Q8: Write a python program to display list of 50 Most expensive cars in the world(i.e. Car name and Price) from https://www.motor1.com\n",
    "driver=webdriver.Chrome()"
   ]
  },
  {
   "cell_type": "code",
   "execution_count": 4,
   "id": "3ea72c29",
   "metadata": {},
   "outputs": [],
   "source": [
    "driver.get('https://www.motor1.com/')"
   ]
  },
  {
   "cell_type": "code",
   "execution_count": 6,
   "id": "f8c1aedc",
   "metadata": {},
   "outputs": [],
   "source": [
    "c = driver.find_element(By.XPATH,\"/html/body/div[9]/div[2]/div/div/div[3]/div/div/div/form/input\")\n",
    "c.send_keys('50 most expensive cars')"
   ]
  },
  {
   "cell_type": "code",
   "execution_count": 7,
   "id": "0b6d7b5d",
   "metadata": {},
   "outputs": [],
   "source": [
    "search = driver.find_element(By.XPATH,\"/html/body/div[9]/div[2]/div/div/div[3]/div/div/div/form/button[1]\")# enter the serch button\n",
    "search.click()"
   ]
  },
  {
   "cell_type": "code",
   "execution_count": 8,
   "id": "d280ece2",
   "metadata": {},
   "outputs": [],
   "source": [
    "LINK = driver.find_element(By.XPATH,\"/html/body/div[9]/div[9]/div/div[1]/div/div/div[1]/div/div[1]/h3/a\")\n",
    "LINK.click()"
   ]
  },
  {
   "cell_type": "code",
   "execution_count": 9,
   "id": "937a3a7f",
   "metadata": {},
   "outputs": [],
   "source": [
    "CAR_NAME=[]\n",
    "PRICE=[]\n"
   ]
  },
  {
   "cell_type": "code",
   "execution_count": 16,
   "id": "121cf535",
   "metadata": {},
   "outputs": [],
   "source": [
    "CAR_tags=driver.find_elements(By.XPATH,'//h3[@class=\"subheader\"]')\n",
    "for i in CAR_tags:\n",
    "    title=i.text\n",
    "    CAR_NAME.append(title)\n",
    "    \n",
    "PRICE_tags=driver.find_elements(By.XPATH,'//*[@id=\"p\"]/strong')\n",
    "for i in PRICE_tags:\n",
    "    price=i.text\n",
    "    PRICE.append(price)\n",
    "    "
   ]
  },
  {
   "cell_type": "code",
   "execution_count": 15,
   "id": "a8066717",
   "metadata": {},
   "outputs": [
    {
     "name": "stdout",
     "output_type": "stream",
     "text": [
      "153 1\n"
     ]
    }
   ],
   "source": [
    "print(len(CAR_NAME),len(PRICE))"
   ]
  },
  {
   "cell_type": "code",
   "execution_count": null,
   "id": "31459fa8",
   "metadata": {},
   "outputs": [],
   "source": []
  }
 ],
 "metadata": {
  "kernelspec": {
   "display_name": "Python 3 (ipykernel)",
   "language": "python",
   "name": "python3"
  },
  "language_info": {
   "codemirror_mode": {
    "name": "ipython",
    "version": 3
   },
   "file_extension": ".py",
   "mimetype": "text/x-python",
   "name": "python",
   "nbconvert_exporter": "python",
   "pygments_lexer": "ipython3",
   "version": "3.11.5"
  }
 },
 "nbformat": 4,
 "nbformat_minor": 5
}
