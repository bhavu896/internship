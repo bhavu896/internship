{
 "cells": [
  {
   "cell_type": "code",
   "execution_count": null,
   "id": "c6c038b2",
   "metadata": {},
   "outputs": [],
   "source": [
    "from bs4 import BeautifulSoup\n",
    "import requests\n",
    "import pandas as pd"
   ]
  },
  {
   "cell_type": "code",
   "execution_count": null,
   "id": "4f338f86",
   "metadata": {},
   "outputs": [],
   "source": [
    "#Write a python program to display IMDB’s Top rated 100 Indian movies’ data https://www.imdb.com/list/ls056092300/ (i.e. name, rating, year ofrelease) and make data frame\n",
    "page=requests.get('https://www.imdb.com/list/ls056092300/')\n",
    "page"
   ]
  },
  {
   "cell_type": "code",
   "execution_count": null,
   "id": "338bd86c",
   "metadata": {},
   "outputs": [],
   "source": [
    "soup=BeautifulSoup(page.content)\n",
    "soup\n"
   ]
  },
  {
   "cell_type": "code",
   "execution_count": null,
   "id": "b17544ab",
   "metadata": {},
   "outputs": [],
   "source": [
    "name=[]\n",
    "\n",
    "for i in soup.find_all('h3',class_='lister-item-header'):\n",
    "        i=i.get_text().replace('\\n',\" \")\n",
    "        i=i.strip(\" \")\n",
    "        name.append(i)\n",
    "name"
   ]
  },
  {
   "cell_type": "code",
   "execution_count": null,
   "id": "8314f770",
   "metadata": {},
   "outputs": [],
   "source": [
    "rate=[]\n",
    "for i in soup.find_all('div',class_=\"ipl-rating-star small\"):\n",
    "    i=i.get_text().replace('\\n',\" \")\n",
    "    i=i.strip(\" \")\n",
    "    rate.append(i)\n",
    "rate"
   ]
  },
  {
   "cell_type": "code",
   "execution_count": null,
   "id": "de2bc317",
   "metadata": {},
   "outputs": [],
   "source": [
    "df=pd.DataFrame({'Movie_name':name,'Rating':rate})\n",
    "df"
   ]
  },
  {
   "cell_type": "code",
   "execution_count": null,
   "id": "bf302a2f",
   "metadata": {},
   "outputs": [],
   "source": [
    "#Write a python program to scrape product name, price and discounts from https://www.meesho.com/bags-ladies/pl/3jo?page=1\n",
    "page=requests.get('https://peachmode.com/search?q=bags')\n",
    "page"
   ]
  },
  {
   "cell_type": "code",
   "execution_count": null,
   "id": "43cf489b",
   "metadata": {},
   "outputs": [],
   "source": [
    "soup=BeautifulSoup(page.content)\n",
    "soup"
   ]
  },
  {
   "cell_type": "code",
   "execution_count": null,
   "id": "08f79dca",
   "metadata": {},
   "outputs": [],
   "source": [
    "name=[]\n",
    "for i in soup.find_all('div',class_=\"product-title\"):\n",
    "    name.append(i.text.replace('\\n',\" \"))\n",
    "name\n",
    "\n"
   ]
  },
  {
   "cell_type": "code",
   "execution_count": null,
   "id": "138de056",
   "metadata": {},
   "outputs": [],
   "source": [
    "price=[]\n",
    "for i in soup.find_all('div',class_='st-product-prices'):\n",
    "    price.append(i.text)\n",
    "price"
   ]
  },
  {
   "cell_type": "code",
   "execution_count": null,
   "id": "671fa2dc",
   "metadata": {},
   "outputs": [],
   "source": [
    "discount=[]\n",
    "for i in soup.find_all('span',class_='discounted_price st-money money done'):\n",
    "    discount.append(i.text)\n",
    "discount"
   ]
  },
  {
   "cell_type": "code",
   "execution_count": null,
   "id": "06116efe",
   "metadata": {},
   "outputs": [],
   "source": [
    "#a) Top 10 ODI teams in men’s cricket along with the records for matches, points and rating\n",
    "page=requests.get('https://www.icc-cricket.com/rankings/team-rankings/mens/odi')\n",
    "page\n"
   ]
  },
  {
   "cell_type": "code",
   "execution_count": null,
   "id": "45a70b0d",
   "metadata": {},
   "outputs": [],
   "source": [
    "soup=BeautifulSoup(page.content)\n",
    "soup"
   ]
  },
  {
   "cell_type": "code",
   "execution_count": null,
   "id": "e6ab821d",
   "metadata": {},
   "outputs": [],
   "source": [
    "match=[]\n",
    "for i in soup.find_all('div',class_='si-table-data si-matches'):\n",
    "    i=i.get_text().replace('\\n',\" \")\n",
    "    i=i.strip(\" \")\n",
    "    match.append(i)\n",
    "match"
   ]
  },
  {
   "cell_type": "code",
   "execution_count": null,
   "id": "c7250f3a",
   "metadata": {},
   "outputs": [],
   "source": [
    "point=[]\n",
    "\n",
    "for i in soup.find_all('div',class_='si-table-data si-pts'):\n",
    "    i=i.get_text().replace('\\n',\" \")\n",
    "    i=i.strip(\" \")\n",
    "    point.append(i)\n",
    "    \n",
    "point"
   ]
  },
  {
   "cell_type": "code",
   "execution_count": null,
   "id": "0000ffbf",
   "metadata": {},
   "outputs": [],
   "source": [
    "rating=[]\n",
    "for i in soup.find_all('div',class_='si-table-data si-rating'):\n",
    "    rating.append(i.text)\n",
    "rating"
   ]
  },
  {
   "cell_type": "code",
   "execution_count": null,
   "id": "ed4dcc92",
   "metadata": {},
   "outputs": [],
   "source": [
    "#b) Top 10 ODI Batsmen along with the records of their team and rating.\n",
    "page=requests.get('https://www.icc-cricket.com/rankings/batting/mens/odi')\n",
    "page\n"
   ]
  },
  {
   "cell_type": "code",
   "execution_count": null,
   "id": "0970d955",
   "metadata": {},
   "outputs": [],
   "source": [
    "soup=BeautifulSoup(page.content)\n",
    "soup"
   ]
  },
  {
   "cell_type": "code",
   "execution_count": null,
   "id": "8bdacf7e",
   "metadata": {},
   "outputs": [],
   "source": [
    "team=[]\n",
    "for i in soup.find_all('div',class_='si-table-data.si-team'):\n",
    "    i=i.get_text().replace('\\n',\" \")\n",
    "    i=i.strip(\" \")\n",
    "    team.append(i)\n",
    "team"
   ]
  },
  {
   "cell_type": "code",
   "execution_count": null,
   "id": "cf96c320",
   "metadata": {},
   "outputs": [],
   "source": [
    "rating=[]\n",
    "for i in soup.find_all('div',class_='si-table-data.si-rating'):\n",
    "    rating.append(i.text)\n",
    "rating"
   ]
  },
  {
   "cell_type": "code",
   "execution_count": null,
   "id": "796b8734",
   "metadata": {},
   "outputs": [],
   "source": [
    "#c) Top 10 ODI bowlers along with the records of their team and rating\n",
    "page=requests.get('https://www.icc-cricket.com/rankings/bowling/mens/odi')\n",
    "page\n"
   ]
  },
  {
   "cell_type": "code",
   "execution_count": null,
   "id": "0f63330e",
   "metadata": {},
   "outputs": [],
   "source": [
    "soup=BeautifulSoup(page.content)\n",
    "soup"
   ]
  },
  {
   "cell_type": "code",
   "execution_count": null,
   "id": "ee22a546",
   "metadata": {},
   "outputs": [],
   "source": [
    "team=[]\n",
    "for i in soup.find_all('div',class_='si-table-data si-team'):\n",
    "    i=i.get_text().replace('\\n',\" \")\n",
    "    i=i.strip(\" \")\n",
    "    team.append(i)\n",
    "team"
   ]
  },
  {
   "cell_type": "code",
   "execution_count": null,
   "id": "4558152d",
   "metadata": {},
   "outputs": [],
   "source": [
    "rating=[]\n",
    "for i in soup.find_all('div',class_='si-table-data si-rating'):\n",
    "    i=i.get_text().replace('\\n',\" \")\n",
    "    i=i.strip(\" \")\n",
    "    rating.append(i)\n",
    "rating"
   ]
  },
  {
   "cell_type": "code",
   "execution_count": null,
   "id": "542cf3aa",
   "metadata": {},
   "outputs": [],
   "source": [
    "#4) Write a python program to scrape details of all the posts from https://www.patreon.com/coreyms .Scrape theheading, date, content and the likes for the video from the link for the youtube video from the post.\n",
    "page=requests.get('https://www.patreon.com/coreyms')\n",
    "page"
   ]
  },
  {
   "cell_type": "code",
   "execution_count": null,
   "id": "efcedc1b",
   "metadata": {},
   "outputs": [],
   "source": [
    "soup=BeautifulSoup(page.content)\n",
    "soup"
   ]
  },
  {
   "cell_type": "code",
   "execution_count": null,
   "id": "c3db63b1",
   "metadata": {},
   "outputs": [],
   "source": [
    "head=[]\n",
    "for t in soup.find_all('div',class_='sc-dlVxhl gJYudr'):\n",
    "    t=t.get_text().replace('\\n',\" \")\n",
    "    t=t.strip(\" \")\n",
    "    head.append(t)\n",
    "head"
   ]
  },
  {
   "cell_type": "code",
   "execution_count": null,
   "id": "2f942335",
   "metadata": {},
   "outputs": [],
   "source": [
    "date = []\n",
    "for t in soup.find_all('div',class_='sc-mz8f26-0 gvyUof'):\n",
    "    t=t.get_text().replace('\\n',\" \")\n",
    "    t=t.strip(\" \")\n",
    "    date.append(t)\n",
    "date"
   ]
  },
  {
   "cell_type": "code",
   "execution_count": null,
   "id": "94fb3c23",
   "metadata": {},
   "outputs": [],
   "source": [
    "content=[]\n",
    "for i in soup.find_all('div',class_=\"sc-p5flmk-0 hgUaki\"):\n",
    "    content.append(i.text)\n",
    "content"
   ]
  },
  {
   "cell_type": "code",
   "execution_count": null,
   "id": "539ec5b1",
   "metadata": {},
   "outputs": [],
   "source": [
    "like=[]\n",
    "for i in soup.find_all('div',class_=\"sc-dJjYzT btaCMH\"):\n",
    "    i=i.get_text().replace('\\n',\" \")\n",
    "    i=i.strip(\" \")\n",
    "    like.append(i)\n",
    "like"
   ]
  },
  {
   "cell_type": "code",
   "execution_count": null,
   "id": "5f423a92",
   "metadata": {},
   "outputs": [],
   "source": [
    "#Write a python program to scrape house details from mentioned URL. It should include house title, location,area, EMI and price from https://www.nobroker.in/ .Enter three localities which are Indira Nagar, Jayanagar,Rajaji Nagar.\n",
    "\n",
    "page=requests.get('https://www.nobroker.in/property/sale/bangalore/multiple?searchParam=W3sibGF0IjoxMi45NzgzNjkyLCJsb24iOjc3LjY0MDgzNTYsInBsYWNlSWQiOiJDaElKa1FOM0dLUVdyanNSTmhCUUpyaEdEN1UiLCJwbGFjZU5hbWUiOiJJbmRpcmFuYWdhciJ9LHsibGF0IjoxMi45OTgxNzMyLCJsb24iOjc3LjU1MzA0NDU5OTk5OTk5LCJwbGFjZUlkIjoiQ2hJSnhmVzREUE05cmpzUktzTlRHLTVwX1FRIiwicGxhY2VOYW1lIjoiUmFqYWppbmFnYXIifSx7ImxhdCI6MTIuOTMwNzczNSwibG9uIjo3Ny41ODM4MzAyLCJwbGFjZUlkIjoiQ2hJSjJkZGxaNWdWcmpzUmgxQk9BYWYtb3JzIiwicGxhY2VOYW1lIjoiSmF5YW5hZ2FyIn1d&radius=2.0&city=bangalore&locality=Indiranagar,Rajajinagar,Jayanagar')\n",
    "page\n",
    "\n",
    "\n"
   ]
  },
  {
   "cell_type": "code",
   "execution_count": null,
   "id": "8237d5a4",
   "metadata": {},
   "outputs": [],
   "source": [
    "soup=BeautifulSoup(page.content)\n",
    "soup\n"
   ]
  },
  {
   "cell_type": "code",
   "execution_count": null,
   "id": "40233404",
   "metadata": {},
   "outputs": [],
   "source": [
    "house_title = []\n",
    "for i in soup.find_all('div',class_=\"text-16 text-my-booking-color whitespace-nowrap overflow-hidden overflow-ellipsis\"):\n",
    "    house_title.append(i.text)\n",
    "house_title"
   ]
  },
  {
   "cell_type": "code",
   "execution_count": null,
   "id": "98ac2c27",
   "metadata": {},
   "outputs": [],
   "source": [
    "location=[]\n",
    "for i in soup.find_all('div',class_=\"text-12 text-my-booking-color whitespace-nowrap overflow-hidden overflow-ellipsis opacity-80\"):\n",
    "    location.append(i.text)\n",
    "location"
   ]
  },
  {
   "cell_type": "code",
   "execution_count": null,
   "id": "6e05af53",
   "metadata": {},
   "outputs": [],
   "source": [
    "area=[]\n",
    "for i in soup.find_all('span',class_=\"text-16 font-semibold text-my-booking-color \"):\n",
    "    area.append(i.text)\n",
    "area"
   ]
  },
  {
   "cell_type": "code",
   "execution_count": null,
   "id": "88e1e805",
   "metadata": {},
   "outputs": [],
   "source": [
    "emi=[]\n",
    "for i in soup.find_all('span',class_=\"text-11 text-my-booking-color opacity-80\"):\n",
    "    emi.append(i.text)\n",
    "emi"
   ]
  },
  {
   "cell_type": "code",
   "execution_count": null,
   "id": "6852313f",
   "metadata": {},
   "outputs": [],
   "source": [
    "price=[]\n",
    "for i in soup.find_all('div',class_=\"flex justify-center items-center\"):\n",
    "    price.append(i.text)\n",
    "price"
   ]
  },
  {
   "cell_type": "code",
   "execution_count": 37,
   "id": "5fd4d933",
   "metadata": {},
   "outputs": [
    {
     "data": {
      "text/plain": [
       "<Response [200]>"
      ]
     },
     "execution_count": 37,
     "metadata": {},
     "output_type": "execute_result"
    }
   ],
   "source": [
    "#Write a python program to scrape first 10 product details which include product name , price , Image URL fromhttps://www.bewakoof.com/bestseller?sort=popular \n",
    "page=requests.get('https://www.bewakoof.com/women-printed-t-shirts')\n",
    "page"
   ]
  },
  {
   "cell_type": "code",
   "execution_count": null,
   "id": "28c9ea4e",
   "metadata": {},
   "outputs": [],
   "source": [
    "soup=BeautifulSoup(page.content)\n",
    "soup"
   ]
  },
  {
   "cell_type": "code",
   "execution_count": 39,
   "id": "52651fd3",
   "metadata": {},
   "outputs": [
    {
     "data": {
      "text/html": [
       "<div>\n",
       "<style scoped>\n",
       "    .dataframe tbody tr th:only-of-type {\n",
       "        vertical-align: middle;\n",
       "    }\n",
       "\n",
       "    .dataframe tbody tr th {\n",
       "        vertical-align: top;\n",
       "    }\n",
       "\n",
       "    .dataframe thead th {\n",
       "        text-align: right;\n",
       "    }\n",
       "</style>\n",
       "<table border=\"1\" class=\"dataframe\">\n",
       "  <thead>\n",
       "    <tr style=\"text-align: right;\">\n",
       "      <th></th>\n",
       "      <th>product_name</th>\n",
       "      <th>price</th>\n",
       "      <th>images</th>\n",
       "    </tr>\n",
       "  </thead>\n",
       "  <tbody>\n",
       "    <tr>\n",
       "      <th>0</th>\n",
       "      <td>Bewakoof®Women's Brown All Over Printed Boyfri...</td>\n",
       "      <td>₹999</td>\n",
       "      <td>https://images.bewakoof.com/t640/women-aop-boy...</td>\n",
       "    </tr>\n",
       "    <tr>\n",
       "      <th>1</th>\n",
       "      <td>Bewakoof®Women's Pink Don't Block Graphic Prin...</td>\n",
       "      <td>₹1099</td>\n",
       "      <td>https://images.bewakoof.com/t640/women-don-t-b...</td>\n",
       "    </tr>\n",
       "    <tr>\n",
       "      <th>2</th>\n",
       "      <td>Bewakoof Heavy Duty® 1.0Women's Blue &amp; Black A...</td>\n",
       "      <td>₹999</td>\n",
       "      <td>https://images.bewakoof.com/t640/women-aop-ove...</td>\n",
       "    </tr>\n",
       "    <tr>\n",
       "      <th>3</th>\n",
       "      <td>Bewakoof®Women's Purple Sunny Moooood Graphic ...</td>\n",
       "      <td>₹999</td>\n",
       "      <td>https://images.bewakoof.com/t640/women-s-purpl...</td>\n",
       "    </tr>\n",
       "    <tr>\n",
       "      <th>4</th>\n",
       "      <td>bewakoof x tom &amp; jerryWomen's Gardenia Tom Gra...</td>\n",
       "      <td>₹1099</td>\n",
       "      <td>https://images.bewakoof.com/t640/women-s-pink-...</td>\n",
       "    </tr>\n",
       "    <tr>\n",
       "      <th>5</th>\n",
       "      <td>bewakoof x disneyWomen's Black Happy Face Grap...</td>\n",
       "      <td>₹1299</td>\n",
       "      <td>https://images.bewakoof.com/t640/women-s-black...</td>\n",
       "    </tr>\n",
       "    <tr>\n",
       "      <th>6</th>\n",
       "      <td>bewakoof x nasaWomen's Black Apollo Graphic Pr...</td>\n",
       "      <td>₹1249</td>\n",
       "      <td>https://images.bewakoof.com/t640/women-s-black...</td>\n",
       "    </tr>\n",
       "    <tr>\n",
       "      <th>7</th>\n",
       "      <td>bewakoof x garfieldWomen's Green Lazy Garfield...</td>\n",
       "      <td>₹999</td>\n",
       "      <td>https://images.bewakoof.com/t640/women-s-green...</td>\n",
       "    </tr>\n",
       "    <tr>\n",
       "      <th>8</th>\n",
       "      <td>Bewakoof®Women's Black Nessy Graphic Printed O...</td>\n",
       "      <td>₹1299</td>\n",
       "      <td>https://images.bewakoof.com/t640/women-s-black...</td>\n",
       "    </tr>\n",
       "    <tr>\n",
       "      <th>9</th>\n",
       "      <td>bewakoof x disneyWomen's Lavender Mickey Face ...</td>\n",
       "      <td>₹1149</td>\n",
       "      <td>https://images.bewakoof.com/t640/women-s-laven...</td>\n",
       "    </tr>\n",
       "  </tbody>\n",
       "</table>\n",
       "</div>"
      ],
      "text/plain": [
       "                                        product_name  price  \\\n",
       "0  Bewakoof®Women's Brown All Over Printed Boyfri...   ₹999   \n",
       "1  Bewakoof®Women's Pink Don't Block Graphic Prin...  ₹1099   \n",
       "2  Bewakoof Heavy Duty® 1.0Women's Blue & Black A...   ₹999   \n",
       "3  Bewakoof®Women's Purple Sunny Moooood Graphic ...   ₹999   \n",
       "4  bewakoof x tom & jerryWomen's Gardenia Tom Gra...  ₹1099   \n",
       "5  bewakoof x disneyWomen's Black Happy Face Grap...  ₹1299   \n",
       "6  bewakoof x nasaWomen's Black Apollo Graphic Pr...  ₹1249   \n",
       "7  bewakoof x garfieldWomen's Green Lazy Garfield...   ₹999   \n",
       "8  Bewakoof®Women's Black Nessy Graphic Printed O...  ₹1299   \n",
       "9  bewakoof x disneyWomen's Lavender Mickey Face ...  ₹1149   \n",
       "\n",
       "                                              images  \n",
       "0  https://images.bewakoof.com/t640/women-aop-boy...  \n",
       "1  https://images.bewakoof.com/t640/women-don-t-b...  \n",
       "2  https://images.bewakoof.com/t640/women-aop-ove...  \n",
       "3  https://images.bewakoof.com/t640/women-s-purpl...  \n",
       "4  https://images.bewakoof.com/t640/women-s-pink-...  \n",
       "5  https://images.bewakoof.com/t640/women-s-black...  \n",
       "6  https://images.bewakoof.com/t640/women-s-black...  \n",
       "7  https://images.bewakoof.com/t640/women-s-green...  \n",
       "8  https://images.bewakoof.com/t640/women-s-black...  \n",
       "9  https://images.bewakoof.com/t640/women-s-laven...  "
      ]
     },
     "execution_count": 39,
     "metadata": {},
     "output_type": "execute_result"
    }
   ],
   "source": [
    "product_name=[]\n",
    "price=[]\n",
    "images=[]\n",
    "\n",
    "for i in soup.find_all('div',class_=\"productNaming bkf-ellipsis\"):\n",
    "    product_name.append(i.text)\n",
    "    \n",
    "for i in soup.find_all('div',class_=\"actualPriceText clr-shade5\"):\n",
    "    price.append(i.text)\n",
    "\n",
    "for i in soup.find_all(\"img\",class_=\"productImgTag\"):\n",
    "    images.append(i['src'])\n",
    "    \n",
    "df=pd.DataFrame({'product_name':product_name,'price':price,'images':images})\n",
    "df.head(10)\n",
    "    \n"
   ]
  },
  {
   "cell_type": "code",
   "execution_count": null,
   "id": "b84c72eb",
   "metadata": {},
   "outputs": [],
   "source": []
  }
 ],
 "metadata": {
  "kernelspec": {
   "display_name": "Python 3 (ipykernel)",
   "language": "python",
   "name": "python3"
  },
  "language_info": {
   "codemirror_mode": {
    "name": "ipython",
    "version": 3
   },
   "file_extension": ".py",
   "mimetype": "text/x-python",
   "name": "python",
   "nbconvert_exporter": "python",
   "pygments_lexer": "ipython3",
   "version": "3.11.5"
  }
 },
 "nbformat": 4,
 "nbformat_minor": 5
}
