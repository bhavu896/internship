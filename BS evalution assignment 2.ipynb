{
 "cells": [
  {
   "cell_type": "code",
   "execution_count": 1,
   "id": "17544745",
   "metadata": {},
   "outputs": [],
   "source": [
    "from bs4 import BeautifulSoup\n",
    "import requests\n",
    "import pandas as pd"
   ]
  },
  {
   "cell_type": "code",
   "execution_count": 43,
   "id": "7d14be79",
   "metadata": {},
   "outputs": [
    {
     "data": {
      "text/plain": [
       "<Response [200]>"
      ]
     },
     "execution_count": 43,
     "metadata": {},
     "output_type": "execute_result"
    }
   ],
   "source": [
    "#Q2-Please visit https://www.keaipublishing.com/en/journals/artificial-intelligence-in-agriculture/most-downloaded-articles/ and scrap-\n",
    "page=requests.get('https://www.keaipublishing.com/en/journals/artificial-intelligence-in-agriculture/most-downloaded-articles/')\n",
    "page"
   ]
  },
  {
   "cell_type": "code",
   "execution_count": null,
   "id": "6e2ca645",
   "metadata": {},
   "outputs": [],
   "source": [
    "soup=BeautifulSoup(page.content)\n",
    "soup\n"
   ]
  },
  {
   "cell_type": "code",
   "execution_count": 50,
   "id": "a9794ec0",
   "metadata": {},
   "outputs": [
    {
     "data": {
      "text/plain": [
       "['Implementation of artificial intelligence in agriculture for optimisation of irrigation and application of pesticides and herbicides\\r\\n                \\n',\n",
       " 'Review of agricultural IoT technology\\r\\n                \\n',\n",
       " 'A comprehensive review on automation in agriculture using artificial intelligence\\r\\n                \\n',\n",
       " 'Automation and digitization of agriculture using artificial intelligence and internet of things\\r\\n                \\n',\n",
       " 'Applications of electronic nose (e-nose) and electronic tongue (e-tongue) in food quality-related properties determination: A review\\r\\n                \\n',\n",
       " 'Fruit ripeness classification: A survey\\r\\n                \\n',\n",
       " 'A review of imaging techniques for plant disease detection\\r\\n                \\n',\n",
       " 'Deep learning based computer vision approaches for smart agricultural applications\\r\\n                \\n',\n",
       " 'Comparison of CNN-based deep learning architectures for rice diseases classification\\r\\n                \\n',\n",
       " 'Transfer Learning for Multi-Crop Leaf Disease Image Classification using Convolutional Neural Network VGG\\r\\n                \\n',\n",
       " 'Plant disease detection using hybrid model based on convolutional autoencoder and convolutional neural network\\r\\n                \\n',\n",
       " 'Machine learning in nutrient management: A review\\r\\n                \\n',\n",
       " 'DeepRice: A deep learning and deep feature based classification of Rice leaf disease subtypes\\r\\n                \\n',\n",
       " 'How artificial intelligence uses to achieve the agriculture sustainability: Systematic review\\r\\n                \\n',\n",
       " 'Machine learning for weed–plant discrimination in agriculture 5.0: An in-depth review\\r\\n                \\n',\n",
       " 'Examining the interplay between artificial intelligence and the agri-food industry\\r\\n                \\n',\n",
       " 'Deep convolutional neural network models for weed detection in polyhouse grown bell peppers\\r\\n                \\n',\n",
       " 'A systematic review of machine learning techniques for cattle identification: Datasets, methods and future directions\\r\\n                \\n',\n",
       " 'A review on computer vision systems in monitoring of poultry: A welfare perspective\\r\\n                \\n',\n",
       " 'Crop diagnostic system: A robust disease detection and management system for leafy green crops grown in an aquaponics facility\\r\\n                \\n',\n",
       " 'Artificial cognition for applications in smart agriculture: A comprehensive review\\r\\n                \\n',\n",
       " 'Explainable artificial intelligence and interpretable machine learning for agricultural data analysis\\r\\n                \\n',\n",
       " 'Blockchain: A new safeguard for agri-foods\\r\\n                \\n',\n",
       " 'Study on body temperature detection of pig based on infrared technology: A review\\r\\n                \\n',\n",
       " 'Vision Intelligence for Smart Sheep Farming: Applying Ensemble Learning to Detect Sheep Breeds\\r\\n                \\n']"
      ]
     },
     "execution_count": 50,
     "metadata": {},
     "output_type": "execute_result"
    }
   ],
   "source": [
    "paper_title=[]\n",
    "\n",
    "for i in soup.find_all('h2',class_='h5 article-title'):\n",
    "        i=i.get_text().replace('\\n\\r\\n',\" \")\n",
    "        i=i.strip(\" \")\n",
    "        paper_title.append(i)\n",
    "paper_title"
   ]
  },
  {
   "cell_type": "code",
   "execution_count": 51,
   "id": "e7642b15",
   "metadata": {},
   "outputs": [
    {
     "data": {
      "text/plain": [
       "['2020',\n",
       " '2022',\n",
       " 'June 2019',\n",
       " '2021',\n",
       " '2020',\n",
       " 'March 2023',\n",
       " '2020',\n",
       " '2022',\n",
       " 'September 2023',\n",
       " '2022',\n",
       " '2021',\n",
       " 'September 2023',\n",
       " 'March 2024',\n",
       " 'June 2023',\n",
       " 'December 2023',\n",
       " '2022',\n",
       " '2022',\n",
       " '2022',\n",
       " '2020',\n",
       " 'December 2023',\n",
       " '2020',\n",
       " '2022',\n",
       " '2020',\n",
       " 'March 2019',\n",
       " 'March 2024']"
      ]
     },
     "execution_count": 51,
     "metadata": {},
     "output_type": "execute_result"
    }
   ],
   "source": [
    "date=[]\n",
    "\n",
    "for i in soup.find_all('p',class_='article-date'):\n",
    "        i=i.get_text().replace('\\n',\" \")\n",
    "        i=i.strip(\" \")\n",
    "        date.append(i)\n",
    "date"
   ]
  },
  {
   "cell_type": "code",
   "execution_count": 13,
   "id": "c012490d",
   "metadata": {},
   "outputs": [
    {
     "data": {
      "text/plain": [
       "['Tanha Talaviya |  Dhara Shah |  Nivedita Patel |  Hiteshri Yagnik |  Manan Shah',\n",
       " 'Jinyuan Xu |  Baoxing Gu |  Guangzhao Tian',\n",
       " 'Kirtan Jha |  Aalap Doshi |  Poojan Patel |  Manan Shah',\n",
       " 'A. Subeesh |  C.R. Mehta',\n",
       " 'Juzhong Tan |  Jie Xu',\n",
       " 'Matteo Rizzo |  Matteo Marcuzzo |  Alessandro Zangari |  Andrea Gasparetto |  Andrea Albarelli',\n",
       " 'Vijai Singh |  Namita Sharma |  Shikha Singh',\n",
       " 'V.G. Dhanya |  A. Subeesh |  N.L. Kushwaha |  Dinesh Kumar Vishwakarma |  T. Nagesh Kumar |  G. Ritika |  A.N. Singh',\n",
       " 'Md Taimur Ahad |  Yan Li |  Bo Song |  Touhid Bhuiyan',\n",
       " 'Ananda S. Paymode |  Vandana B. Malode',\n",
       " 'Punam Bedi |  Pushkar Gole',\n",
       " 'Oumnia Ennaji |  Leonardus Vergütz |  Achraf El Allali',\n",
       " 'P. Isaac Ritharson |  Kumudha Raimond |  X. Anitha Mary |  Jennifer Eunice Robert |  Andrew J',\n",
       " 'Vilani Sachithra |  L.D.C.S. Subhashini',\n",
       " 'Filbert H. Juwono |  W.K. Wong |  Seema Verma |  Neha Shekhawat |  Basil Andy Lease |  Catur Apriono',\n",
       " 'Abderahman Rejeb |  Karim Rejeb |  Suhaiza Zailani |  John G. Keogh |  Andrea Appolloni',\n",
       " 'A. Subeesh |  S. Bhole |  K. Singh |  N.S. Chandel |  Y.A. Rajwade |  K.V.R. Rao |  S.P. Kumar |  D. Jat',\n",
       " 'Md Ekramul Hossain |  Muhammad Ashad Kabir |  Lihong Zheng |  Dave L. Swain |  Shawn McGrath |  Jonathan Medway',\n",
       " 'Cedric Okinda |  Innocent Nyalala |  Tchalla Korohou |  Celestine Okinda |  Jintao Wang |  Tracy Achieng |  Patrick Wamalwa |  Tai Mang |  Mingxia Shen',\n",
       " 'R. Abbasi |  P. Martinez |  R. Ahmad',\n",
       " 'Misbah Pathan |  Nivedita Patel |  Hiteshri Yagnik |  Manan Shah',\n",
       " 'Masahiro Ryo',\n",
       " 'Jie Xu |  Shuang Guo |  David Xie |  Yaxuan Yan',\n",
       " 'Zaiqin Zhang |  Hang Zhang |  Tonghai Liu',\n",
       " 'Galib Muhammad Shahriar Himel |  Md. Masudul Islam |  Mijanur Rahaman']"
      ]
     },
     "execution_count": 13,
     "metadata": {},
     "output_type": "execute_result"
    }
   ],
   "source": [
    "author_name=[]\n",
    "\n",
    "for i in soup.find_all('p',class_='article-authors'):\n",
    "        i=i.get_text().replace('\\n',\" \")\n",
    "        i=i.strip(\" \")\n",
    "        author_name.append(i)\n",
    "author_name"
   ]
  },
  {
   "cell_type": "code",
   "execution_count": 16,
   "id": "6ae5dd29",
   "metadata": {},
   "outputs": [
    {
     "data": {
      "text/plain": [
       "<Response [200]>"
      ]
     },
     "execution_count": 16,
     "metadata": {},
     "output_type": "execute_result"
    }
   ],
   "source": [
    "#Q1-Please visit https://www.cnbc.com/world/?region=world and scrap-\n",
    "page=requests.get('https://www.cnbc.com/world/?region=world')\n",
    "page\n"
   ]
  },
  {
   "cell_type": "code",
   "execution_count": null,
   "id": "4b2648de",
   "metadata": {},
   "outputs": [],
   "source": [
    "soup=BeautifulSoup(page.content)\n",
    "soup"
   ]
  },
  {
   "cell_type": "code",
   "execution_count": 36,
   "id": "01a4cb90",
   "metadata": {},
   "outputs": [
    {
     "data": {
      "text/plain": [
       "['Markets',\n",
       " 'Business',\n",
       " 'Investing',\n",
       " 'Tech',\n",
       " 'Politics',\n",
       " 'CNBC TV',\n",
       " 'Watchlist',\n",
       " 'Investing Club',\n",
       " 'PRO',\n",
       " 'Menu',\n",
       " 'Markets',\n",
       " 'Business',\n",
       " 'Investing',\n",
       " 'Tech',\n",
       " 'Politics',\n",
       " 'CNBC TV',\n",
       " 'Watchlist',\n",
       " 'Investing Club',\n",
       " 'PRO',\n",
       " 'Menu']"
      ]
     },
     "execution_count": 36,
     "metadata": {},
     "output_type": "execute_result"
    }
   ],
   "source": [
    "headings=[]\n",
    "\n",
    "for i in soup.find_all('span',class_=\"nav-menu-buttonText\"):        \n",
    "    headings.append(i.text)\n",
    "headings"
   ]
  },
  {
   "cell_type": "code",
   "execution_count": 35,
   "id": "d0a28888",
   "metadata": {},
   "outputs": [
    {
     "data": {
      "text/plain": [
       "['8 Min Ago',\n",
       " '13 Min Ago',\n",
       " '26 Min Ago',\n",
       " '38 Min Ago',\n",
       " '45 Min Ago',\n",
       " '52 Min Ago',\n",
       " '1 Hour Ago',\n",
       " '2 Hours Ago',\n",
       " '2 Hours Ago',\n",
       " '2 Hours Ago',\n",
       " '2 Hours Ago',\n",
       " '2 Hours Ago',\n",
       " '3 Hours Ago',\n",
       " '3 Hours Ago',\n",
       " '3 Hours Ago',\n",
       " '3 Hours Ago',\n",
       " '4 Hours Ago',\n",
       " '4 Hours Ago',\n",
       " '4 Hours Ago',\n",
       " '5 Hours Ago',\n",
       " '5 Hours Ago',\n",
       " '5 Hours Ago',\n",
       " '5 Hours Ago',\n",
       " '6 Hours Ago',\n",
       " '6 Hours Ago',\n",
       " '7 Hours Ago',\n",
       " '8 Hours Ago',\n",
       " '8 Hours Ago',\n",
       " '8 Hours Ago',\n",
       " '10 Hours Ago']"
      ]
     },
     "execution_count": 35,
     "metadata": {},
     "output_type": "execute_result"
    }
   ],
   "source": [
    "date=[]\n",
    "\n",
    "for i in soup.find_all('time',class_=\"LatestNews-timestamp\"):\n",
    "    date.append(i.text)\n",
    "date"
   ]
  },
  {
   "cell_type": "code",
   "execution_count": 34,
   "id": "4688feb1",
   "metadata": {},
   "outputs": [
    {
     "data": {
      "text/plain": [
       "['8 Min AgoStocks making the biggest moves premarket: Dell, New York Community Bancorp, HP and more',\n",
       " '13 Min AgoMany workers believe pensions are key to achieving the American Dream',\n",
       " \"26 Min AgoFriday's top analyst calls: Nvidia, Apple, Netflix, Micron, Broadcom, Eli Lilly\",\n",
       " '38 Min AgoThe Taylor Swift economic effect has reached every town in America ',\n",
       " '45 Min Ago93% of women are stressed about money — a cash reserve can help, experts say',\n",
       " '52 Min AgoMoney is almost as hard to talk about as sex — especially for women',\n",
       " '1 Hour Ago5 things to know before the stock market opens Friday',\n",
       " '2 Hours AgoAnimal spirits are back in the market, fueling 2021-like speculative activity ',\n",
       " \"2 Hours AgoYum China CEO says consumers are growing more 'rational' amid rising costs\",\n",
       " '2 Hours AgoGoldman thinks the rest of Street is underestimating these stocks',\n",
       " \"2 Hours AgoNavalny's funeral in pictures: Mourners gather as riot police contain crowds\",\n",
       " '2 Hours AgoIran holds first elections since Mahsa Amini protests, with low turnout expected',\n",
       " '3 Hours AgoElon Musk sues OpenAI and CEO Sam Altman over contract breach',\n",
       " '3 Hours AgoFebruary was a great month for stocks. These were our 5 best performers',\n",
       " '3 Hours AgoAnalyst calls: Beauty stock gets downgrade, insurance name with big upside ahead',\n",
       " \"3 Hours AgoBritish telco BT expects to launch 5G standalone — or 'true' 5G — this year\",\n",
       " \"4 Hours AgoSalesforce's top AI ethics leader is 'optimistic' on the path to U.S. regulation\",\n",
       " '4 Hours AgoInflation remains sticky in Europe, with core prices cooling less than expected',\n",
       " '4 Hours AgoDaimler Truck surges 15% to new record on bumper earnings',\n",
       " '5 Hours Ago10-year Treasury yield slips as investors weigh economic outlook',\n",
       " '5 Hours AgoIn a bizarre British by-election, a pro-Palestinian firebrand just swept to victory',\n",
       " \"5 Hours Ago'Stupidity' poses a bigger threat than AI, CEO of Italian defense giant Leonardo says\",\n",
       " '5 Hours AgoNavalny memorial service concludes in Moscow amid heavy police presence',\n",
       " '6 Hours AgoEuropean markets cautiously higher as euro zone inflation falls less than expected',\n",
       " '6 Hours AgoCNBC Daily Open: Wall Street unfazed by hot inflation data',\n",
       " \"7 Hours AgoIndia 'easily' the fastest growing economy, IMF executive director says, as GDP growth blows past estimates\",\n",
       " \"8 Hours AgoUkraine's losses on the battlefield could make the war more dangerous for Russia\",\n",
       " '8 Hours AgoEurope is having its worst earnings season in 4 years — with little hope of a quick turnaround',\n",
       " '8 Hours AgoUK to lead European real estate boom as buyers eye investment opportunities',\n",
       " '10 Hours AgoIndia approves three chip plants with over $15 billion in investments to realize semiconductor ambitions']"
      ]
     },
     "execution_count": 34,
     "metadata": {},
     "output_type": "execute_result"
    }
   ],
   "source": [
    "news_link=[]\n",
    "\n",
    "for i in soup.find_all('div',class_=\"LatestNews-headlineWrapper\"):\n",
    "        news_link.append(i.text)\n",
    "news_link"
   ]
  },
  {
   "cell_type": "code",
   "execution_count": null,
   "id": "4a6efd32",
   "metadata": {},
   "outputs": [],
   "source": []
  }
 ],
 "metadata": {
  "kernelspec": {
   "display_name": "Python 3 (ipykernel)",
   "language": "python",
   "name": "python3"
  },
  "language_info": {
   "codemirror_mode": {
    "name": "ipython",
    "version": 3
   },
   "file_extension": ".py",
   "mimetype": "text/x-python",
   "name": "python",
   "nbconvert_exporter": "python",
   "pygments_lexer": "ipython3",
   "version": "3.11.5"
  }
 },
 "nbformat": 4,
 "nbformat_minor": 5
}
