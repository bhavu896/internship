{
 "cells": [
  {
   "cell_type": "code",
   "execution_count": 9,
   "id": "ed6defd6",
   "metadata": {},
   "outputs": [
    {
     "name": "stdout",
     "output_type": "stream",
     "text": [
      "Requirement already satisfied: selenium in c:\\users\\dell\\anaconda3\\lib\\site-packages (4.18.1)\n",
      "Requirement already satisfied: urllib3[socks]<3,>=1.26 in c:\\users\\dell\\anaconda3\\lib\\site-packages (from selenium) (1.26.16)\n",
      "Requirement already satisfied: trio~=0.17 in c:\\users\\dell\\anaconda3\\lib\\site-packages (from selenium) (0.24.0)\n",
      "Requirement already satisfied: trio-websocket~=0.9 in c:\\users\\dell\\anaconda3\\lib\\site-packages (from selenium) (0.11.1)\n",
      "Requirement already satisfied: certifi>=2021.10.8 in c:\\users\\dell\\anaconda3\\lib\\site-packages (from selenium) (2023.11.17)\n",
      "Requirement already satisfied: typing_extensions>=4.9.0 in c:\\users\\dell\\anaconda3\\lib\\site-packages (from selenium) (4.10.0)\n",
      "Requirement already satisfied: attrs>=20.1.0 in c:\\users\\dell\\anaconda3\\lib\\site-packages (from trio~=0.17->selenium) (22.1.0)\n",
      "Requirement already satisfied: sortedcontainers in c:\\users\\dell\\anaconda3\\lib\\site-packages (from trio~=0.17->selenium) (2.4.0)\n",
      "Requirement already satisfied: idna in c:\\users\\dell\\anaconda3\\lib\\site-packages (from trio~=0.17->selenium) (3.4)\n",
      "Requirement already satisfied: outcome in c:\\users\\dell\\anaconda3\\lib\\site-packages (from trio~=0.17->selenium) (1.3.0.post0)\n",
      "Requirement already satisfied: sniffio>=1.3.0 in c:\\users\\dell\\anaconda3\\lib\\site-packages (from trio~=0.17->selenium) (1.3.1)\n",
      "Requirement already satisfied: cffi>=1.14 in c:\\users\\dell\\anaconda3\\lib\\site-packages (from trio~=0.17->selenium) (1.15.1)\n",
      "Requirement already satisfied: wsproto>=0.14 in c:\\users\\dell\\anaconda3\\lib\\site-packages (from trio-websocket~=0.9->selenium) (1.2.0)\n",
      "Requirement already satisfied: PySocks!=1.5.7,<2.0,>=1.5.6 in c:\\users\\dell\\anaconda3\\lib\\site-packages (from urllib3[socks]<3,>=1.26->selenium) (1.7.1)\n",
      "Requirement already satisfied: pycparser in c:\\users\\dell\\anaconda3\\lib\\site-packages (from cffi>=1.14->trio~=0.17->selenium) (2.21)\n",
      "Requirement already satisfied: h11<1,>=0.9.0 in c:\\users\\dell\\anaconda3\\lib\\site-packages (from wsproto>=0.14->trio-websocket~=0.9->selenium) (0.14.0)\n"
     ]
    }
   ],
   "source": [
    "!pip install selenium"
   ]
  },
  {
   "cell_type": "code",
   "execution_count": 14,
   "id": "e366e592",
   "metadata": {},
   "outputs": [],
   "source": [
    "import selenium\n",
    "import pandas as pd\n",
    "from selenium import webdriver\n",
    "import warnings\n",
    "warnings.filterwarnings('ignore')\n",
    "from selenium.webdriver.common.by import By\n",
    "import time\n"
   ]
  },
  {
   "cell_type": "code",
   "execution_count": 19,
   "id": "19af44b3",
   "metadata": {},
   "outputs": [],
   "source": [
    "#Q1: Write a python program to scrape data for “Data Analyst” Job position in “Bangalore” location. You have to scrape the job-title, job-location, company_name, experience_required. You have to scrape first 10 jobs data\n",
    "driver=webdriver.Chrome()"
   ]
  },
  {
   "cell_type": "code",
   "execution_count": 21,
   "id": "421ba7b4",
   "metadata": {},
   "outputs": [],
   "source": [
    "driver.get('https://www.shine.com/')# opening shine page in chrome browser"
   ]
  },
  {
   "cell_type": "code",
   "execution_count": 24,
   "id": "4d9f19af",
   "metadata": {},
   "outputs": [],
   "source": [
    "job_title = driver.find_element(By.CLASS_NAME,\"form-control  \")#entering the job_title and location as required\n",
    "job_title.send_keys('Data Analyst')"
   ]
  },
  {
   "cell_type": "code",
   "execution_count": 27,
   "id": "b90dc075",
   "metadata": {},
   "outputs": [],
   "source": [
    "location = driver.find_element(By.XPATH,\"/html/body/div/div[4]/div/div[2]/div[2]/div/form/div/div[1]/ul/li[2]/div/input\")\n",
    "location.send_keys('Banglore')"
   ]
  },
  {
   "cell_type": "code",
   "execution_count": 30,
   "id": "4f8d3a05",
   "metadata": {},
   "outputs": [],
   "source": [
    "search = driver.find_element(By.CLASS_NAME,\"searchForm_btnWrap_advance__VYBHN\")# enter the serch button\n",
    "search.click()"
   ]
  },
  {
   "cell_type": "code",
   "execution_count": 33,
   "id": "00bfbd15",
   "metadata": {},
   "outputs": [],
   "source": [
    "job_title=[]\n",
    "job_location=[]\n",
    "company_name=[]\n",
    "exe_required=[]\n",
    "\n",
    "\n"
   ]
  },
  {
   "cell_type": "code",
   "execution_count": 35,
   "id": "2e074733",
   "metadata": {},
   "outputs": [],
   "source": [
    "#scraping job title,location,company name, exeperience from the given page\n",
    "start=0\n",
    "end=10\n",
    "title_tags=driver.find_elements(By.XPATH,'//h2[@itemprop=\"name\"]')\n",
    "for i in title_tags(start,end):\n",
    "    title=i.text\n",
    "    job_title.append(title)\n",
    "    \n",
    "location_tags=driver.find_elements(By.XPATH,'//div[@class=\" jobCard_jobCard_lists_item__YxRkV jobCard_locationIcon__zrWt2\"]')\n",
    "for i in location_tags(start,end):\n",
    "    location=i.text\n",
    "    job_location.append(location)\n",
    "    \n",
    "company_tags=driver.find_elements(By.XPATH,'//div[@class=\"jobCard_jobCard_cName__mYnow\"]')\n",
    "for i in company_tags(start,end):\n",
    "    company=i.text\n",
    "    company_name.append(company)\n",
    "    \n",
    "exp_tags=driver.find_elements(By.XPATH,'//div[@class=\" jobCard_jobCard_lists_item__YxRkV jobCard_jobIcon__3FB1t\"]')\n",
    "for i in exp_tags(start,end):\n",
    "    exp=i.text\n",
    "    exe_required.append(exp)"
   ]
  },
  {
   "cell_type": "code",
   "execution_count": null,
   "id": "960a9cc1",
   "metadata": {},
   "outputs": [],
   "source": [
    "print(len(job_title),len(job_location),len(company_name),len(exe_required))"
   ]
  },
  {
   "cell_type": "code",
   "execution_count": 41,
   "id": "4b75aa19",
   "metadata": {},
   "outputs": [
    {
     "data": {
      "text/html": [
       "<div>\n",
       "<style scoped>\n",
       "    .dataframe tbody tr th:only-of-type {\n",
       "        vertical-align: middle;\n",
       "    }\n",
       "\n",
       "    .dataframe tbody tr th {\n",
       "        vertical-align: top;\n",
       "    }\n",
       "\n",
       "    .dataframe thead th {\n",
       "        text-align: right;\n",
       "    }\n",
       "</style>\n",
       "<table border=\"1\" class=\"dataframe\">\n",
       "  <thead>\n",
       "    <tr style=\"text-align: right;\">\n",
       "      <th></th>\n",
       "      <th>TITLE</th>\n",
       "      <th>LOCATION</th>\n",
       "      <th>COMPANY</th>\n",
       "      <th>EXEPERIENCE</th>\n",
       "    </tr>\n",
       "  </thead>\n",
       "  <tbody>\n",
       "    <tr>\n",
       "      <th>0</th>\n",
       "      <td>Data Analyst</td>\n",
       "      <td>Mumbai City\\n+9</td>\n",
       "      <td>sahast sales corporation</td>\n",
       "      <td>12 to 22 Yrs</td>\n",
       "    </tr>\n",
       "    <tr>\n",
       "      <th>1</th>\n",
       "      <td>Clinical Data Analyst</td>\n",
       "      <td>Gurugram\\n+6</td>\n",
       "      <td>techno endura</td>\n",
       "      <td>0 to 1 Yr</td>\n",
       "    </tr>\n",
       "    <tr>\n",
       "      <th>2</th>\n",
       "      <td>Data Analyst</td>\n",
       "      <td>Gurugram\\n+9</td>\n",
       "      <td>sahast sales corporation</td>\n",
       "      <td>12 to 22 Yrs</td>\n",
       "    </tr>\n",
       "    <tr>\n",
       "      <th>3</th>\n",
       "      <td>Hiring For Data Analyst</td>\n",
       "      <td>Oman\\n+12</td>\n",
       "      <td>radhika enterprises</td>\n",
       "      <td>0 to 4 Yrs</td>\n",
       "    </tr>\n",
       "    <tr>\n",
       "      <th>4</th>\n",
       "      <td>Lead Data Analyst</td>\n",
       "      <td>Bangalore</td>\n",
       "      <td>ara resources private limited</td>\n",
       "      <td>4 to 9 Yrs</td>\n",
       "    </tr>\n",
       "    <tr>\n",
       "      <th>5</th>\n",
       "      <td>Data Analyst</td>\n",
       "      <td>Bangalore\\n+3</td>\n",
       "      <td>diraa hr services hiring for mncs</td>\n",
       "      <td>0 to 1 Yr</td>\n",
       "    </tr>\n",
       "    <tr>\n",
       "      <th>6</th>\n",
       "      <td>Technical Data Architect</td>\n",
       "      <td>Bangalore</td>\n",
       "      <td>uprighthc solutions private limited</td>\n",
       "      <td>10 to 20 Yrs</td>\n",
       "    </tr>\n",
       "    <tr>\n",
       "      <th>7</th>\n",
       "      <td>Data Science Architect</td>\n",
       "      <td>Gurugram\\n+4</td>\n",
       "      <td>symphoni hr pvt. ltd.</td>\n",
       "      <td>8 to 10 Yrs</td>\n",
       "    </tr>\n",
       "    <tr>\n",
       "      <th>8</th>\n",
       "      <td>Data Engineer</td>\n",
       "      <td>Bangalore</td>\n",
       "      <td>spm hr solutions</td>\n",
       "      <td>4 to 6 Yrs</td>\n",
       "    </tr>\n",
       "    <tr>\n",
       "      <th>9</th>\n",
       "      <td>Clinical Data Associate</td>\n",
       "      <td>Gurugram\\n+6</td>\n",
       "      <td>techno endura</td>\n",
       "      <td>0 to 1 Yr</td>\n",
       "    </tr>\n",
       "  </tbody>\n",
       "</table>\n",
       "</div>"
      ],
      "text/plain": [
       "                      TITLE         LOCATION  \\\n",
       "0              Data Analyst  Mumbai City\\n+9   \n",
       "1     Clinical Data Analyst     Gurugram\\n+6   \n",
       "2              Data Analyst     Gurugram\\n+9   \n",
       "3   Hiring For Data Analyst        Oman\\n+12   \n",
       "4         Lead Data Analyst        Bangalore   \n",
       "5              Data Analyst    Bangalore\\n+3   \n",
       "6  Technical Data Architect        Bangalore   \n",
       "7    Data Science Architect     Gurugram\\n+4   \n",
       "8             Data Engineer        Bangalore   \n",
       "9   Clinical Data Associate     Gurugram\\n+6   \n",
       "\n",
       "                               COMPANY   EXEPERIENCE  \n",
       "0             sahast sales corporation  12 to 22 Yrs  \n",
       "1                        techno endura     0 to 1 Yr  \n",
       "2             sahast sales corporation  12 to 22 Yrs  \n",
       "3                  radhika enterprises    0 to 4 Yrs  \n",
       "4        ara resources private limited    4 to 9 Yrs  \n",
       "5    diraa hr services hiring for mncs     0 to 1 Yr  \n",
       "6  uprighthc solutions private limited  10 to 20 Yrs  \n",
       "7                symphoni hr pvt. ltd.   8 to 10 Yrs  \n",
       "8                     spm hr solutions    4 to 6 Yrs  \n",
       "9                        techno endura     0 to 1 Yr  "
      ]
     },
     "execution_count": 41,
     "metadata": {},
     "output_type": "execute_result"
    }
   ],
   "source": [
    "df=pd.DataFrame({'TITLE':job_title,'LOCATION':job_location,'COMPANY':company_name,'EXEPERIENCE':exe_required})\n",
    "df.head(10)"
   ]
  },
  {
   "cell_type": "code",
   "execution_count": 75,
   "id": "ce257305",
   "metadata": {},
   "outputs": [],
   "source": [
    "#Q2: Write a python program to scrape data for ““Data Scientist” Job position in “Bangalore” location. You have to scrape the job-title, job-location, company_name, experience_required. You have to scrape first 10 jobs data.\n",
    "driver=webdriver.Chrome()"
   ]
  },
  {
   "cell_type": "code",
   "execution_count": 76,
   "id": "dc178cf1",
   "metadata": {},
   "outputs": [],
   "source": [
    "driver.get('https://www.naukri.com/')# opening naukri page in chrome browser"
   ]
  },
  {
   "cell_type": "code",
   "execution_count": 77,
   "id": "704ef5f9",
   "metadata": {},
   "outputs": [],
   "source": [
    "job_title = driver.find_element(By.CLASS_NAME,\"suggestor-input \")#entering the job_title and location as required\n",
    "job_title.send_keys('Data Scientist')\n",
    "\n"
   ]
  },
  {
   "cell_type": "code",
   "execution_count": null,
   "id": "cab7e301",
   "metadata": {},
   "outputs": [],
   "source": [
    "location = driver.find_element(By.XPATH,\"/html/body/div[1]/div[6]/div/div/div[5]/div/div/div/div[1]/div/input\")\n",
    "location.send_keys('Banglore')\n"
   ]
  },
  {
   "cell_type": "code",
   "execution_count": 79,
   "id": "1d025641",
   "metadata": {},
   "outputs": [],
   "source": [
    "search = driver.find_element(By.CLASS_NAME,\"qsbSubmit\")# enter the serch button\n",
    "search.click()"
   ]
  },
  {
   "cell_type": "code",
   "execution_count": 80,
   "id": "48d12b2e",
   "metadata": {},
   "outputs": [],
   "source": [
    "job_title=[]\n",
    "job_location=[]\n",
    "company_name=[]\n",
    "exe_required=[]\n",
    "\n"
   ]
  },
  {
   "cell_type": "code",
   "execution_count": 81,
   "id": "952e29ae",
   "metadata": {},
   "outputs": [],
   "source": [
    "#scraping job title,location,company name, exeperience from the given page\n",
    "start=0\n",
    "end=10\n",
    "title_tags=driver.find_elements(By.XPATH,'//div[@class=\"cust-job-tuple layout-wrapper lay-2 sjw__tuple \"]/div/a')\n",
    "for i in title_tags(start,end):\n",
    "    title=i.text\n",
    "    job_title.append(title)\n",
    "    \n",
    "location_tags=driver.find_elements(By.XPATH,'//span[@class=\"locWdth\"]')\n",
    "for i in location_tags(start,end):\n",
    "    location=i.text\n",
    "    job_location.append(location)\n",
    "    \n",
    "company_tags=driver.find_elements(By.XPATH,'//div[@class=\" row2\"]/span/a[1]')\n",
    "for i in company_tags(start,end):\n",
    "    company=i.text\n",
    "    company_name.append(company)\n",
    "    \n",
    "exp_tags=driver.find_elements(By.XPATH,'//span[@class=\"expwdth\"]')\n",
    "for i in exp_tags(start,end):\n",
    "    exp=i.text\n",
    "    exe_required.append(exp)"
   ]
  },
  {
   "cell_type": "code",
   "execution_count": null,
   "id": "8b72342c",
   "metadata": {},
   "outputs": [],
   "source": [
    "print(len(job_title),len(job_location),len(company_name),len(exe_required))"
   ]
  },
  {
   "cell_type": "code",
   "execution_count": 73,
   "id": "298a3a50",
   "metadata": {},
   "outputs": [
    {
     "data": {
      "text/html": [
       "<div>\n",
       "<style scoped>\n",
       "    .dataframe tbody tr th:only-of-type {\n",
       "        vertical-align: middle;\n",
       "    }\n",
       "\n",
       "    .dataframe tbody tr th {\n",
       "        vertical-align: top;\n",
       "    }\n",
       "\n",
       "    .dataframe thead th {\n",
       "        text-align: right;\n",
       "    }\n",
       "</style>\n",
       "<table border=\"1\" class=\"dataframe\">\n",
       "  <thead>\n",
       "    <tr style=\"text-align: right;\">\n",
       "      <th></th>\n",
       "      <th>TITLE</th>\n",
       "      <th>LOCATION</th>\n",
       "      <th>COMPANY</th>\n",
       "      <th>EXEPERIENCE</th>\n",
       "    </tr>\n",
       "  </thead>\n",
       "  <tbody>\n",
       "    <tr>\n",
       "      <th>0</th>\n",
       "      <td>Data Scientist-Senior Associate - P&amp;T Labs</td>\n",
       "      <td>Mumbai, Hyderabad, Bengaluru</td>\n",
       "      <td>PwC Service Delivery Center</td>\n",
       "      <td>4-6 Yrs</td>\n",
       "    </tr>\n",
       "    <tr>\n",
       "      <th>1</th>\n",
       "      <td>Senior Data Scientist, Reporting</td>\n",
       "      <td>Kolkata, Mumbai, New Delhi, Hyderabad/Secunder...</td>\n",
       "      <td>Coursera</td>\n",
       "      <td>6-7 Yrs</td>\n",
       "    </tr>\n",
       "    <tr>\n",
       "      <th>2</th>\n",
       "      <td>Data Scientist, Marketing</td>\n",
       "      <td>Kolkata, Mumbai, New Delhi, Hyderabad/Secunder...</td>\n",
       "      <td>Coursera</td>\n",
       "      <td>4-6 Yrs</td>\n",
       "    </tr>\n",
       "    <tr>\n",
       "      <th>3</th>\n",
       "      <td>Sr. Data Scientist</td>\n",
       "      <td>Bengaluru</td>\n",
       "      <td>Visa Inc</td>\n",
       "      <td>0-3 Yrs</td>\n",
       "    </tr>\n",
       "    <tr>\n",
       "      <th>4</th>\n",
       "      <td>Data Scientist</td>\n",
       "      <td>Kolkata, Mumbai, New Delhi, Hyderabad, Pune, C...</td>\n",
       "      <td>Ford</td>\n",
       "      <td>3-6 Yrs</td>\n",
       "    </tr>\n",
       "    <tr>\n",
       "      <th>5</th>\n",
       "      <td>AI Data Scientist</td>\n",
       "      <td>Kolkata, Mumbai, New Delhi, Hyderabad, Pune, C...</td>\n",
       "      <td>Ford</td>\n",
       "      <td>2-6 Yrs</td>\n",
       "    </tr>\n",
       "    <tr>\n",
       "      <th>6</th>\n",
       "      <td>Xoriant is hiring Senior Generative AI Engineer !</td>\n",
       "      <td>Hybrid - Pune, Maharashtra, Bangalore Rural, K...</td>\n",
       "      <td>Xoriant</td>\n",
       "      <td>5-10 Yrs</td>\n",
       "    </tr>\n",
       "    <tr>\n",
       "      <th>7</th>\n",
       "      <td>GenAI Data Scientist</td>\n",
       "      <td>Kolkata, Mumbai, New Delhi, Hyderabad, Pune, C...</td>\n",
       "      <td>Ford</td>\n",
       "      <td>5-6 Yrs</td>\n",
       "    </tr>\n",
       "    <tr>\n",
       "      <th>8</th>\n",
       "      <td>Data Scientist HTHD</td>\n",
       "      <td>Kolkata, Mumbai, New Delhi, Hyderabad, Pune, C...</td>\n",
       "      <td>Ford</td>\n",
       "      <td>1-4 Yrs</td>\n",
       "    </tr>\n",
       "    <tr>\n",
       "      <th>9</th>\n",
       "      <td>Data Scientist (Analytic Engineer)</td>\n",
       "      <td>Bengaluru</td>\n",
       "      <td>Applied Materials</td>\n",
       "      <td>7-10 Yrs</td>\n",
       "    </tr>\n",
       "  </tbody>\n",
       "</table>\n",
       "</div>"
      ],
      "text/plain": [
       "                                               TITLE  \\\n",
       "0         Data Scientist-Senior Associate - P&T Labs   \n",
       "1                   Senior Data Scientist, Reporting   \n",
       "2                          Data Scientist, Marketing   \n",
       "3                                 Sr. Data Scientist   \n",
       "4                                     Data Scientist   \n",
       "5                                  AI Data Scientist   \n",
       "6  Xoriant is hiring Senior Generative AI Engineer !   \n",
       "7                               GenAI Data Scientist   \n",
       "8                                Data Scientist HTHD   \n",
       "9                 Data Scientist (Analytic Engineer)   \n",
       "\n",
       "                                            LOCATION  \\\n",
       "0                       Mumbai, Hyderabad, Bengaluru   \n",
       "1  Kolkata, Mumbai, New Delhi, Hyderabad/Secunder...   \n",
       "2  Kolkata, Mumbai, New Delhi, Hyderabad/Secunder...   \n",
       "3                                          Bengaluru   \n",
       "4  Kolkata, Mumbai, New Delhi, Hyderabad, Pune, C...   \n",
       "5  Kolkata, Mumbai, New Delhi, Hyderabad, Pune, C...   \n",
       "6  Hybrid - Pune, Maharashtra, Bangalore Rural, K...   \n",
       "7  Kolkata, Mumbai, New Delhi, Hyderabad, Pune, C...   \n",
       "8  Kolkata, Mumbai, New Delhi, Hyderabad, Pune, C...   \n",
       "9                                          Bengaluru   \n",
       "\n",
       "                       COMPANY EXEPERIENCE  \n",
       "0  PwC Service Delivery Center     4-6 Yrs  \n",
       "1                     Coursera     6-7 Yrs  \n",
       "2                     Coursera     4-6 Yrs  \n",
       "3                     Visa Inc     0-3 Yrs  \n",
       "4                         Ford     3-6 Yrs  \n",
       "5                         Ford     2-6 Yrs  \n",
       "6                      Xoriant    5-10 Yrs  \n",
       "7                         Ford     5-6 Yrs  \n",
       "8                         Ford     1-4 Yrs  \n",
       "9            Applied Materials    7-10 Yrs  "
      ]
     },
     "execution_count": 73,
     "metadata": {},
     "output_type": "execute_result"
    }
   ],
   "source": [
    "df=pd.DataFrame({'TITLE':job_title,'LOCATION':job_location,'COMPANY':company_name,'EXEPERIENCE':exe_required})\n",
    "df.head(10)"
   ]
  },
  {
   "cell_type": "code",
   "execution_count": 101,
   "id": "88a85e77",
   "metadata": {},
   "outputs": [],
   "source": [
    "#Q3: Scrape data of first 100 sunglasses listings on flipkart.com. You have to scrape four attributes:\n",
    "driver=webdriver.Chrome()"
   ]
  },
  {
   "cell_type": "code",
   "execution_count": 102,
   "id": "2601a25f",
   "metadata": {},
   "outputs": [],
   "source": [
    "driver.get('https://www.flipkart.com/account/login?ret=/')# opening flipkart page in chrome browser"
   ]
  },
  {
   "cell_type": "code",
   "execution_count": 104,
   "id": "38f5cfc0",
   "metadata": {},
   "outputs": [],
   "source": [
    "product = driver.find_element(By.XPATH,\"/html/body/div/div/div[1]/div[1]/div[2]/div[2]/form/div/div/input\")#entering the product name \n",
    "product.send_keys('Sunglasses')\n"
   ]
  },
  {
   "cell_type": "code",
   "execution_count": 105,
   "id": "fcfdb783",
   "metadata": {},
   "outputs": [],
   "source": [
    "search = driver.find_element(By.CLASS_NAME,\"L0Z3Pu\")# enter the serch button\n",
    "search.click()"
   ]
  },
  {
   "cell_type": "code",
   "execution_count": 106,
   "id": "c90bd294",
   "metadata": {},
   "outputs": [],
   "source": [
    "brand=[]\n",
    "productdescription=[]\n",
    "price=[]"
   ]
  },
  {
   "cell_type": "code",
   "execution_count": 107,
   "id": "f8d6f05c",
   "metadata": {},
   "outputs": [],
   "source": [
    "#scraping job title,location,company name, exeperience from the given page\n",
    "\n",
    "brand_tags=driver.find_elements(By.XPATH,'//div[@class=\"G6XhRU\"]')\n",
    "for i in brand_tags:\n",
    "    name=i.text\n",
    "    brand.append(name)\n",
    "    \n",
    "productdescription_tags=driver.find_elements(By.XPATH,'//span[@class=\"B_NuCI\"]')\n",
    "for i in productdescription_tags:\n",
    "    description=i.text\n",
    "    productdescription.append(description)\n",
    "    \n",
    "price_tags=driver.find_elements(By.XPATH,'//div[@class=\"_30jeq3 _16Jk6d\"]')\n",
    "for i in price_tags:\n",
    "    rate=i.text\n",
    "    price.append(rate)"
   ]
  },
  {
   "cell_type": "code",
   "execution_count": 108,
   "id": "2e61dca7",
   "metadata": {},
   "outputs": [],
   "source": [
    "next = driver.find_element(By.CLASS_NAME,\"_1LKTO3\")# click the next button\n",
    "next.click()"
   ]
  },
  {
   "cell_type": "code",
   "execution_count": null,
   "id": "e12881b3",
   "metadata": {},
   "outputs": [],
   "source": [
    "brand=[]\n",
    "productdescription=[]\n",
    "price=[]\n",
    "brand_tags=driver.find_elements(By.XPATH,'//div[@class=\"G6XhRU\"]')\n",
    "for i in brand_tags:\n",
    "    name=i.text\n",
    "    brand.append(name)\n",
    "    \n",
    "productdescription_tags=driver.find_elements(By.XPATH,'//span[@class=\"B_NuCI\"]')\n",
    "for i in productdescription_tags:\n",
    "    description=i.text\n",
    "    productdescription.append(description)\n",
    "    \n",
    "price_tags=driver.find_elements(By.XPATH,'//div[@class=\"_30jeq3 _16Jk6d\"]')\n",
    "for i in price_tags:\n",
    "    rate=i.text\n",
    "    price.append(rate)"
   ]
  },
  {
   "cell_type": "code",
   "execution_count": null,
   "id": "f16983b7",
   "metadata": {},
   "outputs": [],
   "source": [
    "next = driver.find_element(By.CLASS_NAME,\"_1LKTO3\")# click the next button\n",
    "next.click()"
   ]
  },
  {
   "cell_type": "code",
   "execution_count": null,
   "id": "4491e632",
   "metadata": {},
   "outputs": [],
   "source": [
    "brand=[]\n",
    "productdescription=[]\n",
    "price=[]\n",
    "brand_tags=driver.find_elements(By.XPATH,'//div[@class=\"G6XhRU\"]')\n",
    "for i in brand_tags:\n",
    "    name=i.text\n",
    "    brand.append(name)\n",
    "    \n",
    "productdescription_tags=driver.find_elements(By.XPATH,'//span[@class=\"B_NuCI\"]')\n",
    "for i in productdescription_tags:\n",
    "    description=i.text\n",
    "    productdescription.append(description)\n",
    "    \n",
    "price_tags=driver.find_elements(By.XPATH,'//div[@class=\"_30jeq3 _16Jk6d\"]')\n",
    "for i in price_tags:\n",
    "    rate=i.text\n",
    "    price.append(rate)"
   ]
  }
 ],
 "metadata": {
  "kernelspec": {
   "display_name": "Python 3 (ipykernel)",
   "language": "python",
   "name": "python3"
  },
  "language_info": {
   "codemirror_mode": {
    "name": "ipython",
    "version": 3
   },
   "file_extension": ".py",
   "mimetype": "text/x-python",
   "name": "python",
   "nbconvert_exporter": "python",
   "pygments_lexer": "ipython3",
   "version": "3.11.5"
  }
 },
 "nbformat": 4,
 "nbformat_minor": 5
}
